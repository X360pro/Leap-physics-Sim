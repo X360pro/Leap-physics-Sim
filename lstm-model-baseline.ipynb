{
 "cells": [
  {
   "cell_type": "code",
   "execution_count": 1,
   "id": "556e31ab",
   "metadata": {
    "execution": {
     "iopub.execute_input": "2024-05-27T21:00:14.183515Z",
     "iopub.status.busy": "2024-05-27T21:00:14.183160Z",
     "iopub.status.idle": "2024-05-27T21:01:38.500692Z",
     "shell.execute_reply": "2024-05-27T21:01:38.499555Z"
    },
    "papermill": {
     "duration": 84.330357,
     "end_time": "2024-05-27T21:01:38.504299",
     "exception": false,
     "start_time": "2024-05-27T21:00:14.173942",
     "status": "completed"
    },
    "tags": []
   },
   "outputs": [
    {
     "name": "stderr",
     "output_type": "stream",
     "text": [
      "2024-05-27 21:00:15.728747: E external/local_xla/xla/stream_executor/cuda/cuda_dnn.cc:9261] Unable to register cuDNN factory: Attempting to register factory for plugin cuDNN when one has already been registered\n",
      "2024-05-27 21:00:15.728846: E external/local_xla/xla/stream_executor/cuda/cuda_fft.cc:607] Unable to register cuFFT factory: Attempting to register factory for plugin cuFFT when one has already been registered\n",
      "2024-05-27 21:00:15.834323: E external/local_xla/xla/stream_executor/cuda/cuda_blas.cc:1515] Unable to register cuBLAS factory: Attempting to register factory for plugin cuBLAS when one has already been registered\n"
     ]
    }
   ],
   "source": [
    "import numpy as np\n",
    "import tensorflow as tf\n",
    "import pandas as pd\n",
    "from glob import glob\n",
    "from tensorflow.keras.models import Model, Sequential\n",
    "from tensorflow.keras.layers import Input, LSTM, Dense, Dropout, TimeDistributed\n",
    "from sklearn.model_selection import train_test_split\n",
    "from sklearn.preprocessing import StandardScaler\n",
    "from tensorflow.keras.callbacks import EarlyStopping\n",
    "from more_itertools import chunked\n",
    "from sklearn.metrics import r2_score\n",
    "from keras.regularizers import l2\n",
    "from keras.layers import Bidirectional\n",
    "import gc\n",
    "\n",
    "features = ['state_t_0', 'state_t_1', 'state_t_2', 'state_t_3', 'state_t_4', 'state_t_5', 'state_t_6', 'state_t_7', 'state_t_8', 'state_t_9', 'state_t_10', 'state_t_11', 'state_t_12', 'state_t_13', 'state_t_14', 'state_t_15', 'state_t_16', 'state_t_17', 'state_t_18', 'state_t_19', 'state_t_20', 'state_t_21', 'state_t_22', 'state_t_23', 'state_t_24', 'state_t_25', 'state_t_26', 'state_t_27', 'state_t_28', 'state_t_29', 'state_t_30', 'state_t_31', 'state_t_32', 'state_t_33', 'state_t_34', 'state_t_35', 'state_t_36', 'state_t_37', 'state_t_38', 'state_t_39', 'state_t_40', 'state_t_41', 'state_t_42', 'state_t_43', 'state_t_44', 'state_t_45', 'state_t_46', 'state_t_47', 'state_t_48', 'state_t_49', 'state_t_50', 'state_t_51', 'state_t_52', 'state_t_53', 'state_t_54', 'state_t_55', 'state_t_56', 'state_t_57', 'state_t_58', 'state_t_59', 'state_q0001_0', 'state_q0001_1', 'state_q0001_2', 'state_q0001_3', 'state_q0001_4', 'state_q0001_5', 'state_q0001_6', 'state_q0001_7', 'state_q0001_8', 'state_q0001_9', 'state_q0001_10', 'state_q0001_11', 'state_q0001_12', 'state_q0001_13', 'state_q0001_14', 'state_q0001_15', 'state_q0001_16', 'state_q0001_17', 'state_q0001_18', 'state_q0001_19', 'state_q0001_20', 'state_q0001_21', 'state_q0001_22', 'state_q0001_23', 'state_q0001_24', 'state_q0001_25', 'state_q0001_26', 'state_q0001_27', 'state_q0001_28', 'state_q0001_29', 'state_q0001_30', 'state_q0001_31', 'state_q0001_32', 'state_q0001_33', 'state_q0001_34', 'state_q0001_35', 'state_q0001_36', 'state_q0001_37', 'state_q0001_38', 'state_q0001_39', 'state_q0001_40', 'state_q0001_41', 'state_q0001_42', 'state_q0001_43', 'state_q0001_44', 'state_q0001_45', 'state_q0001_46', 'state_q0001_47', 'state_q0001_48', 'state_q0001_49', 'state_q0001_50', 'state_q0001_51', 'state_q0001_52', 'state_q0001_53', 'state_q0001_54', 'state_q0001_55', 'state_q0001_56', 'state_q0001_57', 'state_q0001_58', 'state_q0001_59', 'state_q0002_0', 'state_q0002_1', 'state_q0002_2', 'state_q0002_3', 'state_q0002_4', 'state_q0002_5', 'state_q0002_6', 'state_q0002_7', 'state_q0002_8', 'state_q0002_9', 'state_q0002_10', 'state_q0002_11', 'state_q0002_12', 'state_q0002_13', 'state_q0002_14', 'state_q0002_15', 'state_q0002_16', 'state_q0002_17', 'state_q0002_18', 'state_q0002_19', 'state_q0002_20', 'state_q0002_21', 'state_q0002_22', 'state_q0002_23', 'state_q0002_24', 'state_q0002_25', 'state_q0002_26', 'state_q0002_27', 'state_q0002_28', 'state_q0002_29', 'state_q0002_30', 'state_q0002_31', 'state_q0002_32', 'state_q0002_33', 'state_q0002_34', 'state_q0002_35', 'state_q0002_36', 'state_q0002_37', 'state_q0002_38', 'state_q0002_39', 'state_q0002_40', 'state_q0002_41', 'state_q0002_42', 'state_q0002_43', 'state_q0002_44', 'state_q0002_45', 'state_q0002_46', 'state_q0002_47', 'state_q0002_48', 'state_q0002_49', 'state_q0002_50', 'state_q0002_51', 'state_q0002_52', 'state_q0002_53', 'state_q0002_54', 'state_q0002_55', 'state_q0002_56', 'state_q0002_57', 'state_q0002_58', 'state_q0002_59', 'state_q0003_0', 'state_q0003_1', 'state_q0003_2', 'state_q0003_3', 'state_q0003_4', 'state_q0003_5', 'state_q0003_6', 'state_q0003_7', 'state_q0003_8', 'state_q0003_9', 'state_q0003_10', 'state_q0003_11', 'state_q0003_12', 'state_q0003_13', 'state_q0003_14', 'state_q0003_15', 'state_q0003_16', 'state_q0003_17', 'state_q0003_18', 'state_q0003_19', 'state_q0003_20', 'state_q0003_21', 'state_q0003_22', 'state_q0003_23', 'state_q0003_24', 'state_q0003_25', 'state_q0003_26', 'state_q0003_27', 'state_q0003_28', 'state_q0003_29', 'state_q0003_30', 'state_q0003_31', 'state_q0003_32', 'state_q0003_33', 'state_q0003_34', 'state_q0003_35', 'state_q0003_36', 'state_q0003_37', 'state_q0003_38', 'state_q0003_39', 'state_q0003_40', 'state_q0003_41', 'state_q0003_42', 'state_q0003_43', 'state_q0003_44', 'state_q0003_45', 'state_q0003_46', 'state_q0003_47', 'state_q0003_48', 'state_q0003_49', 'state_q0003_50', 'state_q0003_51', 'state_q0003_52', 'state_q0003_53', 'state_q0003_54', 'state_q0003_55', 'state_q0003_56', 'state_q0003_57', 'state_q0003_58', 'state_q0003_59', 'state_u_0', 'state_u_1', 'state_u_2', 'state_u_3', 'state_u_4', 'state_u_5', 'state_u_6', 'state_u_7', 'state_u_8', 'state_u_9', 'state_u_10', 'state_u_11', 'state_u_12', 'state_u_13', 'state_u_14', 'state_u_15', 'state_u_16', 'state_u_17', 'state_u_18', 'state_u_19', 'state_u_20', 'state_u_21', 'state_u_22', 'state_u_23', 'state_u_24', 'state_u_25', 'state_u_26', 'state_u_27', 'state_u_28', 'state_u_29', 'state_u_30', 'state_u_31', 'state_u_32', 'state_u_33', 'state_u_34', 'state_u_35', 'state_u_36', 'state_u_37', 'state_u_38', 'state_u_39', 'state_u_40', 'state_u_41', 'state_u_42', 'state_u_43', 'state_u_44', 'state_u_45', 'state_u_46', 'state_u_47', 'state_u_48', 'state_u_49', 'state_u_50', 'state_u_51', 'state_u_52', 'state_u_53', 'state_u_54', 'state_u_55', 'state_u_56', 'state_u_57', 'state_u_58', 'state_u_59', 'state_v_0', 'state_v_1', 'state_v_2', 'state_v_3', 'state_v_4', 'state_v_5', 'state_v_6', 'state_v_7', 'state_v_8', 'state_v_9', 'state_v_10', 'state_v_11', 'state_v_12', 'state_v_13', 'state_v_14', 'state_v_15', 'state_v_16', 'state_v_17', 'state_v_18', 'state_v_19', 'state_v_20', 'state_v_21', 'state_v_22', 'state_v_23', 'state_v_24', 'state_v_25', 'state_v_26', 'state_v_27', 'state_v_28', 'state_v_29', 'state_v_30', 'state_v_31', 'state_v_32', 'state_v_33', 'state_v_34', 'state_v_35', 'state_v_36', 'state_v_37', 'state_v_38', 'state_v_39', 'state_v_40', 'state_v_41', 'state_v_42', 'state_v_43', 'state_v_44', 'state_v_45', 'state_v_46', 'state_v_47', 'state_v_48', 'state_v_49', 'state_v_50', 'state_v_51', 'state_v_52', 'state_v_53', 'state_v_54', 'state_v_55', 'state_v_56', 'state_v_57', 'state_v_58', 'state_v_59', 'state_ps', 'pbuf_SOLIN', 'pbuf_LHFLX', 'pbuf_SHFLX', 'pbuf_TAUX', 'pbuf_TAUY', 'pbuf_COSZRS', 'cam_in_ALDIF', 'cam_in_ALDIR', 'cam_in_ASDIF', 'cam_in_ASDIR', 'cam_in_LWUP', 'cam_in_ICEFRAC', 'cam_in_LANDFRAC', 'cam_in_OCNFRAC', 'cam_in_SNOWHLAND', 'pbuf_ozone_0', 'pbuf_ozone_1', 'pbuf_ozone_2', 'pbuf_ozone_3', 'pbuf_ozone_4', 'pbuf_ozone_5', 'pbuf_ozone_6', 'pbuf_ozone_7', 'pbuf_ozone_8', 'pbuf_ozone_9', 'pbuf_ozone_10', 'pbuf_ozone_11', 'pbuf_ozone_12', 'pbuf_ozone_13', 'pbuf_ozone_14', 'pbuf_ozone_15', 'pbuf_ozone_16', 'pbuf_ozone_17', 'pbuf_ozone_18', 'pbuf_ozone_19', 'pbuf_ozone_20', 'pbuf_ozone_21', 'pbuf_ozone_22', 'pbuf_ozone_23', 'pbuf_ozone_24', 'pbuf_ozone_25', 'pbuf_ozone_26', 'pbuf_ozone_27', 'pbuf_ozone_28', 'pbuf_ozone_29', 'pbuf_ozone_30', 'pbuf_ozone_31', 'pbuf_ozone_32', 'pbuf_ozone_33', 'pbuf_ozone_34', 'pbuf_ozone_35', 'pbuf_ozone_36', 'pbuf_ozone_37', 'pbuf_ozone_38', 'pbuf_ozone_39', 'pbuf_ozone_40', 'pbuf_ozone_41', 'pbuf_ozone_42', 'pbuf_ozone_43', 'pbuf_ozone_44', 'pbuf_ozone_45', 'pbuf_ozone_46', 'pbuf_ozone_47', 'pbuf_ozone_48', 'pbuf_ozone_49', 'pbuf_ozone_50', 'pbuf_ozone_51', 'pbuf_ozone_52', 'pbuf_ozone_53', 'pbuf_ozone_54', 'pbuf_ozone_55', 'pbuf_ozone_56', 'pbuf_ozone_57', 'pbuf_ozone_58', 'pbuf_ozone_59', 'pbuf_CH4_0', 'pbuf_CH4_1', 'pbuf_CH4_2', 'pbuf_CH4_3', 'pbuf_CH4_4', 'pbuf_CH4_5', 'pbuf_CH4_6', 'pbuf_CH4_7', 'pbuf_CH4_8', 'pbuf_CH4_9', 'pbuf_CH4_10', 'pbuf_CH4_11', 'pbuf_CH4_12', 'pbuf_CH4_13', 'pbuf_CH4_14', 'pbuf_CH4_15', 'pbuf_CH4_16', 'pbuf_CH4_17', 'pbuf_CH4_18', 'pbuf_CH4_19', 'pbuf_CH4_20', 'pbuf_CH4_21', 'pbuf_CH4_22', 'pbuf_CH4_23', 'pbuf_CH4_24', 'pbuf_CH4_25', 'pbuf_CH4_26', 'pbuf_N2O_0', 'pbuf_N2O_1', 'pbuf_N2O_2', 'pbuf_N2O_3', 'pbuf_N2O_4', 'pbuf_N2O_5', 'pbuf_N2O_6', 'pbuf_N2O_7', 'pbuf_N2O_8', 'pbuf_N2O_9', 'pbuf_N2O_10', 'pbuf_N2O_11', 'pbuf_N2O_12', 'pbuf_N2O_13', 'pbuf_N2O_14', 'pbuf_N2O_15', 'pbuf_N2O_16', 'pbuf_N2O_17', 'pbuf_N2O_18', 'pbuf_N2O_19', 'pbuf_N2O_20', 'pbuf_N2O_21', 'pbuf_N2O_22', 'pbuf_N2O_23', 'pbuf_N2O_24', 'pbuf_N2O_25', 'pbuf_N2O_26']\n",
    "unpredictable_targets = ['ptend_q0002_15', 'ptend_q0002_16', 'ptend_q0002_17', 'ptend_q0002_18', 'ptend_q0002_19', 'ptend_q0002_20', 'ptend_q0002_21', 'ptend_q0002_22']\n",
    "targets = ['ptend_t_0', 'ptend_t_1', 'ptend_t_2', 'ptend_t_3', 'ptend_t_4', 'ptend_t_5', 'ptend_t_6', 'ptend_t_7', 'ptend_t_8', 'ptend_t_9', 'ptend_t_10', 'ptend_t_11', 'ptend_t_12', 'ptend_t_13', 'ptend_t_14', 'ptend_t_15', 'ptend_t_16', 'ptend_t_17', 'ptend_t_18', 'ptend_t_19', 'ptend_t_20', 'ptend_t_21', 'ptend_t_22', 'ptend_t_23', 'ptend_t_24', 'ptend_t_25', 'ptend_t_26', 'ptend_t_27', 'ptend_t_28', 'ptend_t_29', 'ptend_t_30', 'ptend_t_31', 'ptend_t_32', 'ptend_t_33', 'ptend_t_34', 'ptend_t_35', 'ptend_t_36', 'ptend_t_37', 'ptend_t_38', 'ptend_t_39', 'ptend_t_40', 'ptend_t_41', 'ptend_t_42', 'ptend_t_43', 'ptend_t_44', 'ptend_t_45', 'ptend_t_46', 'ptend_t_47', 'ptend_t_48', 'ptend_t_49', 'ptend_t_50', 'ptend_t_51', 'ptend_t_52', 'ptend_t_53', 'ptend_t_54', 'ptend_t_55', 'ptend_t_56', 'ptend_t_57', 'ptend_t_58', 'ptend_t_59', 'ptend_q0001_0', 'ptend_q0001_1', 'ptend_q0001_2', 'ptend_q0001_3', 'ptend_q0001_4', 'ptend_q0001_5', 'ptend_q0001_6', 'ptend_q0001_7', 'ptend_q0001_8', 'ptend_q0001_9', 'ptend_q0001_10', 'ptend_q0001_11', 'ptend_q0001_12', 'ptend_q0001_13', 'ptend_q0001_14', 'ptend_q0001_15', 'ptend_q0001_16', 'ptend_q0001_17', 'ptend_q0001_18', 'ptend_q0001_19', 'ptend_q0001_20', 'ptend_q0001_21', 'ptend_q0001_22', 'ptend_q0001_23', 'ptend_q0001_24', 'ptend_q0001_25', 'ptend_q0001_26', 'ptend_q0001_27', 'ptend_q0001_28', 'ptend_q0001_29', 'ptend_q0001_30', 'ptend_q0001_31', 'ptend_q0001_32', 'ptend_q0001_33', 'ptend_q0001_34', 'ptend_q0001_35', 'ptend_q0001_36', 'ptend_q0001_37', 'ptend_q0001_38', 'ptend_q0001_39', 'ptend_q0001_40', 'ptend_q0001_41', 'ptend_q0001_42', 'ptend_q0001_43', 'ptend_q0001_44', 'ptend_q0001_45', 'ptend_q0001_46', 'ptend_q0001_47', 'ptend_q0001_48', 'ptend_q0001_49', 'ptend_q0001_50', 'ptend_q0001_51', 'ptend_q0001_52', 'ptend_q0001_53', 'ptend_q0001_54', 'ptend_q0001_55', 'ptend_q0001_56', 'ptend_q0001_57', 'ptend_q0001_58', 'ptend_q0001_59', 'ptend_q0002_0', 'ptend_q0002_1', 'ptend_q0002_2', 'ptend_q0002_3', 'ptend_q0002_4', 'ptend_q0002_5', 'ptend_q0002_6', 'ptend_q0002_7', 'ptend_q0002_8', 'ptend_q0002_9', 'ptend_q0002_10', 'ptend_q0002_11', 'ptend_q0002_12', 'ptend_q0002_13', 'ptend_q0002_14', 'ptend_q0002_15', 'ptend_q0002_16', 'ptend_q0002_17', 'ptend_q0002_18', 'ptend_q0002_19', 'ptend_q0002_20', 'ptend_q0002_21', 'ptend_q0002_22', 'ptend_q0002_23', 'ptend_q0002_24', 'ptend_q0002_25', 'ptend_q0002_26', 'ptend_q0002_27', 'ptend_q0002_28', 'ptend_q0002_29', 'ptend_q0002_30', 'ptend_q0002_31', 'ptend_q0002_32', 'ptend_q0002_33', 'ptend_q0002_34', 'ptend_q0002_35', 'ptend_q0002_36', 'ptend_q0002_37', 'ptend_q0002_38', 'ptend_q0002_39', 'ptend_q0002_40', 'ptend_q0002_41', 'ptend_q0002_42', 'ptend_q0002_43', 'ptend_q0002_44', 'ptend_q0002_45', 'ptend_q0002_46', 'ptend_q0002_47', 'ptend_q0002_48', 'ptend_q0002_49', 'ptend_q0002_50', 'ptend_q0002_51', 'ptend_q0002_52', 'ptend_q0002_53', 'ptend_q0002_54', 'ptend_q0002_55', 'ptend_q0002_56', 'ptend_q0002_57', 'ptend_q0002_58', 'ptend_q0002_59', 'ptend_q0003_0', 'ptend_q0003_1', 'ptend_q0003_2', 'ptend_q0003_3', 'ptend_q0003_4', 'ptend_q0003_5', 'ptend_q0003_6', 'ptend_q0003_7', 'ptend_q0003_8', 'ptend_q0003_9', 'ptend_q0003_10', 'ptend_q0003_11', 'ptend_q0003_12', 'ptend_q0003_13', 'ptend_q0003_14', 'ptend_q0003_15', 'ptend_q0003_16', 'ptend_q0003_17', 'ptend_q0003_18', 'ptend_q0003_19', 'ptend_q0003_20', 'ptend_q0003_21', 'ptend_q0003_22', 'ptend_q0003_23', 'ptend_q0003_24', 'ptend_q0003_25', 'ptend_q0003_26', 'ptend_q0003_27', 'ptend_q0003_28', 'ptend_q0003_29', 'ptend_q0003_30', 'ptend_q0003_31', 'ptend_q0003_32', 'ptend_q0003_33', 'ptend_q0003_34', 'ptend_q0003_35', 'ptend_q0003_36', 'ptend_q0003_37', 'ptend_q0003_38', 'ptend_q0003_39', 'ptend_q0003_40', 'ptend_q0003_41', 'ptend_q0003_42', 'ptend_q0003_43', 'ptend_q0003_44', 'ptend_q0003_45', 'ptend_q0003_46', 'ptend_q0003_47', 'ptend_q0003_48', 'ptend_q0003_49', 'ptend_q0003_50', 'ptend_q0003_51', 'ptend_q0003_52', 'ptend_q0003_53', 'ptend_q0003_54', 'ptend_q0003_55', 'ptend_q0003_56', 'ptend_q0003_57', 'ptend_q0003_58', 'ptend_q0003_59', 'ptend_u_0', 'ptend_u_1', 'ptend_u_2', 'ptend_u_3', 'ptend_u_4', 'ptend_u_5', 'ptend_u_6', 'ptend_u_7', 'ptend_u_8', 'ptend_u_9', 'ptend_u_10', 'ptend_u_11', 'ptend_u_12', 'ptend_u_13', 'ptend_u_14', 'ptend_u_15', 'ptend_u_16', 'ptend_u_17', 'ptend_u_18', 'ptend_u_19', 'ptend_u_20', 'ptend_u_21', 'ptend_u_22', 'ptend_u_23', 'ptend_u_24', 'ptend_u_25', 'ptend_u_26', 'ptend_u_27', 'ptend_u_28', 'ptend_u_29', 'ptend_u_30', 'ptend_u_31', 'ptend_u_32', 'ptend_u_33', 'ptend_u_34', 'ptend_u_35', 'ptend_u_36', 'ptend_u_37', 'ptend_u_38', 'ptend_u_39', 'ptend_u_40', 'ptend_u_41', 'ptend_u_42', 'ptend_u_43', 'ptend_u_44', 'ptend_u_45', 'ptend_u_46', 'ptend_u_47', 'ptend_u_48', 'ptend_u_49', 'ptend_u_50', 'ptend_u_51', 'ptend_u_52', 'ptend_u_53', 'ptend_u_54', 'ptend_u_55', 'ptend_u_56', 'ptend_u_57', 'ptend_u_58', 'ptend_u_59', 'ptend_v_0', 'ptend_v_1', 'ptend_v_2', 'ptend_v_3', 'ptend_v_4', 'ptend_v_5', 'ptend_v_6', 'ptend_v_7', 'ptend_v_8', 'ptend_v_9', 'ptend_v_10', 'ptend_v_11', 'ptend_v_12', 'ptend_v_13', 'ptend_v_14', 'ptend_v_15', 'ptend_v_16', 'ptend_v_17', 'ptend_v_18', 'ptend_v_19', 'ptend_v_20', 'ptend_v_21', 'ptend_v_22', 'ptend_v_23', 'ptend_v_24', 'ptend_v_25', 'ptend_v_26', 'ptend_v_27', 'ptend_v_28', 'ptend_v_29', 'ptend_v_30', 'ptend_v_31', 'ptend_v_32', 'ptend_v_33', 'ptend_v_34', 'ptend_v_35', 'ptend_v_36', 'ptend_v_37', 'ptend_v_38', 'ptend_v_39', 'ptend_v_40', 'ptend_v_41', 'ptend_v_42', 'ptend_v_43', 'ptend_v_44', 'ptend_v_45', 'ptend_v_46', 'ptend_v_47', 'ptend_v_48', 'ptend_v_49', 'ptend_v_50', 'ptend_v_51', 'ptend_v_52', 'ptend_v_53', 'ptend_v_54', 'ptend_v_55', 'ptend_v_56', 'ptend_v_57', 'ptend_v_58', 'ptend_v_59', 'cam_out_NETSW', 'cam_out_FLWDS', 'cam_out_PRECSC', 'cam_out_PRECC', 'cam_out_SOLS', 'cam_out_SOLL', 'cam_out_SOLSD', 'cam_out_SOLLD']\n",
    "zero_w_targets = ['ptend_q0001_0', 'ptend_q0001_1', 'ptend_q0001_2', 'ptend_q0001_3', 'ptend_q0001_4', 'ptend_q0001_5', 'ptend_q0001_6', 'ptend_q0001_7', 'ptend_q0001_8', 'ptend_q0001_9', 'ptend_q0001_10', 'ptend_q0001_11', 'ptend_q0002_0', 'ptend_q0002_1', 'ptend_q0002_2', 'ptend_q0002_3', 'ptend_q0002_4', 'ptend_q0002_5', 'ptend_q0002_6', 'ptend_q0002_7', 'ptend_q0002_8', 'ptend_q0002_9', 'ptend_q0002_10', 'ptend_q0002_11', 'ptend_q0002_12', 'ptend_q0002_13', 'ptend_q0002_14', 'ptend_q0003_0', 'ptend_q0003_1', 'ptend_q0003_2', 'ptend_q0003_3', 'ptend_q0003_4', 'ptend_q0003_5', 'ptend_q0003_6', 'ptend_q0003_7', 'ptend_q0003_8', 'ptend_q0003_9', 'ptend_q0003_10', 'ptend_q0003_11', 'ptend_u_0', 'ptend_u_1', 'ptend_u_2', 'ptend_u_3', 'ptend_u_4', 'ptend_u_5', 'ptend_u_6', 'ptend_u_7', 'ptend_u_8', 'ptend_u_9', 'ptend_u_10', 'ptend_u_11', 'ptend_v_0', 'ptend_v_1', 'ptend_v_2', 'ptend_v_3', 'ptend_v_4', 'ptend_v_5', 'ptend_v_6', 'ptend_v_7', 'ptend_v_8', 'ptend_v_9', 'ptend_v_10', 'ptend_v_11']\n",
    "# pred_targets = [tar for tar in targets if tar not in unpredictable_targets and tar not in zero_w_targets]\n",
    "# pred_targets = [tar for tar in targets if tar not in zero_w_targets]\n",
    "\n",
    "train_files = sorted(glob(\"/kaggle/input/leap-dataset-giba/train_batch/*.parquet\"))\n",
    "train = pd.read_parquet(\"/kaggle/input/leap-train-parquet5/train_16.parquet\")\n",
    "\n",
    "test = pd.read_parquet(\"/kaggle/input/leap-dataset-giba/test_batch/0.parquet\")\n",
    "\n",
    "valid = pd.read_parquet(\"/kaggle/input/leap-train-parquet1/train_3.parquet\")\n",
    "\n",
    "weights = pd.read_csv(\"/kaggle/input/leap-atmospheric-physics-ai-climsim/sample_submission.csv\", nrows=1)\n",
    "del weights['sample_id']\n",
    "weights = weights.T\n",
    "weights = weights.to_dict()[0]"
   ]
  },
  {
   "cell_type": "code",
   "execution_count": 2,
   "id": "7bcbb6a1",
   "metadata": {
    "execution": {
     "iopub.execute_input": "2024-05-27T21:01:38.523572Z",
     "iopub.status.busy": "2024-05-27T21:01:38.523292Z",
     "iopub.status.idle": "2024-05-27T21:01:38.530597Z",
     "shell.execute_reply": "2024-05-27T21:01:38.529593Z"
    },
    "papermill": {
     "duration": 0.019021,
     "end_time": "2024-05-27T21:01:38.533169",
     "exception": false,
     "start_time": "2024-05-27T21:01:38.514148",
     "status": "completed"
    },
    "tags": []
   },
   "outputs": [],
   "source": [
    "targets_ptend_t = [('ptend_t_' + str(i)) for i in range(60)]\n",
    "targets_ptend_q0001 = [('ptend_q0001_' + str(i)) for i in range(12,60)]\n",
    "targets_ptend_q0002 = [('ptend_q0002_') + str(i) for i in range(15,60)]\n",
    "targets_ptend_q0003 = [('ptend_q0003_') + str(i) for i in range(12,60)]\n",
    "targets_ptend_u = [('ptend_u_') + str(i) for i in range(12,60)]\n",
    "targets_ptend_v = [('ptend_v_') + str(i) for i in range(12,60)]\n",
    "single_targets = ['cam_out_NETSW', 'cam_out_FLWDS', 'cam_out_PRECSC', 'cam_out_PRECC', 'cam_out_SOLS', 'cam_out_SOLL', 'cam_out_SOLSD', 'cam_out_SOLLD']\n",
    "pred_targets = [targets_ptend_t, targets_ptend_q0001, targets_ptend_q0002, targets_ptend_q0003, targets_ptend_u, targets_ptend_v, single_targets]"
   ]
  },
  {
   "cell_type": "code",
   "execution_count": 3,
   "id": "03d1cb1a",
   "metadata": {
    "execution": {
     "iopub.execute_input": "2024-05-27T21:01:38.555721Z",
     "iopub.status.busy": "2024-05-27T21:01:38.554069Z",
     "iopub.status.idle": "2024-05-27T21:01:38.565470Z",
     "shell.execute_reply": "2024-05-27T21:01:38.564603Z"
    },
    "papermill": {
     "duration": 0.025593,
     "end_time": "2024-05-27T21:01:38.567732",
     "exception": false,
     "start_time": "2024-05-27T21:01:38.542139",
     "status": "completed"
    },
    "tags": []
   },
   "outputs": [],
   "source": [
    "def reshape_data(timesteps, data):\n",
    "    remaining_rows =  data.shape[0] % timesteps\n",
    "    if remaining_rows > 0:\n",
    "        remaining_data = data[((data.shape[0] // timesteps) * timesteps):]\n",
    "        data =  data[:(data.shape[0] // timesteps)*timesteps].reshape(data.shape[0]//timesteps, timesteps, data.shape[1])\n",
    "        # Create padding with zeros\n",
    "        padding_needed = timesteps - remaining_rows\n",
    "        padding = np.zeros((padding_needed, data.shape[2]))\n",
    "        # Pad the remaining data\n",
    "        padded_remaining_data = np.vstack((remaining_data, padding))\n",
    "        # Reshape to match the required dimensions (1, timesteps, y)\n",
    "        padded_remaining_data = padded_remaining_data.reshape(1, timesteps, data.shape[2])\n",
    "        # Append the padded remaining data to the reshaped data\n",
    "        data = np.vstack((data, padded_remaining_data))\n",
    "        del remaining_data, padding_needed, padding, padded_remaining_data\n",
    "    else :\n",
    "        data = data[:(data.shape[0] // timesteps)*timesteps].reshape(data.shape[0] // timesteps, timesteps, data.shape[1])\n",
    "    gc.collect()\n",
    "    return data"
   ]
  },
  {
   "cell_type": "code",
   "execution_count": 4,
   "id": "ecc09f7d",
   "metadata": {
    "execution": {
     "iopub.execute_input": "2024-05-27T21:01:38.585408Z",
     "iopub.status.busy": "2024-05-27T21:01:38.585091Z",
     "iopub.status.idle": "2024-05-27T21:02:05.292451Z",
     "shell.execute_reply": "2024-05-27T21:02:05.291475Z"
    },
    "papermill": {
     "duration": 26.718065,
     "end_time": "2024-05-27T21:02:05.294580",
     "exception": false,
     "start_time": "2024-05-27T21:01:38.576515",
     "status": "completed"
    },
    "tags": []
   },
   "outputs": [
    {
     "data": {
      "text/plain": [
       "0"
      ]
     },
     "execution_count": 4,
     "metadata": {},
     "output_type": "execute_result"
    }
   ],
   "source": [
    "timesteps = 30\n",
    "\n",
    "scaler_y = StandardScaler()\n",
    "scaler_x = StandardScaler()\n",
    "\n",
    "# scaling of train and test features\n",
    "X_train = scaler_x.fit_transform(train[features])\n",
    "X_test = scaler_x.fit_transform(test[features])\n",
    "X_valid = scaler_x.fit_transform(valid[features])\n",
    "\n",
    "# Reshaping train and test for LSTM model\n",
    "X_train = reshape_data(timesteps, X_train)\n",
    "X_test = reshape_data(timesteps, X_test)\n",
    "X_valid = reshape_data(timesteps, X_valid)\n",
    "gc.collect()"
   ]
  },
  {
   "cell_type": "code",
   "execution_count": 5,
   "id": "0422a88c",
   "metadata": {
    "execution": {
     "iopub.execute_input": "2024-05-27T21:02:05.309510Z",
     "iopub.status.busy": "2024-05-27T21:02:05.309214Z",
     "iopub.status.idle": "2024-05-27T21:02:05.314181Z",
     "shell.execute_reply": "2024-05-27T21:02:05.313255Z"
    },
    "papermill": {
     "duration": 0.014692,
     "end_time": "2024-05-27T21:02:05.316231",
     "exception": false,
     "start_time": "2024-05-27T21:02:05.301539",
     "status": "completed"
    },
    "tags": []
   },
   "outputs": [
    {
     "name": "stdout",
     "output_type": "stream",
     "text": [
      "(20834, 30, 490)\n",
      "(20834, 30, 490)\n",
      "(20834, 30, 490)\n"
     ]
    }
   ],
   "source": [
    "print(X_train.shape)\n",
    "print(X_test.shape)\n",
    "print(X_valid.shape)\n",
    "# (20833, 60, 490)\n",
    "# (10416, 60, 490)\n",
    "# (10416, 60, 490)"
   ]
  },
  {
   "cell_type": "code",
   "execution_count": 6,
   "id": "34fce571",
   "metadata": {
    "execution": {
     "iopub.execute_input": "2024-05-27T21:02:05.330259Z",
     "iopub.status.busy": "2024-05-27T21:02:05.329971Z",
     "iopub.status.idle": "2024-05-27T21:02:05.335332Z",
     "shell.execute_reply": "2024-05-27T21:02:05.334470Z"
    },
    "papermill": {
     "duration": 0.014457,
     "end_time": "2024-05-27T21:02:05.337081",
     "exception": false,
     "start_time": "2024-05-27T21:02:05.322624",
     "status": "completed"
    },
    "tags": []
   },
   "outputs": [],
   "source": [
    "def create_model(tars):\n",
    "    model = Sequential()\n",
    "    model.add(LSTM(units=420,return_sequences=True, input_shape=(timesteps, len(features))))\n",
    "#     model.add(Dropout(0.2))\n",
    "    model.add(LSTM(units=340, return_sequences=True))  # Add another LSTM layer\n",
    "#     model.add(Dropout(0.2))\n",
    "    model.add(TimeDistributed(Dense(units=len(tars))))\n",
    "    return model"
   ]
  },
  {
   "cell_type": "code",
   "execution_count": 7,
   "id": "0140bf82",
   "metadata": {
    "execution": {
     "iopub.execute_input": "2024-05-27T21:02:05.351224Z",
     "iopub.status.busy": "2024-05-27T21:02:05.350930Z",
     "iopub.status.idle": "2024-05-27T21:12:40.846564Z",
     "shell.execute_reply": "2024-05-27T21:12:40.845414Z"
    },
    "papermill": {
     "duration": 635.505688,
     "end_time": "2024-05-27T21:12:40.849393",
     "exception": false,
     "start_time": "2024-05-27T21:02:05.343705",
     "status": "completed"
    },
    "tags": []
   },
   "outputs": [
    {
     "name": "stderr",
     "output_type": "stream",
     "text": [
      "/opt/conda/lib/python3.10/site-packages/keras/src/layers/rnn/rnn.py:204: UserWarning: Do not pass an `input_shape`/`input_dim` argument to a layer. When using Sequential models, prefer using an `Input(shape)` object as the first layer in the model instead.\n",
      "  super().__init__(**kwargs)\n"
     ]
    },
    {
     "name": "stdout",
     "output_type": "stream",
     "text": [
      "Training Started\n",
      "\u001b[1m652/652\u001b[0m \u001b[32m━━━━━━━━━━━━━━━━━━━━\u001b[0m\u001b[37m\u001b[0m \u001b[1m3s\u001b[0m 4ms/step\n",
      "R2 Score: 0.6357002814843886\n",
      "\u001b[1m652/652\u001b[0m \u001b[32m━━━━━━━━━━━━━━━━━━━━\u001b[0m\u001b[37m\u001b[0m \u001b[1m2s\u001b[0m 4ms/step\n",
      "Predicted rows :  60\n"
     ]
    },
    {
     "name": "stderr",
     "output_type": "stream",
     "text": [
      "/opt/conda/lib/python3.10/site-packages/keras/src/layers/rnn/rnn.py:204: UserWarning: Do not pass an `input_shape`/`input_dim` argument to a layer. When using Sequential models, prefer using an `Input(shape)` object as the first layer in the model instead.\n",
      "  super().__init__(**kwargs)\n"
     ]
    },
    {
     "name": "stdout",
     "output_type": "stream",
     "text": [
      "Training Started\n",
      "\u001b[1m652/652\u001b[0m \u001b[32m━━━━━━━━━━━━━━━━━━━━\u001b[0m\u001b[37m\u001b[0m \u001b[1m3s\u001b[0m 4ms/step\n",
      "R2 Score: 0.32451020795003227\n",
      "\u001b[1m652/652\u001b[0m \u001b[32m━━━━━━━━━━━━━━━━━━━━\u001b[0m\u001b[37m\u001b[0m \u001b[1m2s\u001b[0m 4ms/step\n"
     ]
    },
    {
     "name": "stderr",
     "output_type": "stream",
     "text": [
      "/tmp/ipykernel_24/1640355729.py:28: PerformanceWarning: DataFrame is highly fragmented.  This is usually the result of calling `frame.insert` many times, which has poor performance.  Consider joining all columns at once using pd.concat(axis=1) instead. To get a de-fragmented frame, use `newframe = frame.copy()`\n",
      "  submission[tars] = pd.DataFrame(scaler_y.inverse_transform(y_pred.reshape(-1, y_pred.shape[2])), columns=tars)\n",
      "/tmp/ipykernel_24/1640355729.py:28: PerformanceWarning: DataFrame is highly fragmented.  This is usually the result of calling `frame.insert` many times, which has poor performance.  Consider joining all columns at once using pd.concat(axis=1) instead. To get a de-fragmented frame, use `newframe = frame.copy()`\n",
      "  submission[tars] = pd.DataFrame(scaler_y.inverse_transform(y_pred.reshape(-1, y_pred.shape[2])), columns=tars)\n",
      "/tmp/ipykernel_24/1640355729.py:28: PerformanceWarning: DataFrame is highly fragmented.  This is usually the result of calling `frame.insert` many times, which has poor performance.  Consider joining all columns at once using pd.concat(axis=1) instead. To get a de-fragmented frame, use `newframe = frame.copy()`\n",
      "  submission[tars] = pd.DataFrame(scaler_y.inverse_transform(y_pred.reshape(-1, y_pred.shape[2])), columns=tars)\n",
      "/tmp/ipykernel_24/1640355729.py:28: PerformanceWarning: DataFrame is highly fragmented.  This is usually the result of calling `frame.insert` many times, which has poor performance.  Consider joining all columns at once using pd.concat(axis=1) instead. To get a de-fragmented frame, use `newframe = frame.copy()`\n",
      "  submission[tars] = pd.DataFrame(scaler_y.inverse_transform(y_pred.reshape(-1, y_pred.shape[2])), columns=tars)\n",
      "/tmp/ipykernel_24/1640355729.py:28: PerformanceWarning: DataFrame is highly fragmented.  This is usually the result of calling `frame.insert` many times, which has poor performance.  Consider joining all columns at once using pd.concat(axis=1) instead. To get a de-fragmented frame, use `newframe = frame.copy()`\n",
      "  submission[tars] = pd.DataFrame(scaler_y.inverse_transform(y_pred.reshape(-1, y_pred.shape[2])), columns=tars)\n",
      "/tmp/ipykernel_24/1640355729.py:28: PerformanceWarning: DataFrame is highly fragmented.  This is usually the result of calling `frame.insert` many times, which has poor performance.  Consider joining all columns at once using pd.concat(axis=1) instead. To get a de-fragmented frame, use `newframe = frame.copy()`\n",
      "  submission[tars] = pd.DataFrame(scaler_y.inverse_transform(y_pred.reshape(-1, y_pred.shape[2])), columns=tars)\n",
      "/tmp/ipykernel_24/1640355729.py:28: PerformanceWarning: DataFrame is highly fragmented.  This is usually the result of calling `frame.insert` many times, which has poor performance.  Consider joining all columns at once using pd.concat(axis=1) instead. To get a de-fragmented frame, use `newframe = frame.copy()`\n",
      "  submission[tars] = pd.DataFrame(scaler_y.inverse_transform(y_pred.reshape(-1, y_pred.shape[2])), columns=tars)\n",
      "/tmp/ipykernel_24/1640355729.py:28: PerformanceWarning: DataFrame is highly fragmented.  This is usually the result of calling `frame.insert` many times, which has poor performance.  Consider joining all columns at once using pd.concat(axis=1) instead. To get a de-fragmented frame, use `newframe = frame.copy()`\n",
      "  submission[tars] = pd.DataFrame(scaler_y.inverse_transform(y_pred.reshape(-1, y_pred.shape[2])), columns=tars)\n"
     ]
    },
    {
     "name": "stdout",
     "output_type": "stream",
     "text": [
      "Predicted rows :  108\n"
     ]
    },
    {
     "name": "stderr",
     "output_type": "stream",
     "text": [
      "/opt/conda/lib/python3.10/site-packages/keras/src/layers/rnn/rnn.py:204: UserWarning: Do not pass an `input_shape`/`input_dim` argument to a layer. When using Sequential models, prefer using an `Input(shape)` object as the first layer in the model instead.\n",
      "  super().__init__(**kwargs)\n"
     ]
    },
    {
     "name": "stdout",
     "output_type": "stream",
     "text": [
      "Training Started\n",
      "\u001b[1m652/652\u001b[0m \u001b[32m━━━━━━━━━━━━━━━━━━━━\u001b[0m\u001b[37m\u001b[0m \u001b[1m3s\u001b[0m 4ms/step\n",
      "R2 Score: 0.22585117100479013\n",
      "\u001b[1m652/652\u001b[0m \u001b[32m━━━━━━━━━━━━━━━━━━━━\u001b[0m\u001b[37m\u001b[0m \u001b[1m2s\u001b[0m 4ms/step\n"
     ]
    },
    {
     "name": "stderr",
     "output_type": "stream",
     "text": [
      "/tmp/ipykernel_24/1640355729.py:28: PerformanceWarning: DataFrame is highly fragmented.  This is usually the result of calling `frame.insert` many times, which has poor performance.  Consider joining all columns at once using pd.concat(axis=1) instead. To get a de-fragmented frame, use `newframe = frame.copy()`\n",
      "  submission[tars] = pd.DataFrame(scaler_y.inverse_transform(y_pred.reshape(-1, y_pred.shape[2])), columns=tars)\n",
      "/tmp/ipykernel_24/1640355729.py:28: PerformanceWarning: DataFrame is highly fragmented.  This is usually the result of calling `frame.insert` many times, which has poor performance.  Consider joining all columns at once using pd.concat(axis=1) instead. To get a de-fragmented frame, use `newframe = frame.copy()`\n",
      "  submission[tars] = pd.DataFrame(scaler_y.inverse_transform(y_pred.reshape(-1, y_pred.shape[2])), columns=tars)\n",
      "/tmp/ipykernel_24/1640355729.py:28: PerformanceWarning: DataFrame is highly fragmented.  This is usually the result of calling `frame.insert` many times, which has poor performance.  Consider joining all columns at once using pd.concat(axis=1) instead. To get a de-fragmented frame, use `newframe = frame.copy()`\n",
      "  submission[tars] = pd.DataFrame(scaler_y.inverse_transform(y_pred.reshape(-1, y_pred.shape[2])), columns=tars)\n",
      "/tmp/ipykernel_24/1640355729.py:28: PerformanceWarning: DataFrame is highly fragmented.  This is usually the result of calling `frame.insert` many times, which has poor performance.  Consider joining all columns at once using pd.concat(axis=1) instead. To get a de-fragmented frame, use `newframe = frame.copy()`\n",
      "  submission[tars] = pd.DataFrame(scaler_y.inverse_transform(y_pred.reshape(-1, y_pred.shape[2])), columns=tars)\n",
      "/tmp/ipykernel_24/1640355729.py:28: PerformanceWarning: DataFrame is highly fragmented.  This is usually the result of calling `frame.insert` many times, which has poor performance.  Consider joining all columns at once using pd.concat(axis=1) instead. To get a de-fragmented frame, use `newframe = frame.copy()`\n",
      "  submission[tars] = pd.DataFrame(scaler_y.inverse_transform(y_pred.reshape(-1, y_pred.shape[2])), columns=tars)\n",
      "/tmp/ipykernel_24/1640355729.py:28: PerformanceWarning: DataFrame is highly fragmented.  This is usually the result of calling `frame.insert` many times, which has poor performance.  Consider joining all columns at once using pd.concat(axis=1) instead. To get a de-fragmented frame, use `newframe = frame.copy()`\n",
      "  submission[tars] = pd.DataFrame(scaler_y.inverse_transform(y_pred.reshape(-1, y_pred.shape[2])), columns=tars)\n",
      "/tmp/ipykernel_24/1640355729.py:28: PerformanceWarning: DataFrame is highly fragmented.  This is usually the result of calling `frame.insert` many times, which has poor performance.  Consider joining all columns at once using pd.concat(axis=1) instead. To get a de-fragmented frame, use `newframe = frame.copy()`\n",
      "  submission[tars] = pd.DataFrame(scaler_y.inverse_transform(y_pred.reshape(-1, y_pred.shape[2])), columns=tars)\n",
      "/tmp/ipykernel_24/1640355729.py:28: PerformanceWarning: DataFrame is highly fragmented.  This is usually the result of calling `frame.insert` many times, which has poor performance.  Consider joining all columns at once using pd.concat(axis=1) instead. To get a de-fragmented frame, use `newframe = frame.copy()`\n",
      "  submission[tars] = pd.DataFrame(scaler_y.inverse_transform(y_pred.reshape(-1, y_pred.shape[2])), columns=tars)\n",
      "/tmp/ipykernel_24/1640355729.py:28: PerformanceWarning: DataFrame is highly fragmented.  This is usually the result of calling `frame.insert` many times, which has poor performance.  Consider joining all columns at once using pd.concat(axis=1) instead. To get a de-fragmented frame, use `newframe = frame.copy()`\n",
      "  submission[tars] = pd.DataFrame(scaler_y.inverse_transform(y_pred.reshape(-1, y_pred.shape[2])), columns=tars)\n",
      "/tmp/ipykernel_24/1640355729.py:28: PerformanceWarning: DataFrame is highly fragmented.  This is usually the result of calling `frame.insert` many times, which has poor performance.  Consider joining all columns at once using pd.concat(axis=1) instead. To get a de-fragmented frame, use `newframe = frame.copy()`\n",
      "  submission[tars] = pd.DataFrame(scaler_y.inverse_transform(y_pred.reshape(-1, y_pred.shape[2])), columns=tars)\n",
      "/tmp/ipykernel_24/1640355729.py:28: PerformanceWarning: DataFrame is highly fragmented.  This is usually the result of calling `frame.insert` many times, which has poor performance.  Consider joining all columns at once using pd.concat(axis=1) instead. To get a de-fragmented frame, use `newframe = frame.copy()`\n",
      "  submission[tars] = pd.DataFrame(scaler_y.inverse_transform(y_pred.reshape(-1, y_pred.shape[2])), columns=tars)\n",
      "/tmp/ipykernel_24/1640355729.py:28: PerformanceWarning: DataFrame is highly fragmented.  This is usually the result of calling `frame.insert` many times, which has poor performance.  Consider joining all columns at once using pd.concat(axis=1) instead. To get a de-fragmented frame, use `newframe = frame.copy()`\n",
      "  submission[tars] = pd.DataFrame(scaler_y.inverse_transform(y_pred.reshape(-1, y_pred.shape[2])), columns=tars)\n",
      "/tmp/ipykernel_24/1640355729.py:28: PerformanceWarning: DataFrame is highly fragmented.  This is usually the result of calling `frame.insert` many times, which has poor performance.  Consider joining all columns at once using pd.concat(axis=1) instead. To get a de-fragmented frame, use `newframe = frame.copy()`\n",
      "  submission[tars] = pd.DataFrame(scaler_y.inverse_transform(y_pred.reshape(-1, y_pred.shape[2])), columns=tars)\n",
      "/tmp/ipykernel_24/1640355729.py:28: PerformanceWarning: DataFrame is highly fragmented.  This is usually the result of calling `frame.insert` many times, which has poor performance.  Consider joining all columns at once using pd.concat(axis=1) instead. To get a de-fragmented frame, use `newframe = frame.copy()`\n",
      "  submission[tars] = pd.DataFrame(scaler_y.inverse_transform(y_pred.reshape(-1, y_pred.shape[2])), columns=tars)\n",
      "/tmp/ipykernel_24/1640355729.py:28: PerformanceWarning: DataFrame is highly fragmented.  This is usually the result of calling `frame.insert` many times, which has poor performance.  Consider joining all columns at once using pd.concat(axis=1) instead. To get a de-fragmented frame, use `newframe = frame.copy()`\n",
      "  submission[tars] = pd.DataFrame(scaler_y.inverse_transform(y_pred.reshape(-1, y_pred.shape[2])), columns=tars)\n",
      "/tmp/ipykernel_24/1640355729.py:28: PerformanceWarning: DataFrame is highly fragmented.  This is usually the result of calling `frame.insert` many times, which has poor performance.  Consider joining all columns at once using pd.concat(axis=1) instead. To get a de-fragmented frame, use `newframe = frame.copy()`\n",
      "  submission[tars] = pd.DataFrame(scaler_y.inverse_transform(y_pred.reshape(-1, y_pred.shape[2])), columns=tars)\n",
      "/tmp/ipykernel_24/1640355729.py:28: PerformanceWarning: DataFrame is highly fragmented.  This is usually the result of calling `frame.insert` many times, which has poor performance.  Consider joining all columns at once using pd.concat(axis=1) instead. To get a de-fragmented frame, use `newframe = frame.copy()`\n",
      "  submission[tars] = pd.DataFrame(scaler_y.inverse_transform(y_pred.reshape(-1, y_pred.shape[2])), columns=tars)\n",
      "/tmp/ipykernel_24/1640355729.py:28: PerformanceWarning: DataFrame is highly fragmented.  This is usually the result of calling `frame.insert` many times, which has poor performance.  Consider joining all columns at once using pd.concat(axis=1) instead. To get a de-fragmented frame, use `newframe = frame.copy()`\n",
      "  submission[tars] = pd.DataFrame(scaler_y.inverse_transform(y_pred.reshape(-1, y_pred.shape[2])), columns=tars)\n",
      "/tmp/ipykernel_24/1640355729.py:28: PerformanceWarning: DataFrame is highly fragmented.  This is usually the result of calling `frame.insert` many times, which has poor performance.  Consider joining all columns at once using pd.concat(axis=1) instead. To get a de-fragmented frame, use `newframe = frame.copy()`\n",
      "  submission[tars] = pd.DataFrame(scaler_y.inverse_transform(y_pred.reshape(-1, y_pred.shape[2])), columns=tars)\n",
      "/tmp/ipykernel_24/1640355729.py:28: PerformanceWarning: DataFrame is highly fragmented.  This is usually the result of calling `frame.insert` many times, which has poor performance.  Consider joining all columns at once using pd.concat(axis=1) instead. To get a de-fragmented frame, use `newframe = frame.copy()`\n",
      "  submission[tars] = pd.DataFrame(scaler_y.inverse_transform(y_pred.reshape(-1, y_pred.shape[2])), columns=tars)\n",
      "/tmp/ipykernel_24/1640355729.py:28: PerformanceWarning: DataFrame is highly fragmented.  This is usually the result of calling `frame.insert` many times, which has poor performance.  Consider joining all columns at once using pd.concat(axis=1) instead. To get a de-fragmented frame, use `newframe = frame.copy()`\n",
      "  submission[tars] = pd.DataFrame(scaler_y.inverse_transform(y_pred.reshape(-1, y_pred.shape[2])), columns=tars)\n",
      "/tmp/ipykernel_24/1640355729.py:28: PerformanceWarning: DataFrame is highly fragmented.  This is usually the result of calling `frame.insert` many times, which has poor performance.  Consider joining all columns at once using pd.concat(axis=1) instead. To get a de-fragmented frame, use `newframe = frame.copy()`\n",
      "  submission[tars] = pd.DataFrame(scaler_y.inverse_transform(y_pred.reshape(-1, y_pred.shape[2])), columns=tars)\n",
      "/tmp/ipykernel_24/1640355729.py:28: PerformanceWarning: DataFrame is highly fragmented.  This is usually the result of calling `frame.insert` many times, which has poor performance.  Consider joining all columns at once using pd.concat(axis=1) instead. To get a de-fragmented frame, use `newframe = frame.copy()`\n",
      "  submission[tars] = pd.DataFrame(scaler_y.inverse_transform(y_pred.reshape(-1, y_pred.shape[2])), columns=tars)\n",
      "/tmp/ipykernel_24/1640355729.py:28: PerformanceWarning: DataFrame is highly fragmented.  This is usually the result of calling `frame.insert` many times, which has poor performance.  Consider joining all columns at once using pd.concat(axis=1) instead. To get a de-fragmented frame, use `newframe = frame.copy()`\n",
      "  submission[tars] = pd.DataFrame(scaler_y.inverse_transform(y_pred.reshape(-1, y_pred.shape[2])), columns=tars)\n",
      "/tmp/ipykernel_24/1640355729.py:28: PerformanceWarning: DataFrame is highly fragmented.  This is usually the result of calling `frame.insert` many times, which has poor performance.  Consider joining all columns at once using pd.concat(axis=1) instead. To get a de-fragmented frame, use `newframe = frame.copy()`\n",
      "  submission[tars] = pd.DataFrame(scaler_y.inverse_transform(y_pred.reshape(-1, y_pred.shape[2])), columns=tars)\n",
      "/tmp/ipykernel_24/1640355729.py:28: PerformanceWarning: DataFrame is highly fragmented.  This is usually the result of calling `frame.insert` many times, which has poor performance.  Consider joining all columns at once using pd.concat(axis=1) instead. To get a de-fragmented frame, use `newframe = frame.copy()`\n",
      "  submission[tars] = pd.DataFrame(scaler_y.inverse_transform(y_pred.reshape(-1, y_pred.shape[2])), columns=tars)\n",
      "/tmp/ipykernel_24/1640355729.py:28: PerformanceWarning: DataFrame is highly fragmented.  This is usually the result of calling `frame.insert` many times, which has poor performance.  Consider joining all columns at once using pd.concat(axis=1) instead. To get a de-fragmented frame, use `newframe = frame.copy()`\n",
      "  submission[tars] = pd.DataFrame(scaler_y.inverse_transform(y_pred.reshape(-1, y_pred.shape[2])), columns=tars)\n",
      "/tmp/ipykernel_24/1640355729.py:28: PerformanceWarning: DataFrame is highly fragmented.  This is usually the result of calling `frame.insert` many times, which has poor performance.  Consider joining all columns at once using pd.concat(axis=1) instead. To get a de-fragmented frame, use `newframe = frame.copy()`\n",
      "  submission[tars] = pd.DataFrame(scaler_y.inverse_transform(y_pred.reshape(-1, y_pred.shape[2])), columns=tars)\n",
      "/tmp/ipykernel_24/1640355729.py:28: PerformanceWarning: DataFrame is highly fragmented.  This is usually the result of calling `frame.insert` many times, which has poor performance.  Consider joining all columns at once using pd.concat(axis=1) instead. To get a de-fragmented frame, use `newframe = frame.copy()`\n",
      "  submission[tars] = pd.DataFrame(scaler_y.inverse_transform(y_pred.reshape(-1, y_pred.shape[2])), columns=tars)\n",
      "/tmp/ipykernel_24/1640355729.py:28: PerformanceWarning: DataFrame is highly fragmented.  This is usually the result of calling `frame.insert` many times, which has poor performance.  Consider joining all columns at once using pd.concat(axis=1) instead. To get a de-fragmented frame, use `newframe = frame.copy()`\n",
      "  submission[tars] = pd.DataFrame(scaler_y.inverse_transform(y_pred.reshape(-1, y_pred.shape[2])), columns=tars)\n",
      "/tmp/ipykernel_24/1640355729.py:28: PerformanceWarning: DataFrame is highly fragmented.  This is usually the result of calling `frame.insert` many times, which has poor performance.  Consider joining all columns at once using pd.concat(axis=1) instead. To get a de-fragmented frame, use `newframe = frame.copy()`\n",
      "  submission[tars] = pd.DataFrame(scaler_y.inverse_transform(y_pred.reshape(-1, y_pred.shape[2])), columns=tars)\n",
      "/tmp/ipykernel_24/1640355729.py:28: PerformanceWarning: DataFrame is highly fragmented.  This is usually the result of calling `frame.insert` many times, which has poor performance.  Consider joining all columns at once using pd.concat(axis=1) instead. To get a de-fragmented frame, use `newframe = frame.copy()`\n",
      "  submission[tars] = pd.DataFrame(scaler_y.inverse_transform(y_pred.reshape(-1, y_pred.shape[2])), columns=tars)\n",
      "/tmp/ipykernel_24/1640355729.py:28: PerformanceWarning: DataFrame is highly fragmented.  This is usually the result of calling `frame.insert` many times, which has poor performance.  Consider joining all columns at once using pd.concat(axis=1) instead. To get a de-fragmented frame, use `newframe = frame.copy()`\n",
      "  submission[tars] = pd.DataFrame(scaler_y.inverse_transform(y_pred.reshape(-1, y_pred.shape[2])), columns=tars)\n",
      "/tmp/ipykernel_24/1640355729.py:28: PerformanceWarning: DataFrame is highly fragmented.  This is usually the result of calling `frame.insert` many times, which has poor performance.  Consider joining all columns at once using pd.concat(axis=1) instead. To get a de-fragmented frame, use `newframe = frame.copy()`\n",
      "  submission[tars] = pd.DataFrame(scaler_y.inverse_transform(y_pred.reshape(-1, y_pred.shape[2])), columns=tars)\n",
      "/tmp/ipykernel_24/1640355729.py:28: PerformanceWarning: DataFrame is highly fragmented.  This is usually the result of calling `frame.insert` many times, which has poor performance.  Consider joining all columns at once using pd.concat(axis=1) instead. To get a de-fragmented frame, use `newframe = frame.copy()`\n",
      "  submission[tars] = pd.DataFrame(scaler_y.inverse_transform(y_pred.reshape(-1, y_pred.shape[2])), columns=tars)\n",
      "/tmp/ipykernel_24/1640355729.py:28: PerformanceWarning: DataFrame is highly fragmented.  This is usually the result of calling `frame.insert` many times, which has poor performance.  Consider joining all columns at once using pd.concat(axis=1) instead. To get a de-fragmented frame, use `newframe = frame.copy()`\n",
      "  submission[tars] = pd.DataFrame(scaler_y.inverse_transform(y_pred.reshape(-1, y_pred.shape[2])), columns=tars)\n",
      "/tmp/ipykernel_24/1640355729.py:28: PerformanceWarning: DataFrame is highly fragmented.  This is usually the result of calling `frame.insert` many times, which has poor performance.  Consider joining all columns at once using pd.concat(axis=1) instead. To get a de-fragmented frame, use `newframe = frame.copy()`\n",
      "  submission[tars] = pd.DataFrame(scaler_y.inverse_transform(y_pred.reshape(-1, y_pred.shape[2])), columns=tars)\n",
      "/tmp/ipykernel_24/1640355729.py:28: PerformanceWarning: DataFrame is highly fragmented.  This is usually the result of calling `frame.insert` many times, which has poor performance.  Consider joining all columns at once using pd.concat(axis=1) instead. To get a de-fragmented frame, use `newframe = frame.copy()`\n",
      "  submission[tars] = pd.DataFrame(scaler_y.inverse_transform(y_pred.reshape(-1, y_pred.shape[2])), columns=tars)\n",
      "/tmp/ipykernel_24/1640355729.py:28: PerformanceWarning: DataFrame is highly fragmented.  This is usually the result of calling `frame.insert` many times, which has poor performance.  Consider joining all columns at once using pd.concat(axis=1) instead. To get a de-fragmented frame, use `newframe = frame.copy()`\n",
      "  submission[tars] = pd.DataFrame(scaler_y.inverse_transform(y_pred.reshape(-1, y_pred.shape[2])), columns=tars)\n",
      "/tmp/ipykernel_24/1640355729.py:28: PerformanceWarning: DataFrame is highly fragmented.  This is usually the result of calling `frame.insert` many times, which has poor performance.  Consider joining all columns at once using pd.concat(axis=1) instead. To get a de-fragmented frame, use `newframe = frame.copy()`\n",
      "  submission[tars] = pd.DataFrame(scaler_y.inverse_transform(y_pred.reshape(-1, y_pred.shape[2])), columns=tars)\n",
      "/tmp/ipykernel_24/1640355729.py:28: PerformanceWarning: DataFrame is highly fragmented.  This is usually the result of calling `frame.insert` many times, which has poor performance.  Consider joining all columns at once using pd.concat(axis=1) instead. To get a de-fragmented frame, use `newframe = frame.copy()`\n",
      "  submission[tars] = pd.DataFrame(scaler_y.inverse_transform(y_pred.reshape(-1, y_pred.shape[2])), columns=tars)\n",
      "/tmp/ipykernel_24/1640355729.py:28: PerformanceWarning: DataFrame is highly fragmented.  This is usually the result of calling `frame.insert` many times, which has poor performance.  Consider joining all columns at once using pd.concat(axis=1) instead. To get a de-fragmented frame, use `newframe = frame.copy()`\n",
      "  submission[tars] = pd.DataFrame(scaler_y.inverse_transform(y_pred.reshape(-1, y_pred.shape[2])), columns=tars)\n",
      "/tmp/ipykernel_24/1640355729.py:28: PerformanceWarning: DataFrame is highly fragmented.  This is usually the result of calling `frame.insert` many times, which has poor performance.  Consider joining all columns at once using pd.concat(axis=1) instead. To get a de-fragmented frame, use `newframe = frame.copy()`\n",
      "  submission[tars] = pd.DataFrame(scaler_y.inverse_transform(y_pred.reshape(-1, y_pred.shape[2])), columns=tars)\n",
      "/tmp/ipykernel_24/1640355729.py:28: PerformanceWarning: DataFrame is highly fragmented.  This is usually the result of calling `frame.insert` many times, which has poor performance.  Consider joining all columns at once using pd.concat(axis=1) instead. To get a de-fragmented frame, use `newframe = frame.copy()`\n",
      "  submission[tars] = pd.DataFrame(scaler_y.inverse_transform(y_pred.reshape(-1, y_pred.shape[2])), columns=tars)\n",
      "/tmp/ipykernel_24/1640355729.py:28: PerformanceWarning: DataFrame is highly fragmented.  This is usually the result of calling `frame.insert` many times, which has poor performance.  Consider joining all columns at once using pd.concat(axis=1) instead. To get a de-fragmented frame, use `newframe = frame.copy()`\n",
      "  submission[tars] = pd.DataFrame(scaler_y.inverse_transform(y_pred.reshape(-1, y_pred.shape[2])), columns=tars)\n"
     ]
    },
    {
     "name": "stdout",
     "output_type": "stream",
     "text": [
      "Predicted rows :  153\n"
     ]
    },
    {
     "name": "stderr",
     "output_type": "stream",
     "text": [
      "/opt/conda/lib/python3.10/site-packages/keras/src/layers/rnn/rnn.py:204: UserWarning: Do not pass an `input_shape`/`input_dim` argument to a layer. When using Sequential models, prefer using an `Input(shape)` object as the first layer in the model instead.\n",
      "  super().__init__(**kwargs)\n"
     ]
    },
    {
     "name": "stdout",
     "output_type": "stream",
     "text": [
      "Training Started\n",
      "\u001b[1m652/652\u001b[0m \u001b[32m━━━━━━━━━━━━━━━━━━━━\u001b[0m\u001b[37m\u001b[0m \u001b[1m3s\u001b[0m 4ms/step\n",
      "R2 Score: 0.23478502326553952\n",
      "\u001b[1m652/652\u001b[0m \u001b[32m━━━━━━━━━━━━━━━━━━━━\u001b[0m\u001b[37m\u001b[0m \u001b[1m2s\u001b[0m 4ms/step\n"
     ]
    },
    {
     "name": "stderr",
     "output_type": "stream",
     "text": [
      "/tmp/ipykernel_24/1640355729.py:28: PerformanceWarning: DataFrame is highly fragmented.  This is usually the result of calling `frame.insert` many times, which has poor performance.  Consider joining all columns at once using pd.concat(axis=1) instead. To get a de-fragmented frame, use `newframe = frame.copy()`\n",
      "  submission[tars] = pd.DataFrame(scaler_y.inverse_transform(y_pred.reshape(-1, y_pred.shape[2])), columns=tars)\n",
      "/tmp/ipykernel_24/1640355729.py:28: PerformanceWarning: DataFrame is highly fragmented.  This is usually the result of calling `frame.insert` many times, which has poor performance.  Consider joining all columns at once using pd.concat(axis=1) instead. To get a de-fragmented frame, use `newframe = frame.copy()`\n",
      "  submission[tars] = pd.DataFrame(scaler_y.inverse_transform(y_pred.reshape(-1, y_pred.shape[2])), columns=tars)\n",
      "/tmp/ipykernel_24/1640355729.py:28: PerformanceWarning: DataFrame is highly fragmented.  This is usually the result of calling `frame.insert` many times, which has poor performance.  Consider joining all columns at once using pd.concat(axis=1) instead. To get a de-fragmented frame, use `newframe = frame.copy()`\n",
      "  submission[tars] = pd.DataFrame(scaler_y.inverse_transform(y_pred.reshape(-1, y_pred.shape[2])), columns=tars)\n",
      "/tmp/ipykernel_24/1640355729.py:28: PerformanceWarning: DataFrame is highly fragmented.  This is usually the result of calling `frame.insert` many times, which has poor performance.  Consider joining all columns at once using pd.concat(axis=1) instead. To get a de-fragmented frame, use `newframe = frame.copy()`\n",
      "  submission[tars] = pd.DataFrame(scaler_y.inverse_transform(y_pred.reshape(-1, y_pred.shape[2])), columns=tars)\n",
      "/tmp/ipykernel_24/1640355729.py:28: PerformanceWarning: DataFrame is highly fragmented.  This is usually the result of calling `frame.insert` many times, which has poor performance.  Consider joining all columns at once using pd.concat(axis=1) instead. To get a de-fragmented frame, use `newframe = frame.copy()`\n",
      "  submission[tars] = pd.DataFrame(scaler_y.inverse_transform(y_pred.reshape(-1, y_pred.shape[2])), columns=tars)\n",
      "/tmp/ipykernel_24/1640355729.py:28: PerformanceWarning: DataFrame is highly fragmented.  This is usually the result of calling `frame.insert` many times, which has poor performance.  Consider joining all columns at once using pd.concat(axis=1) instead. To get a de-fragmented frame, use `newframe = frame.copy()`\n",
      "  submission[tars] = pd.DataFrame(scaler_y.inverse_transform(y_pred.reshape(-1, y_pred.shape[2])), columns=tars)\n",
      "/tmp/ipykernel_24/1640355729.py:28: PerformanceWarning: DataFrame is highly fragmented.  This is usually the result of calling `frame.insert` many times, which has poor performance.  Consider joining all columns at once using pd.concat(axis=1) instead. To get a de-fragmented frame, use `newframe = frame.copy()`\n",
      "  submission[tars] = pd.DataFrame(scaler_y.inverse_transform(y_pred.reshape(-1, y_pred.shape[2])), columns=tars)\n",
      "/tmp/ipykernel_24/1640355729.py:28: PerformanceWarning: DataFrame is highly fragmented.  This is usually the result of calling `frame.insert` many times, which has poor performance.  Consider joining all columns at once using pd.concat(axis=1) instead. To get a de-fragmented frame, use `newframe = frame.copy()`\n",
      "  submission[tars] = pd.DataFrame(scaler_y.inverse_transform(y_pred.reshape(-1, y_pred.shape[2])), columns=tars)\n",
      "/tmp/ipykernel_24/1640355729.py:28: PerformanceWarning: DataFrame is highly fragmented.  This is usually the result of calling `frame.insert` many times, which has poor performance.  Consider joining all columns at once using pd.concat(axis=1) instead. To get a de-fragmented frame, use `newframe = frame.copy()`\n",
      "  submission[tars] = pd.DataFrame(scaler_y.inverse_transform(y_pred.reshape(-1, y_pred.shape[2])), columns=tars)\n",
      "/tmp/ipykernel_24/1640355729.py:28: PerformanceWarning: DataFrame is highly fragmented.  This is usually the result of calling `frame.insert` many times, which has poor performance.  Consider joining all columns at once using pd.concat(axis=1) instead. To get a de-fragmented frame, use `newframe = frame.copy()`\n",
      "  submission[tars] = pd.DataFrame(scaler_y.inverse_transform(y_pred.reshape(-1, y_pred.shape[2])), columns=tars)\n",
      "/tmp/ipykernel_24/1640355729.py:28: PerformanceWarning: DataFrame is highly fragmented.  This is usually the result of calling `frame.insert` many times, which has poor performance.  Consider joining all columns at once using pd.concat(axis=1) instead. To get a de-fragmented frame, use `newframe = frame.copy()`\n",
      "  submission[tars] = pd.DataFrame(scaler_y.inverse_transform(y_pred.reshape(-1, y_pred.shape[2])), columns=tars)\n",
      "/tmp/ipykernel_24/1640355729.py:28: PerformanceWarning: DataFrame is highly fragmented.  This is usually the result of calling `frame.insert` many times, which has poor performance.  Consider joining all columns at once using pd.concat(axis=1) instead. To get a de-fragmented frame, use `newframe = frame.copy()`\n",
      "  submission[tars] = pd.DataFrame(scaler_y.inverse_transform(y_pred.reshape(-1, y_pred.shape[2])), columns=tars)\n",
      "/tmp/ipykernel_24/1640355729.py:28: PerformanceWarning: DataFrame is highly fragmented.  This is usually the result of calling `frame.insert` many times, which has poor performance.  Consider joining all columns at once using pd.concat(axis=1) instead. To get a de-fragmented frame, use `newframe = frame.copy()`\n",
      "  submission[tars] = pd.DataFrame(scaler_y.inverse_transform(y_pred.reshape(-1, y_pred.shape[2])), columns=tars)\n",
      "/tmp/ipykernel_24/1640355729.py:28: PerformanceWarning: DataFrame is highly fragmented.  This is usually the result of calling `frame.insert` many times, which has poor performance.  Consider joining all columns at once using pd.concat(axis=1) instead. To get a de-fragmented frame, use `newframe = frame.copy()`\n",
      "  submission[tars] = pd.DataFrame(scaler_y.inverse_transform(y_pred.reshape(-1, y_pred.shape[2])), columns=tars)\n",
      "/tmp/ipykernel_24/1640355729.py:28: PerformanceWarning: DataFrame is highly fragmented.  This is usually the result of calling `frame.insert` many times, which has poor performance.  Consider joining all columns at once using pd.concat(axis=1) instead. To get a de-fragmented frame, use `newframe = frame.copy()`\n",
      "  submission[tars] = pd.DataFrame(scaler_y.inverse_transform(y_pred.reshape(-1, y_pred.shape[2])), columns=tars)\n",
      "/tmp/ipykernel_24/1640355729.py:28: PerformanceWarning: DataFrame is highly fragmented.  This is usually the result of calling `frame.insert` many times, which has poor performance.  Consider joining all columns at once using pd.concat(axis=1) instead. To get a de-fragmented frame, use `newframe = frame.copy()`\n",
      "  submission[tars] = pd.DataFrame(scaler_y.inverse_transform(y_pred.reshape(-1, y_pred.shape[2])), columns=tars)\n",
      "/tmp/ipykernel_24/1640355729.py:28: PerformanceWarning: DataFrame is highly fragmented.  This is usually the result of calling `frame.insert` many times, which has poor performance.  Consider joining all columns at once using pd.concat(axis=1) instead. To get a de-fragmented frame, use `newframe = frame.copy()`\n",
      "  submission[tars] = pd.DataFrame(scaler_y.inverse_transform(y_pred.reshape(-1, y_pred.shape[2])), columns=tars)\n",
      "/tmp/ipykernel_24/1640355729.py:28: PerformanceWarning: DataFrame is highly fragmented.  This is usually the result of calling `frame.insert` many times, which has poor performance.  Consider joining all columns at once using pd.concat(axis=1) instead. To get a de-fragmented frame, use `newframe = frame.copy()`\n",
      "  submission[tars] = pd.DataFrame(scaler_y.inverse_transform(y_pred.reshape(-1, y_pred.shape[2])), columns=tars)\n",
      "/tmp/ipykernel_24/1640355729.py:28: PerformanceWarning: DataFrame is highly fragmented.  This is usually the result of calling `frame.insert` many times, which has poor performance.  Consider joining all columns at once using pd.concat(axis=1) instead. To get a de-fragmented frame, use `newframe = frame.copy()`\n",
      "  submission[tars] = pd.DataFrame(scaler_y.inverse_transform(y_pred.reshape(-1, y_pred.shape[2])), columns=tars)\n",
      "/tmp/ipykernel_24/1640355729.py:28: PerformanceWarning: DataFrame is highly fragmented.  This is usually the result of calling `frame.insert` many times, which has poor performance.  Consider joining all columns at once using pd.concat(axis=1) instead. To get a de-fragmented frame, use `newframe = frame.copy()`\n",
      "  submission[tars] = pd.DataFrame(scaler_y.inverse_transform(y_pred.reshape(-1, y_pred.shape[2])), columns=tars)\n",
      "/tmp/ipykernel_24/1640355729.py:28: PerformanceWarning: DataFrame is highly fragmented.  This is usually the result of calling `frame.insert` many times, which has poor performance.  Consider joining all columns at once using pd.concat(axis=1) instead. To get a de-fragmented frame, use `newframe = frame.copy()`\n",
      "  submission[tars] = pd.DataFrame(scaler_y.inverse_transform(y_pred.reshape(-1, y_pred.shape[2])), columns=tars)\n",
      "/tmp/ipykernel_24/1640355729.py:28: PerformanceWarning: DataFrame is highly fragmented.  This is usually the result of calling `frame.insert` many times, which has poor performance.  Consider joining all columns at once using pd.concat(axis=1) instead. To get a de-fragmented frame, use `newframe = frame.copy()`\n",
      "  submission[tars] = pd.DataFrame(scaler_y.inverse_transform(y_pred.reshape(-1, y_pred.shape[2])), columns=tars)\n",
      "/tmp/ipykernel_24/1640355729.py:28: PerformanceWarning: DataFrame is highly fragmented.  This is usually the result of calling `frame.insert` many times, which has poor performance.  Consider joining all columns at once using pd.concat(axis=1) instead. To get a de-fragmented frame, use `newframe = frame.copy()`\n",
      "  submission[tars] = pd.DataFrame(scaler_y.inverse_transform(y_pred.reshape(-1, y_pred.shape[2])), columns=tars)\n",
      "/tmp/ipykernel_24/1640355729.py:28: PerformanceWarning: DataFrame is highly fragmented.  This is usually the result of calling `frame.insert` many times, which has poor performance.  Consider joining all columns at once using pd.concat(axis=1) instead. To get a de-fragmented frame, use `newframe = frame.copy()`\n",
      "  submission[tars] = pd.DataFrame(scaler_y.inverse_transform(y_pred.reshape(-1, y_pred.shape[2])), columns=tars)\n",
      "/tmp/ipykernel_24/1640355729.py:28: PerformanceWarning: DataFrame is highly fragmented.  This is usually the result of calling `frame.insert` many times, which has poor performance.  Consider joining all columns at once using pd.concat(axis=1) instead. To get a de-fragmented frame, use `newframe = frame.copy()`\n",
      "  submission[tars] = pd.DataFrame(scaler_y.inverse_transform(y_pred.reshape(-1, y_pred.shape[2])), columns=tars)\n",
      "/tmp/ipykernel_24/1640355729.py:28: PerformanceWarning: DataFrame is highly fragmented.  This is usually the result of calling `frame.insert` many times, which has poor performance.  Consider joining all columns at once using pd.concat(axis=1) instead. To get a de-fragmented frame, use `newframe = frame.copy()`\n",
      "  submission[tars] = pd.DataFrame(scaler_y.inverse_transform(y_pred.reshape(-1, y_pred.shape[2])), columns=tars)\n",
      "/tmp/ipykernel_24/1640355729.py:28: PerformanceWarning: DataFrame is highly fragmented.  This is usually the result of calling `frame.insert` many times, which has poor performance.  Consider joining all columns at once using pd.concat(axis=1) instead. To get a de-fragmented frame, use `newframe = frame.copy()`\n",
      "  submission[tars] = pd.DataFrame(scaler_y.inverse_transform(y_pred.reshape(-1, y_pred.shape[2])), columns=tars)\n",
      "/tmp/ipykernel_24/1640355729.py:28: PerformanceWarning: DataFrame is highly fragmented.  This is usually the result of calling `frame.insert` many times, which has poor performance.  Consider joining all columns at once using pd.concat(axis=1) instead. To get a de-fragmented frame, use `newframe = frame.copy()`\n",
      "  submission[tars] = pd.DataFrame(scaler_y.inverse_transform(y_pred.reshape(-1, y_pred.shape[2])), columns=tars)\n",
      "/tmp/ipykernel_24/1640355729.py:28: PerformanceWarning: DataFrame is highly fragmented.  This is usually the result of calling `frame.insert` many times, which has poor performance.  Consider joining all columns at once using pd.concat(axis=1) instead. To get a de-fragmented frame, use `newframe = frame.copy()`\n",
      "  submission[tars] = pd.DataFrame(scaler_y.inverse_transform(y_pred.reshape(-1, y_pred.shape[2])), columns=tars)\n",
      "/tmp/ipykernel_24/1640355729.py:28: PerformanceWarning: DataFrame is highly fragmented.  This is usually the result of calling `frame.insert` many times, which has poor performance.  Consider joining all columns at once using pd.concat(axis=1) instead. To get a de-fragmented frame, use `newframe = frame.copy()`\n",
      "  submission[tars] = pd.DataFrame(scaler_y.inverse_transform(y_pred.reshape(-1, y_pred.shape[2])), columns=tars)\n",
      "/tmp/ipykernel_24/1640355729.py:28: PerformanceWarning: DataFrame is highly fragmented.  This is usually the result of calling `frame.insert` many times, which has poor performance.  Consider joining all columns at once using pd.concat(axis=1) instead. To get a de-fragmented frame, use `newframe = frame.copy()`\n",
      "  submission[tars] = pd.DataFrame(scaler_y.inverse_transform(y_pred.reshape(-1, y_pred.shape[2])), columns=tars)\n",
      "/tmp/ipykernel_24/1640355729.py:28: PerformanceWarning: DataFrame is highly fragmented.  This is usually the result of calling `frame.insert` many times, which has poor performance.  Consider joining all columns at once using pd.concat(axis=1) instead. To get a de-fragmented frame, use `newframe = frame.copy()`\n",
      "  submission[tars] = pd.DataFrame(scaler_y.inverse_transform(y_pred.reshape(-1, y_pred.shape[2])), columns=tars)\n",
      "/tmp/ipykernel_24/1640355729.py:28: PerformanceWarning: DataFrame is highly fragmented.  This is usually the result of calling `frame.insert` many times, which has poor performance.  Consider joining all columns at once using pd.concat(axis=1) instead. To get a de-fragmented frame, use `newframe = frame.copy()`\n",
      "  submission[tars] = pd.DataFrame(scaler_y.inverse_transform(y_pred.reshape(-1, y_pred.shape[2])), columns=tars)\n",
      "/tmp/ipykernel_24/1640355729.py:28: PerformanceWarning: DataFrame is highly fragmented.  This is usually the result of calling `frame.insert` many times, which has poor performance.  Consider joining all columns at once using pd.concat(axis=1) instead. To get a de-fragmented frame, use `newframe = frame.copy()`\n",
      "  submission[tars] = pd.DataFrame(scaler_y.inverse_transform(y_pred.reshape(-1, y_pred.shape[2])), columns=tars)\n",
      "/tmp/ipykernel_24/1640355729.py:28: PerformanceWarning: DataFrame is highly fragmented.  This is usually the result of calling `frame.insert` many times, which has poor performance.  Consider joining all columns at once using pd.concat(axis=1) instead. To get a de-fragmented frame, use `newframe = frame.copy()`\n",
      "  submission[tars] = pd.DataFrame(scaler_y.inverse_transform(y_pred.reshape(-1, y_pred.shape[2])), columns=tars)\n",
      "/tmp/ipykernel_24/1640355729.py:28: PerformanceWarning: DataFrame is highly fragmented.  This is usually the result of calling `frame.insert` many times, which has poor performance.  Consider joining all columns at once using pd.concat(axis=1) instead. To get a de-fragmented frame, use `newframe = frame.copy()`\n",
      "  submission[tars] = pd.DataFrame(scaler_y.inverse_transform(y_pred.reshape(-1, y_pred.shape[2])), columns=tars)\n",
      "/tmp/ipykernel_24/1640355729.py:28: PerformanceWarning: DataFrame is highly fragmented.  This is usually the result of calling `frame.insert` many times, which has poor performance.  Consider joining all columns at once using pd.concat(axis=1) instead. To get a de-fragmented frame, use `newframe = frame.copy()`\n",
      "  submission[tars] = pd.DataFrame(scaler_y.inverse_transform(y_pred.reshape(-1, y_pred.shape[2])), columns=tars)\n",
      "/tmp/ipykernel_24/1640355729.py:28: PerformanceWarning: DataFrame is highly fragmented.  This is usually the result of calling `frame.insert` many times, which has poor performance.  Consider joining all columns at once using pd.concat(axis=1) instead. To get a de-fragmented frame, use `newframe = frame.copy()`\n",
      "  submission[tars] = pd.DataFrame(scaler_y.inverse_transform(y_pred.reshape(-1, y_pred.shape[2])), columns=tars)\n",
      "/tmp/ipykernel_24/1640355729.py:28: PerformanceWarning: DataFrame is highly fragmented.  This is usually the result of calling `frame.insert` many times, which has poor performance.  Consider joining all columns at once using pd.concat(axis=1) instead. To get a de-fragmented frame, use `newframe = frame.copy()`\n",
      "  submission[tars] = pd.DataFrame(scaler_y.inverse_transform(y_pred.reshape(-1, y_pred.shape[2])), columns=tars)\n",
      "/tmp/ipykernel_24/1640355729.py:28: PerformanceWarning: DataFrame is highly fragmented.  This is usually the result of calling `frame.insert` many times, which has poor performance.  Consider joining all columns at once using pd.concat(axis=1) instead. To get a de-fragmented frame, use `newframe = frame.copy()`\n",
      "  submission[tars] = pd.DataFrame(scaler_y.inverse_transform(y_pred.reshape(-1, y_pred.shape[2])), columns=tars)\n",
      "/tmp/ipykernel_24/1640355729.py:28: PerformanceWarning: DataFrame is highly fragmented.  This is usually the result of calling `frame.insert` many times, which has poor performance.  Consider joining all columns at once using pd.concat(axis=1) instead. To get a de-fragmented frame, use `newframe = frame.copy()`\n",
      "  submission[tars] = pd.DataFrame(scaler_y.inverse_transform(y_pred.reshape(-1, y_pred.shape[2])), columns=tars)\n",
      "/tmp/ipykernel_24/1640355729.py:28: PerformanceWarning: DataFrame is highly fragmented.  This is usually the result of calling `frame.insert` many times, which has poor performance.  Consider joining all columns at once using pd.concat(axis=1) instead. To get a de-fragmented frame, use `newframe = frame.copy()`\n",
      "  submission[tars] = pd.DataFrame(scaler_y.inverse_transform(y_pred.reshape(-1, y_pred.shape[2])), columns=tars)\n",
      "/tmp/ipykernel_24/1640355729.py:28: PerformanceWarning: DataFrame is highly fragmented.  This is usually the result of calling `frame.insert` many times, which has poor performance.  Consider joining all columns at once using pd.concat(axis=1) instead. To get a de-fragmented frame, use `newframe = frame.copy()`\n",
      "  submission[tars] = pd.DataFrame(scaler_y.inverse_transform(y_pred.reshape(-1, y_pred.shape[2])), columns=tars)\n",
      "/tmp/ipykernel_24/1640355729.py:28: PerformanceWarning: DataFrame is highly fragmented.  This is usually the result of calling `frame.insert` many times, which has poor performance.  Consider joining all columns at once using pd.concat(axis=1) instead. To get a de-fragmented frame, use `newframe = frame.copy()`\n",
      "  submission[tars] = pd.DataFrame(scaler_y.inverse_transform(y_pred.reshape(-1, y_pred.shape[2])), columns=tars)\n",
      "/tmp/ipykernel_24/1640355729.py:28: PerformanceWarning: DataFrame is highly fragmented.  This is usually the result of calling `frame.insert` many times, which has poor performance.  Consider joining all columns at once using pd.concat(axis=1) instead. To get a de-fragmented frame, use `newframe = frame.copy()`\n",
      "  submission[tars] = pd.DataFrame(scaler_y.inverse_transform(y_pred.reshape(-1, y_pred.shape[2])), columns=tars)\n",
      "/tmp/ipykernel_24/1640355729.py:28: PerformanceWarning: DataFrame is highly fragmented.  This is usually the result of calling `frame.insert` many times, which has poor performance.  Consider joining all columns at once using pd.concat(axis=1) instead. To get a de-fragmented frame, use `newframe = frame.copy()`\n",
      "  submission[tars] = pd.DataFrame(scaler_y.inverse_transform(y_pred.reshape(-1, y_pred.shape[2])), columns=tars)\n",
      "/tmp/ipykernel_24/1640355729.py:28: PerformanceWarning: DataFrame is highly fragmented.  This is usually the result of calling `frame.insert` many times, which has poor performance.  Consider joining all columns at once using pd.concat(axis=1) instead. To get a de-fragmented frame, use `newframe = frame.copy()`\n",
      "  submission[tars] = pd.DataFrame(scaler_y.inverse_transform(y_pred.reshape(-1, y_pred.shape[2])), columns=tars)\n",
      "/tmp/ipykernel_24/1640355729.py:28: PerformanceWarning: DataFrame is highly fragmented.  This is usually the result of calling `frame.insert` many times, which has poor performance.  Consider joining all columns at once using pd.concat(axis=1) instead. To get a de-fragmented frame, use `newframe = frame.copy()`\n",
      "  submission[tars] = pd.DataFrame(scaler_y.inverse_transform(y_pred.reshape(-1, y_pred.shape[2])), columns=tars)\n"
     ]
    },
    {
     "name": "stdout",
     "output_type": "stream",
     "text": [
      "Predicted rows :  201\n"
     ]
    },
    {
     "name": "stderr",
     "output_type": "stream",
     "text": [
      "/opt/conda/lib/python3.10/site-packages/keras/src/layers/rnn/rnn.py:204: UserWarning: Do not pass an `input_shape`/`input_dim` argument to a layer. When using Sequential models, prefer using an `Input(shape)` object as the first layer in the model instead.\n",
      "  super().__init__(**kwargs)\n"
     ]
    },
    {
     "name": "stdout",
     "output_type": "stream",
     "text": [
      "Training Started\n",
      "\u001b[1m652/652\u001b[0m \u001b[32m━━━━━━━━━━━━━━━━━━━━\u001b[0m\u001b[37m\u001b[0m \u001b[1m3s\u001b[0m 4ms/step\n",
      "R2 Score: 0.2177727682724594\n",
      "\u001b[1m652/652\u001b[0m \u001b[32m━━━━━━━━━━━━━━━━━━━━\u001b[0m\u001b[37m\u001b[0m \u001b[1m2s\u001b[0m 4ms/step\n"
     ]
    },
    {
     "name": "stderr",
     "output_type": "stream",
     "text": [
      "/tmp/ipykernel_24/1640355729.py:28: PerformanceWarning: DataFrame is highly fragmented.  This is usually the result of calling `frame.insert` many times, which has poor performance.  Consider joining all columns at once using pd.concat(axis=1) instead. To get a de-fragmented frame, use `newframe = frame.copy()`\n",
      "  submission[tars] = pd.DataFrame(scaler_y.inverse_transform(y_pred.reshape(-1, y_pred.shape[2])), columns=tars)\n",
      "/tmp/ipykernel_24/1640355729.py:28: PerformanceWarning: DataFrame is highly fragmented.  This is usually the result of calling `frame.insert` many times, which has poor performance.  Consider joining all columns at once using pd.concat(axis=1) instead. To get a de-fragmented frame, use `newframe = frame.copy()`\n",
      "  submission[tars] = pd.DataFrame(scaler_y.inverse_transform(y_pred.reshape(-1, y_pred.shape[2])), columns=tars)\n",
      "/tmp/ipykernel_24/1640355729.py:28: PerformanceWarning: DataFrame is highly fragmented.  This is usually the result of calling `frame.insert` many times, which has poor performance.  Consider joining all columns at once using pd.concat(axis=1) instead. To get a de-fragmented frame, use `newframe = frame.copy()`\n",
      "  submission[tars] = pd.DataFrame(scaler_y.inverse_transform(y_pred.reshape(-1, y_pred.shape[2])), columns=tars)\n",
      "/tmp/ipykernel_24/1640355729.py:28: PerformanceWarning: DataFrame is highly fragmented.  This is usually the result of calling `frame.insert` many times, which has poor performance.  Consider joining all columns at once using pd.concat(axis=1) instead. To get a de-fragmented frame, use `newframe = frame.copy()`\n",
      "  submission[tars] = pd.DataFrame(scaler_y.inverse_transform(y_pred.reshape(-1, y_pred.shape[2])), columns=tars)\n",
      "/tmp/ipykernel_24/1640355729.py:28: PerformanceWarning: DataFrame is highly fragmented.  This is usually the result of calling `frame.insert` many times, which has poor performance.  Consider joining all columns at once using pd.concat(axis=1) instead. To get a de-fragmented frame, use `newframe = frame.copy()`\n",
      "  submission[tars] = pd.DataFrame(scaler_y.inverse_transform(y_pred.reshape(-1, y_pred.shape[2])), columns=tars)\n",
      "/tmp/ipykernel_24/1640355729.py:28: PerformanceWarning: DataFrame is highly fragmented.  This is usually the result of calling `frame.insert` many times, which has poor performance.  Consider joining all columns at once using pd.concat(axis=1) instead. To get a de-fragmented frame, use `newframe = frame.copy()`\n",
      "  submission[tars] = pd.DataFrame(scaler_y.inverse_transform(y_pred.reshape(-1, y_pred.shape[2])), columns=tars)\n",
      "/tmp/ipykernel_24/1640355729.py:28: PerformanceWarning: DataFrame is highly fragmented.  This is usually the result of calling `frame.insert` many times, which has poor performance.  Consider joining all columns at once using pd.concat(axis=1) instead. To get a de-fragmented frame, use `newframe = frame.copy()`\n",
      "  submission[tars] = pd.DataFrame(scaler_y.inverse_transform(y_pred.reshape(-1, y_pred.shape[2])), columns=tars)\n",
      "/tmp/ipykernel_24/1640355729.py:28: PerformanceWarning: DataFrame is highly fragmented.  This is usually the result of calling `frame.insert` many times, which has poor performance.  Consider joining all columns at once using pd.concat(axis=1) instead. To get a de-fragmented frame, use `newframe = frame.copy()`\n",
      "  submission[tars] = pd.DataFrame(scaler_y.inverse_transform(y_pred.reshape(-1, y_pred.shape[2])), columns=tars)\n",
      "/tmp/ipykernel_24/1640355729.py:28: PerformanceWarning: DataFrame is highly fragmented.  This is usually the result of calling `frame.insert` many times, which has poor performance.  Consider joining all columns at once using pd.concat(axis=1) instead. To get a de-fragmented frame, use `newframe = frame.copy()`\n",
      "  submission[tars] = pd.DataFrame(scaler_y.inverse_transform(y_pred.reshape(-1, y_pred.shape[2])), columns=tars)\n",
      "/tmp/ipykernel_24/1640355729.py:28: PerformanceWarning: DataFrame is highly fragmented.  This is usually the result of calling `frame.insert` many times, which has poor performance.  Consider joining all columns at once using pd.concat(axis=1) instead. To get a de-fragmented frame, use `newframe = frame.copy()`\n",
      "  submission[tars] = pd.DataFrame(scaler_y.inverse_transform(y_pred.reshape(-1, y_pred.shape[2])), columns=tars)\n",
      "/tmp/ipykernel_24/1640355729.py:28: PerformanceWarning: DataFrame is highly fragmented.  This is usually the result of calling `frame.insert` many times, which has poor performance.  Consider joining all columns at once using pd.concat(axis=1) instead. To get a de-fragmented frame, use `newframe = frame.copy()`\n",
      "  submission[tars] = pd.DataFrame(scaler_y.inverse_transform(y_pred.reshape(-1, y_pred.shape[2])), columns=tars)\n",
      "/tmp/ipykernel_24/1640355729.py:28: PerformanceWarning: DataFrame is highly fragmented.  This is usually the result of calling `frame.insert` many times, which has poor performance.  Consider joining all columns at once using pd.concat(axis=1) instead. To get a de-fragmented frame, use `newframe = frame.copy()`\n",
      "  submission[tars] = pd.DataFrame(scaler_y.inverse_transform(y_pred.reshape(-1, y_pred.shape[2])), columns=tars)\n",
      "/tmp/ipykernel_24/1640355729.py:28: PerformanceWarning: DataFrame is highly fragmented.  This is usually the result of calling `frame.insert` many times, which has poor performance.  Consider joining all columns at once using pd.concat(axis=1) instead. To get a de-fragmented frame, use `newframe = frame.copy()`\n",
      "  submission[tars] = pd.DataFrame(scaler_y.inverse_transform(y_pred.reshape(-1, y_pred.shape[2])), columns=tars)\n",
      "/tmp/ipykernel_24/1640355729.py:28: PerformanceWarning: DataFrame is highly fragmented.  This is usually the result of calling `frame.insert` many times, which has poor performance.  Consider joining all columns at once using pd.concat(axis=1) instead. To get a de-fragmented frame, use `newframe = frame.copy()`\n",
      "  submission[tars] = pd.DataFrame(scaler_y.inverse_transform(y_pred.reshape(-1, y_pred.shape[2])), columns=tars)\n",
      "/tmp/ipykernel_24/1640355729.py:28: PerformanceWarning: DataFrame is highly fragmented.  This is usually the result of calling `frame.insert` many times, which has poor performance.  Consider joining all columns at once using pd.concat(axis=1) instead. To get a de-fragmented frame, use `newframe = frame.copy()`\n",
      "  submission[tars] = pd.DataFrame(scaler_y.inverse_transform(y_pred.reshape(-1, y_pred.shape[2])), columns=tars)\n",
      "/tmp/ipykernel_24/1640355729.py:28: PerformanceWarning: DataFrame is highly fragmented.  This is usually the result of calling `frame.insert` many times, which has poor performance.  Consider joining all columns at once using pd.concat(axis=1) instead. To get a de-fragmented frame, use `newframe = frame.copy()`\n",
      "  submission[tars] = pd.DataFrame(scaler_y.inverse_transform(y_pred.reshape(-1, y_pred.shape[2])), columns=tars)\n",
      "/tmp/ipykernel_24/1640355729.py:28: PerformanceWarning: DataFrame is highly fragmented.  This is usually the result of calling `frame.insert` many times, which has poor performance.  Consider joining all columns at once using pd.concat(axis=1) instead. To get a de-fragmented frame, use `newframe = frame.copy()`\n",
      "  submission[tars] = pd.DataFrame(scaler_y.inverse_transform(y_pred.reshape(-1, y_pred.shape[2])), columns=tars)\n",
      "/tmp/ipykernel_24/1640355729.py:28: PerformanceWarning: DataFrame is highly fragmented.  This is usually the result of calling `frame.insert` many times, which has poor performance.  Consider joining all columns at once using pd.concat(axis=1) instead. To get a de-fragmented frame, use `newframe = frame.copy()`\n",
      "  submission[tars] = pd.DataFrame(scaler_y.inverse_transform(y_pred.reshape(-1, y_pred.shape[2])), columns=tars)\n",
      "/tmp/ipykernel_24/1640355729.py:28: PerformanceWarning: DataFrame is highly fragmented.  This is usually the result of calling `frame.insert` many times, which has poor performance.  Consider joining all columns at once using pd.concat(axis=1) instead. To get a de-fragmented frame, use `newframe = frame.copy()`\n",
      "  submission[tars] = pd.DataFrame(scaler_y.inverse_transform(y_pred.reshape(-1, y_pred.shape[2])), columns=tars)\n",
      "/tmp/ipykernel_24/1640355729.py:28: PerformanceWarning: DataFrame is highly fragmented.  This is usually the result of calling `frame.insert` many times, which has poor performance.  Consider joining all columns at once using pd.concat(axis=1) instead. To get a de-fragmented frame, use `newframe = frame.copy()`\n",
      "  submission[tars] = pd.DataFrame(scaler_y.inverse_transform(y_pred.reshape(-1, y_pred.shape[2])), columns=tars)\n",
      "/tmp/ipykernel_24/1640355729.py:28: PerformanceWarning: DataFrame is highly fragmented.  This is usually the result of calling `frame.insert` many times, which has poor performance.  Consider joining all columns at once using pd.concat(axis=1) instead. To get a de-fragmented frame, use `newframe = frame.copy()`\n",
      "  submission[tars] = pd.DataFrame(scaler_y.inverse_transform(y_pred.reshape(-1, y_pred.shape[2])), columns=tars)\n",
      "/tmp/ipykernel_24/1640355729.py:28: PerformanceWarning: DataFrame is highly fragmented.  This is usually the result of calling `frame.insert` many times, which has poor performance.  Consider joining all columns at once using pd.concat(axis=1) instead. To get a de-fragmented frame, use `newframe = frame.copy()`\n",
      "  submission[tars] = pd.DataFrame(scaler_y.inverse_transform(y_pred.reshape(-1, y_pred.shape[2])), columns=tars)\n",
      "/tmp/ipykernel_24/1640355729.py:28: PerformanceWarning: DataFrame is highly fragmented.  This is usually the result of calling `frame.insert` many times, which has poor performance.  Consider joining all columns at once using pd.concat(axis=1) instead. To get a de-fragmented frame, use `newframe = frame.copy()`\n",
      "  submission[tars] = pd.DataFrame(scaler_y.inverse_transform(y_pred.reshape(-1, y_pred.shape[2])), columns=tars)\n",
      "/tmp/ipykernel_24/1640355729.py:28: PerformanceWarning: DataFrame is highly fragmented.  This is usually the result of calling `frame.insert` many times, which has poor performance.  Consider joining all columns at once using pd.concat(axis=1) instead. To get a de-fragmented frame, use `newframe = frame.copy()`\n",
      "  submission[tars] = pd.DataFrame(scaler_y.inverse_transform(y_pred.reshape(-1, y_pred.shape[2])), columns=tars)\n",
      "/tmp/ipykernel_24/1640355729.py:28: PerformanceWarning: DataFrame is highly fragmented.  This is usually the result of calling `frame.insert` many times, which has poor performance.  Consider joining all columns at once using pd.concat(axis=1) instead. To get a de-fragmented frame, use `newframe = frame.copy()`\n",
      "  submission[tars] = pd.DataFrame(scaler_y.inverse_transform(y_pred.reshape(-1, y_pred.shape[2])), columns=tars)\n",
      "/tmp/ipykernel_24/1640355729.py:28: PerformanceWarning: DataFrame is highly fragmented.  This is usually the result of calling `frame.insert` many times, which has poor performance.  Consider joining all columns at once using pd.concat(axis=1) instead. To get a de-fragmented frame, use `newframe = frame.copy()`\n",
      "  submission[tars] = pd.DataFrame(scaler_y.inverse_transform(y_pred.reshape(-1, y_pred.shape[2])), columns=tars)\n",
      "/tmp/ipykernel_24/1640355729.py:28: PerformanceWarning: DataFrame is highly fragmented.  This is usually the result of calling `frame.insert` many times, which has poor performance.  Consider joining all columns at once using pd.concat(axis=1) instead. To get a de-fragmented frame, use `newframe = frame.copy()`\n",
      "  submission[tars] = pd.DataFrame(scaler_y.inverse_transform(y_pred.reshape(-1, y_pred.shape[2])), columns=tars)\n",
      "/tmp/ipykernel_24/1640355729.py:28: PerformanceWarning: DataFrame is highly fragmented.  This is usually the result of calling `frame.insert` many times, which has poor performance.  Consider joining all columns at once using pd.concat(axis=1) instead. To get a de-fragmented frame, use `newframe = frame.copy()`\n",
      "  submission[tars] = pd.DataFrame(scaler_y.inverse_transform(y_pred.reshape(-1, y_pred.shape[2])), columns=tars)\n",
      "/tmp/ipykernel_24/1640355729.py:28: PerformanceWarning: DataFrame is highly fragmented.  This is usually the result of calling `frame.insert` many times, which has poor performance.  Consider joining all columns at once using pd.concat(axis=1) instead. To get a de-fragmented frame, use `newframe = frame.copy()`\n",
      "  submission[tars] = pd.DataFrame(scaler_y.inverse_transform(y_pred.reshape(-1, y_pred.shape[2])), columns=tars)\n",
      "/tmp/ipykernel_24/1640355729.py:28: PerformanceWarning: DataFrame is highly fragmented.  This is usually the result of calling `frame.insert` many times, which has poor performance.  Consider joining all columns at once using pd.concat(axis=1) instead. To get a de-fragmented frame, use `newframe = frame.copy()`\n",
      "  submission[tars] = pd.DataFrame(scaler_y.inverse_transform(y_pred.reshape(-1, y_pred.shape[2])), columns=tars)\n",
      "/tmp/ipykernel_24/1640355729.py:28: PerformanceWarning: DataFrame is highly fragmented.  This is usually the result of calling `frame.insert` many times, which has poor performance.  Consider joining all columns at once using pd.concat(axis=1) instead. To get a de-fragmented frame, use `newframe = frame.copy()`\n",
      "  submission[tars] = pd.DataFrame(scaler_y.inverse_transform(y_pred.reshape(-1, y_pred.shape[2])), columns=tars)\n",
      "/tmp/ipykernel_24/1640355729.py:28: PerformanceWarning: DataFrame is highly fragmented.  This is usually the result of calling `frame.insert` many times, which has poor performance.  Consider joining all columns at once using pd.concat(axis=1) instead. To get a de-fragmented frame, use `newframe = frame.copy()`\n",
      "  submission[tars] = pd.DataFrame(scaler_y.inverse_transform(y_pred.reshape(-1, y_pred.shape[2])), columns=tars)\n",
      "/tmp/ipykernel_24/1640355729.py:28: PerformanceWarning: DataFrame is highly fragmented.  This is usually the result of calling `frame.insert` many times, which has poor performance.  Consider joining all columns at once using pd.concat(axis=1) instead. To get a de-fragmented frame, use `newframe = frame.copy()`\n",
      "  submission[tars] = pd.DataFrame(scaler_y.inverse_transform(y_pred.reshape(-1, y_pred.shape[2])), columns=tars)\n",
      "/tmp/ipykernel_24/1640355729.py:28: PerformanceWarning: DataFrame is highly fragmented.  This is usually the result of calling `frame.insert` many times, which has poor performance.  Consider joining all columns at once using pd.concat(axis=1) instead. To get a de-fragmented frame, use `newframe = frame.copy()`\n",
      "  submission[tars] = pd.DataFrame(scaler_y.inverse_transform(y_pred.reshape(-1, y_pred.shape[2])), columns=tars)\n",
      "/tmp/ipykernel_24/1640355729.py:28: PerformanceWarning: DataFrame is highly fragmented.  This is usually the result of calling `frame.insert` many times, which has poor performance.  Consider joining all columns at once using pd.concat(axis=1) instead. To get a de-fragmented frame, use `newframe = frame.copy()`\n",
      "  submission[tars] = pd.DataFrame(scaler_y.inverse_transform(y_pred.reshape(-1, y_pred.shape[2])), columns=tars)\n",
      "/tmp/ipykernel_24/1640355729.py:28: PerformanceWarning: DataFrame is highly fragmented.  This is usually the result of calling `frame.insert` many times, which has poor performance.  Consider joining all columns at once using pd.concat(axis=1) instead. To get a de-fragmented frame, use `newframe = frame.copy()`\n",
      "  submission[tars] = pd.DataFrame(scaler_y.inverse_transform(y_pred.reshape(-1, y_pred.shape[2])), columns=tars)\n",
      "/tmp/ipykernel_24/1640355729.py:28: PerformanceWarning: DataFrame is highly fragmented.  This is usually the result of calling `frame.insert` many times, which has poor performance.  Consider joining all columns at once using pd.concat(axis=1) instead. To get a de-fragmented frame, use `newframe = frame.copy()`\n",
      "  submission[tars] = pd.DataFrame(scaler_y.inverse_transform(y_pred.reshape(-1, y_pred.shape[2])), columns=tars)\n",
      "/tmp/ipykernel_24/1640355729.py:28: PerformanceWarning: DataFrame is highly fragmented.  This is usually the result of calling `frame.insert` many times, which has poor performance.  Consider joining all columns at once using pd.concat(axis=1) instead. To get a de-fragmented frame, use `newframe = frame.copy()`\n",
      "  submission[tars] = pd.DataFrame(scaler_y.inverse_transform(y_pred.reshape(-1, y_pred.shape[2])), columns=tars)\n",
      "/tmp/ipykernel_24/1640355729.py:28: PerformanceWarning: DataFrame is highly fragmented.  This is usually the result of calling `frame.insert` many times, which has poor performance.  Consider joining all columns at once using pd.concat(axis=1) instead. To get a de-fragmented frame, use `newframe = frame.copy()`\n",
      "  submission[tars] = pd.DataFrame(scaler_y.inverse_transform(y_pred.reshape(-1, y_pred.shape[2])), columns=tars)\n",
      "/tmp/ipykernel_24/1640355729.py:28: PerformanceWarning: DataFrame is highly fragmented.  This is usually the result of calling `frame.insert` many times, which has poor performance.  Consider joining all columns at once using pd.concat(axis=1) instead. To get a de-fragmented frame, use `newframe = frame.copy()`\n",
      "  submission[tars] = pd.DataFrame(scaler_y.inverse_transform(y_pred.reshape(-1, y_pred.shape[2])), columns=tars)\n",
      "/tmp/ipykernel_24/1640355729.py:28: PerformanceWarning: DataFrame is highly fragmented.  This is usually the result of calling `frame.insert` many times, which has poor performance.  Consider joining all columns at once using pd.concat(axis=1) instead. To get a de-fragmented frame, use `newframe = frame.copy()`\n",
      "  submission[tars] = pd.DataFrame(scaler_y.inverse_transform(y_pred.reshape(-1, y_pred.shape[2])), columns=tars)\n",
      "/tmp/ipykernel_24/1640355729.py:28: PerformanceWarning: DataFrame is highly fragmented.  This is usually the result of calling `frame.insert` many times, which has poor performance.  Consider joining all columns at once using pd.concat(axis=1) instead. To get a de-fragmented frame, use `newframe = frame.copy()`\n",
      "  submission[tars] = pd.DataFrame(scaler_y.inverse_transform(y_pred.reshape(-1, y_pred.shape[2])), columns=tars)\n",
      "/tmp/ipykernel_24/1640355729.py:28: PerformanceWarning: DataFrame is highly fragmented.  This is usually the result of calling `frame.insert` many times, which has poor performance.  Consider joining all columns at once using pd.concat(axis=1) instead. To get a de-fragmented frame, use `newframe = frame.copy()`\n",
      "  submission[tars] = pd.DataFrame(scaler_y.inverse_transform(y_pred.reshape(-1, y_pred.shape[2])), columns=tars)\n",
      "/tmp/ipykernel_24/1640355729.py:28: PerformanceWarning: DataFrame is highly fragmented.  This is usually the result of calling `frame.insert` many times, which has poor performance.  Consider joining all columns at once using pd.concat(axis=1) instead. To get a de-fragmented frame, use `newframe = frame.copy()`\n",
      "  submission[tars] = pd.DataFrame(scaler_y.inverse_transform(y_pred.reshape(-1, y_pred.shape[2])), columns=tars)\n",
      "/tmp/ipykernel_24/1640355729.py:28: PerformanceWarning: DataFrame is highly fragmented.  This is usually the result of calling `frame.insert` many times, which has poor performance.  Consider joining all columns at once using pd.concat(axis=1) instead. To get a de-fragmented frame, use `newframe = frame.copy()`\n",
      "  submission[tars] = pd.DataFrame(scaler_y.inverse_transform(y_pred.reshape(-1, y_pred.shape[2])), columns=tars)\n",
      "/tmp/ipykernel_24/1640355729.py:28: PerformanceWarning: DataFrame is highly fragmented.  This is usually the result of calling `frame.insert` many times, which has poor performance.  Consider joining all columns at once using pd.concat(axis=1) instead. To get a de-fragmented frame, use `newframe = frame.copy()`\n",
      "  submission[tars] = pd.DataFrame(scaler_y.inverse_transform(y_pred.reshape(-1, y_pred.shape[2])), columns=tars)\n",
      "/tmp/ipykernel_24/1640355729.py:28: PerformanceWarning: DataFrame is highly fragmented.  This is usually the result of calling `frame.insert` many times, which has poor performance.  Consider joining all columns at once using pd.concat(axis=1) instead. To get a de-fragmented frame, use `newframe = frame.copy()`\n",
      "  submission[tars] = pd.DataFrame(scaler_y.inverse_transform(y_pred.reshape(-1, y_pred.shape[2])), columns=tars)\n",
      "/tmp/ipykernel_24/1640355729.py:28: PerformanceWarning: DataFrame is highly fragmented.  This is usually the result of calling `frame.insert` many times, which has poor performance.  Consider joining all columns at once using pd.concat(axis=1) instead. To get a de-fragmented frame, use `newframe = frame.copy()`\n",
      "  submission[tars] = pd.DataFrame(scaler_y.inverse_transform(y_pred.reshape(-1, y_pred.shape[2])), columns=tars)\n"
     ]
    },
    {
     "name": "stdout",
     "output_type": "stream",
     "text": [
      "Predicted rows :  249\n"
     ]
    },
    {
     "name": "stderr",
     "output_type": "stream",
     "text": [
      "/opt/conda/lib/python3.10/site-packages/keras/src/layers/rnn/rnn.py:204: UserWarning: Do not pass an `input_shape`/`input_dim` argument to a layer. When using Sequential models, prefer using an `Input(shape)` object as the first layer in the model instead.\n",
      "  super().__init__(**kwargs)\n"
     ]
    },
    {
     "name": "stdout",
     "output_type": "stream",
     "text": [
      "Training Started\n",
      "\u001b[1m652/652\u001b[0m \u001b[32m━━━━━━━━━━━━━━━━━━━━\u001b[0m\u001b[37m\u001b[0m \u001b[1m3s\u001b[0m 4ms/step\n",
      "R2 Score: 0.3116931274388881\n",
      "\u001b[1m652/652\u001b[0m \u001b[32m━━━━━━━━━━━━━━━━━━━━\u001b[0m\u001b[37m\u001b[0m \u001b[1m2s\u001b[0m 4ms/step\n"
     ]
    },
    {
     "name": "stderr",
     "output_type": "stream",
     "text": [
      "/tmp/ipykernel_24/1640355729.py:28: PerformanceWarning: DataFrame is highly fragmented.  This is usually the result of calling `frame.insert` many times, which has poor performance.  Consider joining all columns at once using pd.concat(axis=1) instead. To get a de-fragmented frame, use `newframe = frame.copy()`\n",
      "  submission[tars] = pd.DataFrame(scaler_y.inverse_transform(y_pred.reshape(-1, y_pred.shape[2])), columns=tars)\n",
      "/tmp/ipykernel_24/1640355729.py:28: PerformanceWarning: DataFrame is highly fragmented.  This is usually the result of calling `frame.insert` many times, which has poor performance.  Consider joining all columns at once using pd.concat(axis=1) instead. To get a de-fragmented frame, use `newframe = frame.copy()`\n",
      "  submission[tars] = pd.DataFrame(scaler_y.inverse_transform(y_pred.reshape(-1, y_pred.shape[2])), columns=tars)\n",
      "/tmp/ipykernel_24/1640355729.py:28: PerformanceWarning: DataFrame is highly fragmented.  This is usually the result of calling `frame.insert` many times, which has poor performance.  Consider joining all columns at once using pd.concat(axis=1) instead. To get a de-fragmented frame, use `newframe = frame.copy()`\n",
      "  submission[tars] = pd.DataFrame(scaler_y.inverse_transform(y_pred.reshape(-1, y_pred.shape[2])), columns=tars)\n",
      "/tmp/ipykernel_24/1640355729.py:28: PerformanceWarning: DataFrame is highly fragmented.  This is usually the result of calling `frame.insert` many times, which has poor performance.  Consider joining all columns at once using pd.concat(axis=1) instead. To get a de-fragmented frame, use `newframe = frame.copy()`\n",
      "  submission[tars] = pd.DataFrame(scaler_y.inverse_transform(y_pred.reshape(-1, y_pred.shape[2])), columns=tars)\n",
      "/tmp/ipykernel_24/1640355729.py:28: PerformanceWarning: DataFrame is highly fragmented.  This is usually the result of calling `frame.insert` many times, which has poor performance.  Consider joining all columns at once using pd.concat(axis=1) instead. To get a de-fragmented frame, use `newframe = frame.copy()`\n",
      "  submission[tars] = pd.DataFrame(scaler_y.inverse_transform(y_pred.reshape(-1, y_pred.shape[2])), columns=tars)\n",
      "/tmp/ipykernel_24/1640355729.py:28: PerformanceWarning: DataFrame is highly fragmented.  This is usually the result of calling `frame.insert` many times, which has poor performance.  Consider joining all columns at once using pd.concat(axis=1) instead. To get a de-fragmented frame, use `newframe = frame.copy()`\n",
      "  submission[tars] = pd.DataFrame(scaler_y.inverse_transform(y_pred.reshape(-1, y_pred.shape[2])), columns=tars)\n",
      "/tmp/ipykernel_24/1640355729.py:28: PerformanceWarning: DataFrame is highly fragmented.  This is usually the result of calling `frame.insert` many times, which has poor performance.  Consider joining all columns at once using pd.concat(axis=1) instead. To get a de-fragmented frame, use `newframe = frame.copy()`\n",
      "  submission[tars] = pd.DataFrame(scaler_y.inverse_transform(y_pred.reshape(-1, y_pred.shape[2])), columns=tars)\n",
      "/tmp/ipykernel_24/1640355729.py:28: PerformanceWarning: DataFrame is highly fragmented.  This is usually the result of calling `frame.insert` many times, which has poor performance.  Consider joining all columns at once using pd.concat(axis=1) instead. To get a de-fragmented frame, use `newframe = frame.copy()`\n",
      "  submission[tars] = pd.DataFrame(scaler_y.inverse_transform(y_pred.reshape(-1, y_pred.shape[2])), columns=tars)\n",
      "/tmp/ipykernel_24/1640355729.py:28: PerformanceWarning: DataFrame is highly fragmented.  This is usually the result of calling `frame.insert` many times, which has poor performance.  Consider joining all columns at once using pd.concat(axis=1) instead. To get a de-fragmented frame, use `newframe = frame.copy()`\n",
      "  submission[tars] = pd.DataFrame(scaler_y.inverse_transform(y_pred.reshape(-1, y_pred.shape[2])), columns=tars)\n",
      "/tmp/ipykernel_24/1640355729.py:28: PerformanceWarning: DataFrame is highly fragmented.  This is usually the result of calling `frame.insert` many times, which has poor performance.  Consider joining all columns at once using pd.concat(axis=1) instead. To get a de-fragmented frame, use `newframe = frame.copy()`\n",
      "  submission[tars] = pd.DataFrame(scaler_y.inverse_transform(y_pred.reshape(-1, y_pred.shape[2])), columns=tars)\n",
      "/tmp/ipykernel_24/1640355729.py:28: PerformanceWarning: DataFrame is highly fragmented.  This is usually the result of calling `frame.insert` many times, which has poor performance.  Consider joining all columns at once using pd.concat(axis=1) instead. To get a de-fragmented frame, use `newframe = frame.copy()`\n",
      "  submission[tars] = pd.DataFrame(scaler_y.inverse_transform(y_pred.reshape(-1, y_pred.shape[2])), columns=tars)\n",
      "/tmp/ipykernel_24/1640355729.py:28: PerformanceWarning: DataFrame is highly fragmented.  This is usually the result of calling `frame.insert` many times, which has poor performance.  Consider joining all columns at once using pd.concat(axis=1) instead. To get a de-fragmented frame, use `newframe = frame.copy()`\n",
      "  submission[tars] = pd.DataFrame(scaler_y.inverse_transform(y_pred.reshape(-1, y_pred.shape[2])), columns=tars)\n",
      "/tmp/ipykernel_24/1640355729.py:28: PerformanceWarning: DataFrame is highly fragmented.  This is usually the result of calling `frame.insert` many times, which has poor performance.  Consider joining all columns at once using pd.concat(axis=1) instead. To get a de-fragmented frame, use `newframe = frame.copy()`\n",
      "  submission[tars] = pd.DataFrame(scaler_y.inverse_transform(y_pred.reshape(-1, y_pred.shape[2])), columns=tars)\n",
      "/tmp/ipykernel_24/1640355729.py:28: PerformanceWarning: DataFrame is highly fragmented.  This is usually the result of calling `frame.insert` many times, which has poor performance.  Consider joining all columns at once using pd.concat(axis=1) instead. To get a de-fragmented frame, use `newframe = frame.copy()`\n",
      "  submission[tars] = pd.DataFrame(scaler_y.inverse_transform(y_pred.reshape(-1, y_pred.shape[2])), columns=tars)\n",
      "/tmp/ipykernel_24/1640355729.py:28: PerformanceWarning: DataFrame is highly fragmented.  This is usually the result of calling `frame.insert` many times, which has poor performance.  Consider joining all columns at once using pd.concat(axis=1) instead. To get a de-fragmented frame, use `newframe = frame.copy()`\n",
      "  submission[tars] = pd.DataFrame(scaler_y.inverse_transform(y_pred.reshape(-1, y_pred.shape[2])), columns=tars)\n",
      "/tmp/ipykernel_24/1640355729.py:28: PerformanceWarning: DataFrame is highly fragmented.  This is usually the result of calling `frame.insert` many times, which has poor performance.  Consider joining all columns at once using pd.concat(axis=1) instead. To get a de-fragmented frame, use `newframe = frame.copy()`\n",
      "  submission[tars] = pd.DataFrame(scaler_y.inverse_transform(y_pred.reshape(-1, y_pred.shape[2])), columns=tars)\n",
      "/tmp/ipykernel_24/1640355729.py:28: PerformanceWarning: DataFrame is highly fragmented.  This is usually the result of calling `frame.insert` many times, which has poor performance.  Consider joining all columns at once using pd.concat(axis=1) instead. To get a de-fragmented frame, use `newframe = frame.copy()`\n",
      "  submission[tars] = pd.DataFrame(scaler_y.inverse_transform(y_pred.reshape(-1, y_pred.shape[2])), columns=tars)\n",
      "/tmp/ipykernel_24/1640355729.py:28: PerformanceWarning: DataFrame is highly fragmented.  This is usually the result of calling `frame.insert` many times, which has poor performance.  Consider joining all columns at once using pd.concat(axis=1) instead. To get a de-fragmented frame, use `newframe = frame.copy()`\n",
      "  submission[tars] = pd.DataFrame(scaler_y.inverse_transform(y_pred.reshape(-1, y_pred.shape[2])), columns=tars)\n",
      "/tmp/ipykernel_24/1640355729.py:28: PerformanceWarning: DataFrame is highly fragmented.  This is usually the result of calling `frame.insert` many times, which has poor performance.  Consider joining all columns at once using pd.concat(axis=1) instead. To get a de-fragmented frame, use `newframe = frame.copy()`\n",
      "  submission[tars] = pd.DataFrame(scaler_y.inverse_transform(y_pred.reshape(-1, y_pred.shape[2])), columns=tars)\n",
      "/tmp/ipykernel_24/1640355729.py:28: PerformanceWarning: DataFrame is highly fragmented.  This is usually the result of calling `frame.insert` many times, which has poor performance.  Consider joining all columns at once using pd.concat(axis=1) instead. To get a de-fragmented frame, use `newframe = frame.copy()`\n",
      "  submission[tars] = pd.DataFrame(scaler_y.inverse_transform(y_pred.reshape(-1, y_pred.shape[2])), columns=tars)\n",
      "/tmp/ipykernel_24/1640355729.py:28: PerformanceWarning: DataFrame is highly fragmented.  This is usually the result of calling `frame.insert` many times, which has poor performance.  Consider joining all columns at once using pd.concat(axis=1) instead. To get a de-fragmented frame, use `newframe = frame.copy()`\n",
      "  submission[tars] = pd.DataFrame(scaler_y.inverse_transform(y_pred.reshape(-1, y_pred.shape[2])), columns=tars)\n",
      "/tmp/ipykernel_24/1640355729.py:28: PerformanceWarning: DataFrame is highly fragmented.  This is usually the result of calling `frame.insert` many times, which has poor performance.  Consider joining all columns at once using pd.concat(axis=1) instead. To get a de-fragmented frame, use `newframe = frame.copy()`\n",
      "  submission[tars] = pd.DataFrame(scaler_y.inverse_transform(y_pred.reshape(-1, y_pred.shape[2])), columns=tars)\n",
      "/tmp/ipykernel_24/1640355729.py:28: PerformanceWarning: DataFrame is highly fragmented.  This is usually the result of calling `frame.insert` many times, which has poor performance.  Consider joining all columns at once using pd.concat(axis=1) instead. To get a de-fragmented frame, use `newframe = frame.copy()`\n",
      "  submission[tars] = pd.DataFrame(scaler_y.inverse_transform(y_pred.reshape(-1, y_pred.shape[2])), columns=tars)\n",
      "/tmp/ipykernel_24/1640355729.py:28: PerformanceWarning: DataFrame is highly fragmented.  This is usually the result of calling `frame.insert` many times, which has poor performance.  Consider joining all columns at once using pd.concat(axis=1) instead. To get a de-fragmented frame, use `newframe = frame.copy()`\n",
      "  submission[tars] = pd.DataFrame(scaler_y.inverse_transform(y_pred.reshape(-1, y_pred.shape[2])), columns=tars)\n",
      "/tmp/ipykernel_24/1640355729.py:28: PerformanceWarning: DataFrame is highly fragmented.  This is usually the result of calling `frame.insert` many times, which has poor performance.  Consider joining all columns at once using pd.concat(axis=1) instead. To get a de-fragmented frame, use `newframe = frame.copy()`\n",
      "  submission[tars] = pd.DataFrame(scaler_y.inverse_transform(y_pred.reshape(-1, y_pred.shape[2])), columns=tars)\n",
      "/tmp/ipykernel_24/1640355729.py:28: PerformanceWarning: DataFrame is highly fragmented.  This is usually the result of calling `frame.insert` many times, which has poor performance.  Consider joining all columns at once using pd.concat(axis=1) instead. To get a de-fragmented frame, use `newframe = frame.copy()`\n",
      "  submission[tars] = pd.DataFrame(scaler_y.inverse_transform(y_pred.reshape(-1, y_pred.shape[2])), columns=tars)\n",
      "/tmp/ipykernel_24/1640355729.py:28: PerformanceWarning: DataFrame is highly fragmented.  This is usually the result of calling `frame.insert` many times, which has poor performance.  Consider joining all columns at once using pd.concat(axis=1) instead. To get a de-fragmented frame, use `newframe = frame.copy()`\n",
      "  submission[tars] = pd.DataFrame(scaler_y.inverse_transform(y_pred.reshape(-1, y_pred.shape[2])), columns=tars)\n",
      "/tmp/ipykernel_24/1640355729.py:28: PerformanceWarning: DataFrame is highly fragmented.  This is usually the result of calling `frame.insert` many times, which has poor performance.  Consider joining all columns at once using pd.concat(axis=1) instead. To get a de-fragmented frame, use `newframe = frame.copy()`\n",
      "  submission[tars] = pd.DataFrame(scaler_y.inverse_transform(y_pred.reshape(-1, y_pred.shape[2])), columns=tars)\n",
      "/tmp/ipykernel_24/1640355729.py:28: PerformanceWarning: DataFrame is highly fragmented.  This is usually the result of calling `frame.insert` many times, which has poor performance.  Consider joining all columns at once using pd.concat(axis=1) instead. To get a de-fragmented frame, use `newframe = frame.copy()`\n",
      "  submission[tars] = pd.DataFrame(scaler_y.inverse_transform(y_pred.reshape(-1, y_pred.shape[2])), columns=tars)\n",
      "/tmp/ipykernel_24/1640355729.py:28: PerformanceWarning: DataFrame is highly fragmented.  This is usually the result of calling `frame.insert` many times, which has poor performance.  Consider joining all columns at once using pd.concat(axis=1) instead. To get a de-fragmented frame, use `newframe = frame.copy()`\n",
      "  submission[tars] = pd.DataFrame(scaler_y.inverse_transform(y_pred.reshape(-1, y_pred.shape[2])), columns=tars)\n",
      "/tmp/ipykernel_24/1640355729.py:28: PerformanceWarning: DataFrame is highly fragmented.  This is usually the result of calling `frame.insert` many times, which has poor performance.  Consider joining all columns at once using pd.concat(axis=1) instead. To get a de-fragmented frame, use `newframe = frame.copy()`\n",
      "  submission[tars] = pd.DataFrame(scaler_y.inverse_transform(y_pred.reshape(-1, y_pred.shape[2])), columns=tars)\n",
      "/tmp/ipykernel_24/1640355729.py:28: PerformanceWarning: DataFrame is highly fragmented.  This is usually the result of calling `frame.insert` many times, which has poor performance.  Consider joining all columns at once using pd.concat(axis=1) instead. To get a de-fragmented frame, use `newframe = frame.copy()`\n",
      "  submission[tars] = pd.DataFrame(scaler_y.inverse_transform(y_pred.reshape(-1, y_pred.shape[2])), columns=tars)\n",
      "/tmp/ipykernel_24/1640355729.py:28: PerformanceWarning: DataFrame is highly fragmented.  This is usually the result of calling `frame.insert` many times, which has poor performance.  Consider joining all columns at once using pd.concat(axis=1) instead. To get a de-fragmented frame, use `newframe = frame.copy()`\n",
      "  submission[tars] = pd.DataFrame(scaler_y.inverse_transform(y_pred.reshape(-1, y_pred.shape[2])), columns=tars)\n",
      "/tmp/ipykernel_24/1640355729.py:28: PerformanceWarning: DataFrame is highly fragmented.  This is usually the result of calling `frame.insert` many times, which has poor performance.  Consider joining all columns at once using pd.concat(axis=1) instead. To get a de-fragmented frame, use `newframe = frame.copy()`\n",
      "  submission[tars] = pd.DataFrame(scaler_y.inverse_transform(y_pred.reshape(-1, y_pred.shape[2])), columns=tars)\n",
      "/tmp/ipykernel_24/1640355729.py:28: PerformanceWarning: DataFrame is highly fragmented.  This is usually the result of calling `frame.insert` many times, which has poor performance.  Consider joining all columns at once using pd.concat(axis=1) instead. To get a de-fragmented frame, use `newframe = frame.copy()`\n",
      "  submission[tars] = pd.DataFrame(scaler_y.inverse_transform(y_pred.reshape(-1, y_pred.shape[2])), columns=tars)\n",
      "/tmp/ipykernel_24/1640355729.py:28: PerformanceWarning: DataFrame is highly fragmented.  This is usually the result of calling `frame.insert` many times, which has poor performance.  Consider joining all columns at once using pd.concat(axis=1) instead. To get a de-fragmented frame, use `newframe = frame.copy()`\n",
      "  submission[tars] = pd.DataFrame(scaler_y.inverse_transform(y_pred.reshape(-1, y_pred.shape[2])), columns=tars)\n",
      "/tmp/ipykernel_24/1640355729.py:28: PerformanceWarning: DataFrame is highly fragmented.  This is usually the result of calling `frame.insert` many times, which has poor performance.  Consider joining all columns at once using pd.concat(axis=1) instead. To get a de-fragmented frame, use `newframe = frame.copy()`\n",
      "  submission[tars] = pd.DataFrame(scaler_y.inverse_transform(y_pred.reshape(-1, y_pred.shape[2])), columns=tars)\n",
      "/tmp/ipykernel_24/1640355729.py:28: PerformanceWarning: DataFrame is highly fragmented.  This is usually the result of calling `frame.insert` many times, which has poor performance.  Consider joining all columns at once using pd.concat(axis=1) instead. To get a de-fragmented frame, use `newframe = frame.copy()`\n",
      "  submission[tars] = pd.DataFrame(scaler_y.inverse_transform(y_pred.reshape(-1, y_pred.shape[2])), columns=tars)\n",
      "/tmp/ipykernel_24/1640355729.py:28: PerformanceWarning: DataFrame is highly fragmented.  This is usually the result of calling `frame.insert` many times, which has poor performance.  Consider joining all columns at once using pd.concat(axis=1) instead. To get a de-fragmented frame, use `newframe = frame.copy()`\n",
      "  submission[tars] = pd.DataFrame(scaler_y.inverse_transform(y_pred.reshape(-1, y_pred.shape[2])), columns=tars)\n",
      "/tmp/ipykernel_24/1640355729.py:28: PerformanceWarning: DataFrame is highly fragmented.  This is usually the result of calling `frame.insert` many times, which has poor performance.  Consider joining all columns at once using pd.concat(axis=1) instead. To get a de-fragmented frame, use `newframe = frame.copy()`\n",
      "  submission[tars] = pd.DataFrame(scaler_y.inverse_transform(y_pred.reshape(-1, y_pred.shape[2])), columns=tars)\n",
      "/tmp/ipykernel_24/1640355729.py:28: PerformanceWarning: DataFrame is highly fragmented.  This is usually the result of calling `frame.insert` many times, which has poor performance.  Consider joining all columns at once using pd.concat(axis=1) instead. To get a de-fragmented frame, use `newframe = frame.copy()`\n",
      "  submission[tars] = pd.DataFrame(scaler_y.inverse_transform(y_pred.reshape(-1, y_pred.shape[2])), columns=tars)\n",
      "/tmp/ipykernel_24/1640355729.py:28: PerformanceWarning: DataFrame is highly fragmented.  This is usually the result of calling `frame.insert` many times, which has poor performance.  Consider joining all columns at once using pd.concat(axis=1) instead. To get a de-fragmented frame, use `newframe = frame.copy()`\n",
      "  submission[tars] = pd.DataFrame(scaler_y.inverse_transform(y_pred.reshape(-1, y_pred.shape[2])), columns=tars)\n",
      "/tmp/ipykernel_24/1640355729.py:28: PerformanceWarning: DataFrame is highly fragmented.  This is usually the result of calling `frame.insert` many times, which has poor performance.  Consider joining all columns at once using pd.concat(axis=1) instead. To get a de-fragmented frame, use `newframe = frame.copy()`\n",
      "  submission[tars] = pd.DataFrame(scaler_y.inverse_transform(y_pred.reshape(-1, y_pred.shape[2])), columns=tars)\n",
      "/tmp/ipykernel_24/1640355729.py:28: PerformanceWarning: DataFrame is highly fragmented.  This is usually the result of calling `frame.insert` many times, which has poor performance.  Consider joining all columns at once using pd.concat(axis=1) instead. To get a de-fragmented frame, use `newframe = frame.copy()`\n",
      "  submission[tars] = pd.DataFrame(scaler_y.inverse_transform(y_pred.reshape(-1, y_pred.shape[2])), columns=tars)\n",
      "/tmp/ipykernel_24/1640355729.py:28: PerformanceWarning: DataFrame is highly fragmented.  This is usually the result of calling `frame.insert` many times, which has poor performance.  Consider joining all columns at once using pd.concat(axis=1) instead. To get a de-fragmented frame, use `newframe = frame.copy()`\n",
      "  submission[tars] = pd.DataFrame(scaler_y.inverse_transform(y_pred.reshape(-1, y_pred.shape[2])), columns=tars)\n",
      "/tmp/ipykernel_24/1640355729.py:28: PerformanceWarning: DataFrame is highly fragmented.  This is usually the result of calling `frame.insert` many times, which has poor performance.  Consider joining all columns at once using pd.concat(axis=1) instead. To get a de-fragmented frame, use `newframe = frame.copy()`\n",
      "  submission[tars] = pd.DataFrame(scaler_y.inverse_transform(y_pred.reshape(-1, y_pred.shape[2])), columns=tars)\n",
      "/tmp/ipykernel_24/1640355729.py:28: PerformanceWarning: DataFrame is highly fragmented.  This is usually the result of calling `frame.insert` many times, which has poor performance.  Consider joining all columns at once using pd.concat(axis=1) instead. To get a de-fragmented frame, use `newframe = frame.copy()`\n",
      "  submission[tars] = pd.DataFrame(scaler_y.inverse_transform(y_pred.reshape(-1, y_pred.shape[2])), columns=tars)\n",
      "/tmp/ipykernel_24/1640355729.py:28: PerformanceWarning: DataFrame is highly fragmented.  This is usually the result of calling `frame.insert` many times, which has poor performance.  Consider joining all columns at once using pd.concat(axis=1) instead. To get a de-fragmented frame, use `newframe = frame.copy()`\n",
      "  submission[tars] = pd.DataFrame(scaler_y.inverse_transform(y_pred.reshape(-1, y_pred.shape[2])), columns=tars)\n"
     ]
    },
    {
     "name": "stdout",
     "output_type": "stream",
     "text": [
      "Predicted rows :  297\n"
     ]
    },
    {
     "name": "stderr",
     "output_type": "stream",
     "text": [
      "/opt/conda/lib/python3.10/site-packages/keras/src/layers/rnn/rnn.py:204: UserWarning: Do not pass an `input_shape`/`input_dim` argument to a layer. When using Sequential models, prefer using an `Input(shape)` object as the first layer in the model instead.\n",
      "  super().__init__(**kwargs)\n"
     ]
    },
    {
     "name": "stdout",
     "output_type": "stream",
     "text": [
      "Training Started\n",
      "\u001b[1m652/652\u001b[0m \u001b[32m━━━━━━━━━━━━━━━━━━━━\u001b[0m\u001b[37m\u001b[0m \u001b[1m3s\u001b[0m 4ms/step\n",
      "R2 Score: 0.8922541645130765\n",
      "\u001b[1m652/652\u001b[0m \u001b[32m━━━━━━━━━━━━━━━━━━━━\u001b[0m\u001b[37m\u001b[0m \u001b[1m2s\u001b[0m 4ms/step\n"
     ]
    },
    {
     "name": "stderr",
     "output_type": "stream",
     "text": [
      "/tmp/ipykernel_24/1640355729.py:28: PerformanceWarning: DataFrame is highly fragmented.  This is usually the result of calling `frame.insert` many times, which has poor performance.  Consider joining all columns at once using pd.concat(axis=1) instead. To get a de-fragmented frame, use `newframe = frame.copy()`\n",
      "  submission[tars] = pd.DataFrame(scaler_y.inverse_transform(y_pred.reshape(-1, y_pred.shape[2])), columns=tars)\n",
      "/tmp/ipykernel_24/1640355729.py:28: PerformanceWarning: DataFrame is highly fragmented.  This is usually the result of calling `frame.insert` many times, which has poor performance.  Consider joining all columns at once using pd.concat(axis=1) instead. To get a de-fragmented frame, use `newframe = frame.copy()`\n",
      "  submission[tars] = pd.DataFrame(scaler_y.inverse_transform(y_pred.reshape(-1, y_pred.shape[2])), columns=tars)\n",
      "/tmp/ipykernel_24/1640355729.py:28: PerformanceWarning: DataFrame is highly fragmented.  This is usually the result of calling `frame.insert` many times, which has poor performance.  Consider joining all columns at once using pd.concat(axis=1) instead. To get a de-fragmented frame, use `newframe = frame.copy()`\n",
      "  submission[tars] = pd.DataFrame(scaler_y.inverse_transform(y_pred.reshape(-1, y_pred.shape[2])), columns=tars)\n",
      "/tmp/ipykernel_24/1640355729.py:28: PerformanceWarning: DataFrame is highly fragmented.  This is usually the result of calling `frame.insert` many times, which has poor performance.  Consider joining all columns at once using pd.concat(axis=1) instead. To get a de-fragmented frame, use `newframe = frame.copy()`\n",
      "  submission[tars] = pd.DataFrame(scaler_y.inverse_transform(y_pred.reshape(-1, y_pred.shape[2])), columns=tars)\n",
      "/tmp/ipykernel_24/1640355729.py:28: PerformanceWarning: DataFrame is highly fragmented.  This is usually the result of calling `frame.insert` many times, which has poor performance.  Consider joining all columns at once using pd.concat(axis=1) instead. To get a de-fragmented frame, use `newframe = frame.copy()`\n",
      "  submission[tars] = pd.DataFrame(scaler_y.inverse_transform(y_pred.reshape(-1, y_pred.shape[2])), columns=tars)\n",
      "/tmp/ipykernel_24/1640355729.py:28: PerformanceWarning: DataFrame is highly fragmented.  This is usually the result of calling `frame.insert` many times, which has poor performance.  Consider joining all columns at once using pd.concat(axis=1) instead. To get a de-fragmented frame, use `newframe = frame.copy()`\n",
      "  submission[tars] = pd.DataFrame(scaler_y.inverse_transform(y_pred.reshape(-1, y_pred.shape[2])), columns=tars)\n",
      "/tmp/ipykernel_24/1640355729.py:28: PerformanceWarning: DataFrame is highly fragmented.  This is usually the result of calling `frame.insert` many times, which has poor performance.  Consider joining all columns at once using pd.concat(axis=1) instead. To get a de-fragmented frame, use `newframe = frame.copy()`\n",
      "  submission[tars] = pd.DataFrame(scaler_y.inverse_transform(y_pred.reshape(-1, y_pred.shape[2])), columns=tars)\n",
      "/tmp/ipykernel_24/1640355729.py:28: PerformanceWarning: DataFrame is highly fragmented.  This is usually the result of calling `frame.insert` many times, which has poor performance.  Consider joining all columns at once using pd.concat(axis=1) instead. To get a de-fragmented frame, use `newframe = frame.copy()`\n",
      "  submission[tars] = pd.DataFrame(scaler_y.inverse_transform(y_pred.reshape(-1, y_pred.shape[2])), columns=tars)\n"
     ]
    },
    {
     "name": "stdout",
     "output_type": "stream",
     "text": [
      "Predicted rows :  305\n"
     ]
    }
   ],
   "source": [
    "submission = pd.DataFrame()\n",
    "cols = 0\n",
    "\n",
    "for tars in pred_targets:\n",
    "    y_train = scaler_y.fit_transform(train[tars])\n",
    "    y_valid = scaler_y.fit_transform(valid[tars])\n",
    "\n",
    "    y_train = reshape_data(timesteps, y_train)\n",
    "    y_valid = reshape_data(timesteps, y_valid)\n",
    "\n",
    "    early_stopping = EarlyStopping(monitor='val_loss', \n",
    "                                   patience=5, \n",
    "                                   restore_best_weights=True)\n",
    "\n",
    "    model = create_model(tars)\n",
    "    model.compile(optimizer='adam', loss='mean_squared_error')\n",
    "    print(\"Training Started\")\n",
    "    model.fit(X_train, y_train, \n",
    "              epochs=100, batch_size=1024, \n",
    "              validation_split=(0.2), \n",
    "              callbacks=[early_stopping],\n",
    "              verbose = False)\n",
    "\n",
    "    y_pred = model.predict(X_valid)\n",
    "    r2 = r2_score(y_valid.reshape(-1), y_pred.reshape(-1))\n",
    "    print(f'R2 Score: {r2}')\n",
    "    y_pred = model.predict(X_test)\n",
    "    submission[tars] = pd.DataFrame(scaler_y.inverse_transform(y_pred.reshape(-1, y_pred.shape[2])), columns=tars)\n",
    "    del y_pred, y_train, y_valid\n",
    "    cols += len(tars)\n",
    "    print(\"Predicted rows : \", cols)\n",
    "    gc.collect()"
   ]
  },
  {
   "cell_type": "code",
   "execution_count": 8,
   "id": "f0517314",
   "metadata": {
    "collapsed": true,
    "execution": {
     "iopub.execute_input": "2024-05-27T21:12:40.981904Z",
     "iopub.status.busy": "2024-05-27T21:12:40.980776Z",
     "iopub.status.idle": "2024-05-27T21:12:41.133682Z",
     "shell.execute_reply": "2024-05-27T21:12:41.132646Z"
    },
    "jupyter": {
     "outputs_hidden": true
    },
    "papermill": {
     "duration": 0.220352,
     "end_time": "2024-05-27T21:12:41.136884",
     "exception": false,
     "start_time": "2024-05-27T21:12:40.916532",
     "status": "completed"
    },
    "tags": []
   },
   "outputs": [
    {
     "name": "stderr",
     "output_type": "stream",
     "text": [
      "/tmp/ipykernel_24/3304114371.py:1: PerformanceWarning: DataFrame is highly fragmented.  This is usually the result of calling `frame.insert` many times, which has poor performance.  Consider joining all columns at once using pd.concat(axis=1) instead. To get a de-fragmented frame, use `newframe = frame.copy()`\n",
      "  submission[zero_w_targets] = 0\n",
      "/tmp/ipykernel_24/3304114371.py:1: PerformanceWarning: DataFrame is highly fragmented.  This is usually the result of calling `frame.insert` many times, which has poor performance.  Consider joining all columns at once using pd.concat(axis=1) instead. To get a de-fragmented frame, use `newframe = frame.copy()`\n",
      "  submission[zero_w_targets] = 0\n",
      "/tmp/ipykernel_24/3304114371.py:1: PerformanceWarning: DataFrame is highly fragmented.  This is usually the result of calling `frame.insert` many times, which has poor performance.  Consider joining all columns at once using pd.concat(axis=1) instead. To get a de-fragmented frame, use `newframe = frame.copy()`\n",
      "  submission[zero_w_targets] = 0\n",
      "/tmp/ipykernel_24/3304114371.py:1: PerformanceWarning: DataFrame is highly fragmented.  This is usually the result of calling `frame.insert` many times, which has poor performance.  Consider joining all columns at once using pd.concat(axis=1) instead. To get a de-fragmented frame, use `newframe = frame.copy()`\n",
      "  submission[zero_w_targets] = 0\n",
      "/tmp/ipykernel_24/3304114371.py:1: PerformanceWarning: DataFrame is highly fragmented.  This is usually the result of calling `frame.insert` many times, which has poor performance.  Consider joining all columns at once using pd.concat(axis=1) instead. To get a de-fragmented frame, use `newframe = frame.copy()`\n",
      "  submission[zero_w_targets] = 0\n",
      "/tmp/ipykernel_24/3304114371.py:1: PerformanceWarning: DataFrame is highly fragmented.  This is usually the result of calling `frame.insert` many times, which has poor performance.  Consider joining all columns at once using pd.concat(axis=1) instead. To get a de-fragmented frame, use `newframe = frame.copy()`\n",
      "  submission[zero_w_targets] = 0\n",
      "/tmp/ipykernel_24/3304114371.py:1: PerformanceWarning: DataFrame is highly fragmented.  This is usually the result of calling `frame.insert` many times, which has poor performance.  Consider joining all columns at once using pd.concat(axis=1) instead. To get a de-fragmented frame, use `newframe = frame.copy()`\n",
      "  submission[zero_w_targets] = 0\n",
      "/tmp/ipykernel_24/3304114371.py:1: PerformanceWarning: DataFrame is highly fragmented.  This is usually the result of calling `frame.insert` many times, which has poor performance.  Consider joining all columns at once using pd.concat(axis=1) instead. To get a de-fragmented frame, use `newframe = frame.copy()`\n",
      "  submission[zero_w_targets] = 0\n",
      "/tmp/ipykernel_24/3304114371.py:1: PerformanceWarning: DataFrame is highly fragmented.  This is usually the result of calling `frame.insert` many times, which has poor performance.  Consider joining all columns at once using pd.concat(axis=1) instead. To get a de-fragmented frame, use `newframe = frame.copy()`\n",
      "  submission[zero_w_targets] = 0\n",
      "/tmp/ipykernel_24/3304114371.py:1: PerformanceWarning: DataFrame is highly fragmented.  This is usually the result of calling `frame.insert` many times, which has poor performance.  Consider joining all columns at once using pd.concat(axis=1) instead. To get a de-fragmented frame, use `newframe = frame.copy()`\n",
      "  submission[zero_w_targets] = 0\n",
      "/tmp/ipykernel_24/3304114371.py:1: PerformanceWarning: DataFrame is highly fragmented.  This is usually the result of calling `frame.insert` many times, which has poor performance.  Consider joining all columns at once using pd.concat(axis=1) instead. To get a de-fragmented frame, use `newframe = frame.copy()`\n",
      "  submission[zero_w_targets] = 0\n",
      "/tmp/ipykernel_24/3304114371.py:1: PerformanceWarning: DataFrame is highly fragmented.  This is usually the result of calling `frame.insert` many times, which has poor performance.  Consider joining all columns at once using pd.concat(axis=1) instead. To get a de-fragmented frame, use `newframe = frame.copy()`\n",
      "  submission[zero_w_targets] = 0\n",
      "/tmp/ipykernel_24/3304114371.py:1: PerformanceWarning: DataFrame is highly fragmented.  This is usually the result of calling `frame.insert` many times, which has poor performance.  Consider joining all columns at once using pd.concat(axis=1) instead. To get a de-fragmented frame, use `newframe = frame.copy()`\n",
      "  submission[zero_w_targets] = 0\n",
      "/tmp/ipykernel_24/3304114371.py:1: PerformanceWarning: DataFrame is highly fragmented.  This is usually the result of calling `frame.insert` many times, which has poor performance.  Consider joining all columns at once using pd.concat(axis=1) instead. To get a de-fragmented frame, use `newframe = frame.copy()`\n",
      "  submission[zero_w_targets] = 0\n",
      "/tmp/ipykernel_24/3304114371.py:1: PerformanceWarning: DataFrame is highly fragmented.  This is usually the result of calling `frame.insert` many times, which has poor performance.  Consider joining all columns at once using pd.concat(axis=1) instead. To get a de-fragmented frame, use `newframe = frame.copy()`\n",
      "  submission[zero_w_targets] = 0\n",
      "/tmp/ipykernel_24/3304114371.py:1: PerformanceWarning: DataFrame is highly fragmented.  This is usually the result of calling `frame.insert` many times, which has poor performance.  Consider joining all columns at once using pd.concat(axis=1) instead. To get a de-fragmented frame, use `newframe = frame.copy()`\n",
      "  submission[zero_w_targets] = 0\n",
      "/tmp/ipykernel_24/3304114371.py:1: PerformanceWarning: DataFrame is highly fragmented.  This is usually the result of calling `frame.insert` many times, which has poor performance.  Consider joining all columns at once using pd.concat(axis=1) instead. To get a de-fragmented frame, use `newframe = frame.copy()`\n",
      "  submission[zero_w_targets] = 0\n",
      "/tmp/ipykernel_24/3304114371.py:1: PerformanceWarning: DataFrame is highly fragmented.  This is usually the result of calling `frame.insert` many times, which has poor performance.  Consider joining all columns at once using pd.concat(axis=1) instead. To get a de-fragmented frame, use `newframe = frame.copy()`\n",
      "  submission[zero_w_targets] = 0\n",
      "/tmp/ipykernel_24/3304114371.py:1: PerformanceWarning: DataFrame is highly fragmented.  This is usually the result of calling `frame.insert` many times, which has poor performance.  Consider joining all columns at once using pd.concat(axis=1) instead. To get a de-fragmented frame, use `newframe = frame.copy()`\n",
      "  submission[zero_w_targets] = 0\n",
      "/tmp/ipykernel_24/3304114371.py:1: PerformanceWarning: DataFrame is highly fragmented.  This is usually the result of calling `frame.insert` many times, which has poor performance.  Consider joining all columns at once using pd.concat(axis=1) instead. To get a de-fragmented frame, use `newframe = frame.copy()`\n",
      "  submission[zero_w_targets] = 0\n",
      "/tmp/ipykernel_24/3304114371.py:1: PerformanceWarning: DataFrame is highly fragmented.  This is usually the result of calling `frame.insert` many times, which has poor performance.  Consider joining all columns at once using pd.concat(axis=1) instead. To get a de-fragmented frame, use `newframe = frame.copy()`\n",
      "  submission[zero_w_targets] = 0\n",
      "/tmp/ipykernel_24/3304114371.py:1: PerformanceWarning: DataFrame is highly fragmented.  This is usually the result of calling `frame.insert` many times, which has poor performance.  Consider joining all columns at once using pd.concat(axis=1) instead. To get a de-fragmented frame, use `newframe = frame.copy()`\n",
      "  submission[zero_w_targets] = 0\n",
      "/tmp/ipykernel_24/3304114371.py:1: PerformanceWarning: DataFrame is highly fragmented.  This is usually the result of calling `frame.insert` many times, which has poor performance.  Consider joining all columns at once using pd.concat(axis=1) instead. To get a de-fragmented frame, use `newframe = frame.copy()`\n",
      "  submission[zero_w_targets] = 0\n",
      "/tmp/ipykernel_24/3304114371.py:1: PerformanceWarning: DataFrame is highly fragmented.  This is usually the result of calling `frame.insert` many times, which has poor performance.  Consider joining all columns at once using pd.concat(axis=1) instead. To get a de-fragmented frame, use `newframe = frame.copy()`\n",
      "  submission[zero_w_targets] = 0\n",
      "/tmp/ipykernel_24/3304114371.py:1: PerformanceWarning: DataFrame is highly fragmented.  This is usually the result of calling `frame.insert` many times, which has poor performance.  Consider joining all columns at once using pd.concat(axis=1) instead. To get a de-fragmented frame, use `newframe = frame.copy()`\n",
      "  submission[zero_w_targets] = 0\n",
      "/tmp/ipykernel_24/3304114371.py:1: PerformanceWarning: DataFrame is highly fragmented.  This is usually the result of calling `frame.insert` many times, which has poor performance.  Consider joining all columns at once using pd.concat(axis=1) instead. To get a de-fragmented frame, use `newframe = frame.copy()`\n",
      "  submission[zero_w_targets] = 0\n",
      "/tmp/ipykernel_24/3304114371.py:1: PerformanceWarning: DataFrame is highly fragmented.  This is usually the result of calling `frame.insert` many times, which has poor performance.  Consider joining all columns at once using pd.concat(axis=1) instead. To get a de-fragmented frame, use `newframe = frame.copy()`\n",
      "  submission[zero_w_targets] = 0\n",
      "/tmp/ipykernel_24/3304114371.py:1: PerformanceWarning: DataFrame is highly fragmented.  This is usually the result of calling `frame.insert` many times, which has poor performance.  Consider joining all columns at once using pd.concat(axis=1) instead. To get a de-fragmented frame, use `newframe = frame.copy()`\n",
      "  submission[zero_w_targets] = 0\n",
      "/tmp/ipykernel_24/3304114371.py:1: PerformanceWarning: DataFrame is highly fragmented.  This is usually the result of calling `frame.insert` many times, which has poor performance.  Consider joining all columns at once using pd.concat(axis=1) instead. To get a de-fragmented frame, use `newframe = frame.copy()`\n",
      "  submission[zero_w_targets] = 0\n",
      "/tmp/ipykernel_24/3304114371.py:1: PerformanceWarning: DataFrame is highly fragmented.  This is usually the result of calling `frame.insert` many times, which has poor performance.  Consider joining all columns at once using pd.concat(axis=1) instead. To get a de-fragmented frame, use `newframe = frame.copy()`\n",
      "  submission[zero_w_targets] = 0\n",
      "/tmp/ipykernel_24/3304114371.py:1: PerformanceWarning: DataFrame is highly fragmented.  This is usually the result of calling `frame.insert` many times, which has poor performance.  Consider joining all columns at once using pd.concat(axis=1) instead. To get a de-fragmented frame, use `newframe = frame.copy()`\n",
      "  submission[zero_w_targets] = 0\n",
      "/tmp/ipykernel_24/3304114371.py:1: PerformanceWarning: DataFrame is highly fragmented.  This is usually the result of calling `frame.insert` many times, which has poor performance.  Consider joining all columns at once using pd.concat(axis=1) instead. To get a de-fragmented frame, use `newframe = frame.copy()`\n",
      "  submission[zero_w_targets] = 0\n",
      "/tmp/ipykernel_24/3304114371.py:1: PerformanceWarning: DataFrame is highly fragmented.  This is usually the result of calling `frame.insert` many times, which has poor performance.  Consider joining all columns at once using pd.concat(axis=1) instead. To get a de-fragmented frame, use `newframe = frame.copy()`\n",
      "  submission[zero_w_targets] = 0\n",
      "/tmp/ipykernel_24/3304114371.py:1: PerformanceWarning: DataFrame is highly fragmented.  This is usually the result of calling `frame.insert` many times, which has poor performance.  Consider joining all columns at once using pd.concat(axis=1) instead. To get a de-fragmented frame, use `newframe = frame.copy()`\n",
      "  submission[zero_w_targets] = 0\n",
      "/tmp/ipykernel_24/3304114371.py:1: PerformanceWarning: DataFrame is highly fragmented.  This is usually the result of calling `frame.insert` many times, which has poor performance.  Consider joining all columns at once using pd.concat(axis=1) instead. To get a de-fragmented frame, use `newframe = frame.copy()`\n",
      "  submission[zero_w_targets] = 0\n",
      "/tmp/ipykernel_24/3304114371.py:1: PerformanceWarning: DataFrame is highly fragmented.  This is usually the result of calling `frame.insert` many times, which has poor performance.  Consider joining all columns at once using pd.concat(axis=1) instead. To get a de-fragmented frame, use `newframe = frame.copy()`\n",
      "  submission[zero_w_targets] = 0\n",
      "/tmp/ipykernel_24/3304114371.py:1: PerformanceWarning: DataFrame is highly fragmented.  This is usually the result of calling `frame.insert` many times, which has poor performance.  Consider joining all columns at once using pd.concat(axis=1) instead. To get a de-fragmented frame, use `newframe = frame.copy()`\n",
      "  submission[zero_w_targets] = 0\n",
      "/tmp/ipykernel_24/3304114371.py:1: PerformanceWarning: DataFrame is highly fragmented.  This is usually the result of calling `frame.insert` many times, which has poor performance.  Consider joining all columns at once using pd.concat(axis=1) instead. To get a de-fragmented frame, use `newframe = frame.copy()`\n",
      "  submission[zero_w_targets] = 0\n",
      "/tmp/ipykernel_24/3304114371.py:1: PerformanceWarning: DataFrame is highly fragmented.  This is usually the result of calling `frame.insert` many times, which has poor performance.  Consider joining all columns at once using pd.concat(axis=1) instead. To get a de-fragmented frame, use `newframe = frame.copy()`\n",
      "  submission[zero_w_targets] = 0\n",
      "/tmp/ipykernel_24/3304114371.py:1: PerformanceWarning: DataFrame is highly fragmented.  This is usually the result of calling `frame.insert` many times, which has poor performance.  Consider joining all columns at once using pd.concat(axis=1) instead. To get a de-fragmented frame, use `newframe = frame.copy()`\n",
      "  submission[zero_w_targets] = 0\n",
      "/tmp/ipykernel_24/3304114371.py:1: PerformanceWarning: DataFrame is highly fragmented.  This is usually the result of calling `frame.insert` many times, which has poor performance.  Consider joining all columns at once using pd.concat(axis=1) instead. To get a de-fragmented frame, use `newframe = frame.copy()`\n",
      "  submission[zero_w_targets] = 0\n",
      "/tmp/ipykernel_24/3304114371.py:1: PerformanceWarning: DataFrame is highly fragmented.  This is usually the result of calling `frame.insert` many times, which has poor performance.  Consider joining all columns at once using pd.concat(axis=1) instead. To get a de-fragmented frame, use `newframe = frame.copy()`\n",
      "  submission[zero_w_targets] = 0\n",
      "/tmp/ipykernel_24/3304114371.py:1: PerformanceWarning: DataFrame is highly fragmented.  This is usually the result of calling `frame.insert` many times, which has poor performance.  Consider joining all columns at once using pd.concat(axis=1) instead. To get a de-fragmented frame, use `newframe = frame.copy()`\n",
      "  submission[zero_w_targets] = 0\n",
      "/tmp/ipykernel_24/3304114371.py:1: PerformanceWarning: DataFrame is highly fragmented.  This is usually the result of calling `frame.insert` many times, which has poor performance.  Consider joining all columns at once using pd.concat(axis=1) instead. To get a de-fragmented frame, use `newframe = frame.copy()`\n",
      "  submission[zero_w_targets] = 0\n",
      "/tmp/ipykernel_24/3304114371.py:1: PerformanceWarning: DataFrame is highly fragmented.  This is usually the result of calling `frame.insert` many times, which has poor performance.  Consider joining all columns at once using pd.concat(axis=1) instead. To get a de-fragmented frame, use `newframe = frame.copy()`\n",
      "  submission[zero_w_targets] = 0\n",
      "/tmp/ipykernel_24/3304114371.py:1: PerformanceWarning: DataFrame is highly fragmented.  This is usually the result of calling `frame.insert` many times, which has poor performance.  Consider joining all columns at once using pd.concat(axis=1) instead. To get a de-fragmented frame, use `newframe = frame.copy()`\n",
      "  submission[zero_w_targets] = 0\n",
      "/tmp/ipykernel_24/3304114371.py:1: PerformanceWarning: DataFrame is highly fragmented.  This is usually the result of calling `frame.insert` many times, which has poor performance.  Consider joining all columns at once using pd.concat(axis=1) instead. To get a de-fragmented frame, use `newframe = frame.copy()`\n",
      "  submission[zero_w_targets] = 0\n",
      "/tmp/ipykernel_24/3304114371.py:1: PerformanceWarning: DataFrame is highly fragmented.  This is usually the result of calling `frame.insert` many times, which has poor performance.  Consider joining all columns at once using pd.concat(axis=1) instead. To get a de-fragmented frame, use `newframe = frame.copy()`\n",
      "  submission[zero_w_targets] = 0\n",
      "/tmp/ipykernel_24/3304114371.py:1: PerformanceWarning: DataFrame is highly fragmented.  This is usually the result of calling `frame.insert` many times, which has poor performance.  Consider joining all columns at once using pd.concat(axis=1) instead. To get a de-fragmented frame, use `newframe = frame.copy()`\n",
      "  submission[zero_w_targets] = 0\n",
      "/tmp/ipykernel_24/3304114371.py:1: PerformanceWarning: DataFrame is highly fragmented.  This is usually the result of calling `frame.insert` many times, which has poor performance.  Consider joining all columns at once using pd.concat(axis=1) instead. To get a de-fragmented frame, use `newframe = frame.copy()`\n",
      "  submission[zero_w_targets] = 0\n",
      "/tmp/ipykernel_24/3304114371.py:1: PerformanceWarning: DataFrame is highly fragmented.  This is usually the result of calling `frame.insert` many times, which has poor performance.  Consider joining all columns at once using pd.concat(axis=1) instead. To get a de-fragmented frame, use `newframe = frame.copy()`\n",
      "  submission[zero_w_targets] = 0\n",
      "/tmp/ipykernel_24/3304114371.py:1: PerformanceWarning: DataFrame is highly fragmented.  This is usually the result of calling `frame.insert` many times, which has poor performance.  Consider joining all columns at once using pd.concat(axis=1) instead. To get a de-fragmented frame, use `newframe = frame.copy()`\n",
      "  submission[zero_w_targets] = 0\n",
      "/tmp/ipykernel_24/3304114371.py:1: PerformanceWarning: DataFrame is highly fragmented.  This is usually the result of calling `frame.insert` many times, which has poor performance.  Consider joining all columns at once using pd.concat(axis=1) instead. To get a de-fragmented frame, use `newframe = frame.copy()`\n",
      "  submission[zero_w_targets] = 0\n",
      "/tmp/ipykernel_24/3304114371.py:1: PerformanceWarning: DataFrame is highly fragmented.  This is usually the result of calling `frame.insert` many times, which has poor performance.  Consider joining all columns at once using pd.concat(axis=1) instead. To get a de-fragmented frame, use `newframe = frame.copy()`\n",
      "  submission[zero_w_targets] = 0\n",
      "/tmp/ipykernel_24/3304114371.py:1: PerformanceWarning: DataFrame is highly fragmented.  This is usually the result of calling `frame.insert` many times, which has poor performance.  Consider joining all columns at once using pd.concat(axis=1) instead. To get a de-fragmented frame, use `newframe = frame.copy()`\n",
      "  submission[zero_w_targets] = 0\n",
      "/tmp/ipykernel_24/3304114371.py:1: PerformanceWarning: DataFrame is highly fragmented.  This is usually the result of calling `frame.insert` many times, which has poor performance.  Consider joining all columns at once using pd.concat(axis=1) instead. To get a de-fragmented frame, use `newframe = frame.copy()`\n",
      "  submission[zero_w_targets] = 0\n",
      "/tmp/ipykernel_24/3304114371.py:1: PerformanceWarning: DataFrame is highly fragmented.  This is usually the result of calling `frame.insert` many times, which has poor performance.  Consider joining all columns at once using pd.concat(axis=1) instead. To get a de-fragmented frame, use `newframe = frame.copy()`\n",
      "  submission[zero_w_targets] = 0\n",
      "/tmp/ipykernel_24/3304114371.py:1: PerformanceWarning: DataFrame is highly fragmented.  This is usually the result of calling `frame.insert` many times, which has poor performance.  Consider joining all columns at once using pd.concat(axis=1) instead. To get a de-fragmented frame, use `newframe = frame.copy()`\n",
      "  submission[zero_w_targets] = 0\n",
      "/tmp/ipykernel_24/3304114371.py:1: PerformanceWarning: DataFrame is highly fragmented.  This is usually the result of calling `frame.insert` many times, which has poor performance.  Consider joining all columns at once using pd.concat(axis=1) instead. To get a de-fragmented frame, use `newframe = frame.copy()`\n",
      "  submission[zero_w_targets] = 0\n",
      "/tmp/ipykernel_24/3304114371.py:1: PerformanceWarning: DataFrame is highly fragmented.  This is usually the result of calling `frame.insert` many times, which has poor performance.  Consider joining all columns at once using pd.concat(axis=1) instead. To get a de-fragmented frame, use `newframe = frame.copy()`\n",
      "  submission[zero_w_targets] = 0\n",
      "/tmp/ipykernel_24/3304114371.py:1: PerformanceWarning: DataFrame is highly fragmented.  This is usually the result of calling `frame.insert` many times, which has poor performance.  Consider joining all columns at once using pd.concat(axis=1) instead. To get a de-fragmented frame, use `newframe = frame.copy()`\n",
      "  submission[zero_w_targets] = 0\n",
      "/tmp/ipykernel_24/3304114371.py:1: PerformanceWarning: DataFrame is highly fragmented.  This is usually the result of calling `frame.insert` many times, which has poor performance.  Consider joining all columns at once using pd.concat(axis=1) instead. To get a de-fragmented frame, use `newframe = frame.copy()`\n",
      "  submission[zero_w_targets] = 0\n",
      "/tmp/ipykernel_24/3304114371.py:1: PerformanceWarning: DataFrame is highly fragmented.  This is usually the result of calling `frame.insert` many times, which has poor performance.  Consider joining all columns at once using pd.concat(axis=1) instead. To get a de-fragmented frame, use `newframe = frame.copy()`\n",
      "  submission[zero_w_targets] = 0\n"
     ]
    }
   ],
   "source": [
    "submission[zero_w_targets] = 0"
   ]
  },
  {
   "cell_type": "code",
   "execution_count": 9,
   "id": "9c6fbfdd",
   "metadata": {
    "execution": {
     "iopub.execute_input": "2024-05-27T21:12:41.262755Z",
     "iopub.status.busy": "2024-05-27T21:12:41.262396Z",
     "iopub.status.idle": "2024-05-27T21:12:41.295681Z",
     "shell.execute_reply": "2024-05-27T21:12:41.294904Z"
    },
    "papermill": {
     "duration": 0.097319,
     "end_time": "2024-05-27T21:12:41.297503",
     "exception": false,
     "start_time": "2024-05-27T21:12:41.200184",
     "status": "completed"
    },
    "tags": []
   },
   "outputs": [],
   "source": [
    "del valid, X_train, X_test"
   ]
  },
  {
   "cell_type": "code",
   "execution_count": 10,
   "id": "4aeb95e1",
   "metadata": {
    "execution": {
     "iopub.execute_input": "2024-05-27T21:12:41.472959Z",
     "iopub.status.busy": "2024-05-27T21:12:41.472129Z",
     "iopub.status.idle": "2024-05-27T21:12:41.785744Z",
     "shell.execute_reply": "2024-05-27T21:12:41.784722Z"
    },
    "papermill": {
     "duration": 0.377498,
     "end_time": "2024-05-27T21:12:41.788003",
     "exception": false,
     "start_time": "2024-05-27T21:12:41.410505",
     "status": "completed"
    },
    "tags": []
   },
   "outputs": [
    {
     "data": {
      "text/plain": [
       "0"
      ]
     },
     "execution_count": 10,
     "metadata": {},
     "output_type": "execute_result"
    }
   ],
   "source": [
    "gc.collect()"
   ]
  },
  {
   "cell_type": "code",
   "execution_count": 11,
   "id": "318390d9",
   "metadata": {
    "execution": {
     "iopub.execute_input": "2024-05-27T21:12:41.913496Z",
     "iopub.status.busy": "2024-05-27T21:12:41.912582Z",
     "iopub.status.idle": "2024-05-27T21:12:41.916946Z",
     "shell.execute_reply": "2024-05-27T21:12:41.916055Z"
    },
    "papermill": {
     "duration": 0.068848,
     "end_time": "2024-05-27T21:12:41.918847",
     "exception": false,
     "start_time": "2024-05-27T21:12:41.849999",
     "status": "completed"
    },
    "tags": []
   },
   "outputs": [],
   "source": [
    "# train = pd.read_parquet(\"/kaggle/input/leap-train-parquet1/train_1.parquet\")"
   ]
  },
  {
   "cell_type": "code",
   "execution_count": 12,
   "id": "5a3e6afd",
   "metadata": {
    "collapsed": true,
    "execution": {
     "iopub.execute_input": "2024-05-27T21:12:42.045312Z",
     "iopub.status.busy": "2024-05-27T21:12:42.044912Z",
     "iopub.status.idle": "2024-05-27T21:12:42.049276Z",
     "shell.execute_reply": "2024-05-27T21:12:42.048366Z"
    },
    "jupyter": {
     "outputs_hidden": true
    },
    "papermill": {
     "duration": 0.070981,
     "end_time": "2024-05-27T21:12:42.051457",
     "exception": false,
     "start_time": "2024-05-27T21:12:41.980476",
     "status": "completed"
    },
    "tags": []
   },
   "outputs": [],
   "source": [
    "# for tar in unpredictable_targets:\n",
    "#     submission[tar] = train[tar].mean() * weights[tar]"
   ]
  },
  {
   "cell_type": "code",
   "execution_count": 13,
   "id": "5a06cedd",
   "metadata": {
    "execution": {
     "iopub.execute_input": "2024-05-27T21:12:42.176997Z",
     "iopub.status.busy": "2024-05-27T21:12:42.176682Z",
     "iopub.status.idle": "2024-05-27T21:12:42.182692Z",
     "shell.execute_reply": "2024-05-27T21:12:42.181799Z"
    },
    "papermill": {
     "duration": 0.070953,
     "end_time": "2024-05-27T21:12:42.184829",
     "exception": false,
     "start_time": "2024-05-27T21:12:42.113876",
     "status": "completed"
    },
    "tags": []
   },
   "outputs": [
    {
     "data": {
      "text/plain": [
       "(625020, 368)"
      ]
     },
     "execution_count": 13,
     "metadata": {},
     "output_type": "execute_result"
    }
   ],
   "source": [
    "submission.shape"
   ]
  },
  {
   "cell_type": "code",
   "execution_count": 14,
   "id": "d5c8aef9",
   "metadata": {
    "execution": {
     "iopub.execute_input": "2024-05-27T21:12:42.308725Z",
     "iopub.status.busy": "2024-05-27T21:12:42.308408Z",
     "iopub.status.idle": "2024-05-27T21:12:42.314446Z",
     "shell.execute_reply": "2024-05-27T21:12:42.313501Z"
    },
    "papermill": {
     "duration": 0.070331,
     "end_time": "2024-05-27T21:12:42.316274",
     "exception": false,
     "start_time": "2024-05-27T21:12:42.245943",
     "status": "completed"
    },
    "tags": []
   },
   "outputs": [],
   "source": [
    "submission = submission[:test.shape[0]]"
   ]
  },
  {
   "cell_type": "code",
   "execution_count": 15,
   "id": "13d6afdd",
   "metadata": {
    "execution": {
     "iopub.execute_input": "2024-05-27T21:12:42.448087Z",
     "iopub.status.busy": "2024-05-27T21:12:42.447285Z",
     "iopub.status.idle": "2024-05-27T21:12:42.454319Z",
     "shell.execute_reply": "2024-05-27T21:12:42.453266Z"
    },
    "papermill": {
     "duration": 0.072755,
     "end_time": "2024-05-27T21:12:42.456370",
     "exception": false,
     "start_time": "2024-05-27T21:12:42.383615",
     "status": "completed"
    },
    "tags": []
   },
   "outputs": [
    {
     "data": {
      "text/plain": [
       "(625000, 491)"
      ]
     },
     "execution_count": 15,
     "metadata": {},
     "output_type": "execute_result"
    }
   ],
   "source": [
    "test.shape"
   ]
  },
  {
   "cell_type": "code",
   "execution_count": 16,
   "id": "837b90c1",
   "metadata": {
    "execution": {
     "iopub.execute_input": "2024-05-27T21:12:42.582760Z",
     "iopub.status.busy": "2024-05-27T21:12:42.582452Z",
     "iopub.status.idle": "2024-05-27T21:12:42.588857Z",
     "shell.execute_reply": "2024-05-27T21:12:42.587773Z"
    },
    "papermill": {
     "duration": 0.072397,
     "end_time": "2024-05-27T21:12:42.590793",
     "exception": false,
     "start_time": "2024-05-27T21:12:42.518396",
     "status": "completed"
    },
    "tags": []
   },
   "outputs": [
    {
     "name": "stderr",
     "output_type": "stream",
     "text": [
      "/tmp/ipykernel_24/15257147.py:1: PerformanceWarning: DataFrame is highly fragmented.  This is usually the result of calling `frame.insert` many times, which has poor performance.  Consider joining all columns at once using pd.concat(axis=1) instead. To get a de-fragmented frame, use `newframe = frame.copy()`\n",
      "  submission['sample_id'] = test['sample_id']\n"
     ]
    }
   ],
   "source": [
    "submission['sample_id'] = test['sample_id']"
   ]
  },
  {
   "cell_type": "code",
   "execution_count": 17,
   "id": "02c05fc5",
   "metadata": {
    "execution": {
     "iopub.execute_input": "2024-05-27T21:12:42.716718Z",
     "iopub.status.busy": "2024-05-27T21:12:42.716351Z",
     "iopub.status.idle": "2024-05-27T21:12:42.747847Z",
     "shell.execute_reply": "2024-05-27T21:12:42.746776Z"
    },
    "papermill": {
     "duration": 0.097265,
     "end_time": "2024-05-27T21:12:42.749783",
     "exception": false,
     "start_time": "2024-05-27T21:12:42.652518",
     "status": "completed"
    },
    "tags": []
   },
   "outputs": [
    {
     "data": {
      "text/html": [
       "<div>\n",
       "<style scoped>\n",
       "    .dataframe tbody tr th:only-of-type {\n",
       "        vertical-align: middle;\n",
       "    }\n",
       "\n",
       "    .dataframe tbody tr th {\n",
       "        vertical-align: top;\n",
       "    }\n",
       "\n",
       "    .dataframe thead th {\n",
       "        text-align: right;\n",
       "    }\n",
       "</style>\n",
       "<table border=\"1\" class=\"dataframe\">\n",
       "  <thead>\n",
       "    <tr style=\"text-align: right;\">\n",
       "      <th></th>\n",
       "      <th>ptend_t_0</th>\n",
       "      <th>ptend_t_1</th>\n",
       "      <th>ptend_t_2</th>\n",
       "      <th>ptend_t_3</th>\n",
       "      <th>ptend_t_4</th>\n",
       "      <th>ptend_t_5</th>\n",
       "      <th>ptend_t_6</th>\n",
       "      <th>ptend_t_7</th>\n",
       "      <th>ptend_t_8</th>\n",
       "      <th>ptend_t_9</th>\n",
       "      <th>...</th>\n",
       "      <th>ptend_v_3</th>\n",
       "      <th>ptend_v_4</th>\n",
       "      <th>ptend_v_5</th>\n",
       "      <th>ptend_v_6</th>\n",
       "      <th>ptend_v_7</th>\n",
       "      <th>ptend_v_8</th>\n",
       "      <th>ptend_v_9</th>\n",
       "      <th>ptend_v_10</th>\n",
       "      <th>ptend_v_11</th>\n",
       "      <th>sample_id</th>\n",
       "    </tr>\n",
       "  </thead>\n",
       "  <tbody>\n",
       "    <tr>\n",
       "      <th>0</th>\n",
       "      <td>0.000001</td>\n",
       "      <td>-0.000022</td>\n",
       "      <td>-0.000017</td>\n",
       "      <td>-0.000032</td>\n",
       "      <td>-0.000059</td>\n",
       "      <td>-0.000084</td>\n",
       "      <td>-0.000079</td>\n",
       "      <td>-0.000057</td>\n",
       "      <td>-0.000034</td>\n",
       "      <td>-0.000027</td>\n",
       "      <td>...</td>\n",
       "      <td>0</td>\n",
       "      <td>0</td>\n",
       "      <td>0</td>\n",
       "      <td>0</td>\n",
       "      <td>0</td>\n",
       "      <td>0</td>\n",
       "      <td>0</td>\n",
       "      <td>0</td>\n",
       "      <td>0</td>\n",
       "      <td>169651</td>\n",
       "    </tr>\n",
       "    <tr>\n",
       "      <th>1</th>\n",
       "      <td>-0.000003</td>\n",
       "      <td>-0.000025</td>\n",
       "      <td>-0.000027</td>\n",
       "      <td>-0.000052</td>\n",
       "      <td>-0.000088</td>\n",
       "      <td>-0.000120</td>\n",
       "      <td>-0.000105</td>\n",
       "      <td>-0.000081</td>\n",
       "      <td>-0.000050</td>\n",
       "      <td>-0.000040</td>\n",
       "      <td>...</td>\n",
       "      <td>0</td>\n",
       "      <td>0</td>\n",
       "      <td>0</td>\n",
       "      <td>0</td>\n",
       "      <td>0</td>\n",
       "      <td>0</td>\n",
       "      <td>0</td>\n",
       "      <td>0</td>\n",
       "      <td>0</td>\n",
       "      <td>524862</td>\n",
       "    </tr>\n",
       "    <tr>\n",
       "      <th>2</th>\n",
       "      <td>0.000002</td>\n",
       "      <td>-0.000040</td>\n",
       "      <td>-0.000023</td>\n",
       "      <td>-0.000042</td>\n",
       "      <td>-0.000078</td>\n",
       "      <td>-0.000115</td>\n",
       "      <td>-0.000100</td>\n",
       "      <td>-0.000071</td>\n",
       "      <td>-0.000045</td>\n",
       "      <td>-0.000038</td>\n",
       "      <td>...</td>\n",
       "      <td>0</td>\n",
       "      <td>0</td>\n",
       "      <td>0</td>\n",
       "      <td>0</td>\n",
       "      <td>0</td>\n",
       "      <td>0</td>\n",
       "      <td>0</td>\n",
       "      <td>0</td>\n",
       "      <td>0</td>\n",
       "      <td>634129</td>\n",
       "    </tr>\n",
       "    <tr>\n",
       "      <th>3</th>\n",
       "      <td>0.000003</td>\n",
       "      <td>-0.000043</td>\n",
       "      <td>-0.000019</td>\n",
       "      <td>-0.000035</td>\n",
       "      <td>-0.000072</td>\n",
       "      <td>-0.000111</td>\n",
       "      <td>-0.000097</td>\n",
       "      <td>-0.000065</td>\n",
       "      <td>-0.000041</td>\n",
       "      <td>-0.000034</td>\n",
       "      <td>...</td>\n",
       "      <td>0</td>\n",
       "      <td>0</td>\n",
       "      <td>0</td>\n",
       "      <td>0</td>\n",
       "      <td>0</td>\n",
       "      <td>0</td>\n",
       "      <td>0</td>\n",
       "      <td>0</td>\n",
       "      <td>0</td>\n",
       "      <td>403572</td>\n",
       "    </tr>\n",
       "    <tr>\n",
       "      <th>4</th>\n",
       "      <td>-0.000004</td>\n",
       "      <td>-0.000031</td>\n",
       "      <td>-0.000029</td>\n",
       "      <td>-0.000055</td>\n",
       "      <td>-0.000098</td>\n",
       "      <td>-0.000131</td>\n",
       "      <td>-0.000109</td>\n",
       "      <td>-0.000085</td>\n",
       "      <td>-0.000055</td>\n",
       "      <td>-0.000043</td>\n",
       "      <td>...</td>\n",
       "      <td>0</td>\n",
       "      <td>0</td>\n",
       "      <td>0</td>\n",
       "      <td>0</td>\n",
       "      <td>0</td>\n",
       "      <td>0</td>\n",
       "      <td>0</td>\n",
       "      <td>0</td>\n",
       "      <td>0</td>\n",
       "      <td>484578</td>\n",
       "    </tr>\n",
       "  </tbody>\n",
       "</table>\n",
       "<p>5 rows × 369 columns</p>\n",
       "</div>"
      ],
      "text/plain": [
       "   ptend_t_0  ptend_t_1  ptend_t_2  ptend_t_3  ptend_t_4  ptend_t_5  \\\n",
       "0   0.000001  -0.000022  -0.000017  -0.000032  -0.000059  -0.000084   \n",
       "1  -0.000003  -0.000025  -0.000027  -0.000052  -0.000088  -0.000120   \n",
       "2   0.000002  -0.000040  -0.000023  -0.000042  -0.000078  -0.000115   \n",
       "3   0.000003  -0.000043  -0.000019  -0.000035  -0.000072  -0.000111   \n",
       "4  -0.000004  -0.000031  -0.000029  -0.000055  -0.000098  -0.000131   \n",
       "\n",
       "   ptend_t_6  ptend_t_7  ptend_t_8  ptend_t_9  ...  ptend_v_3  ptend_v_4  \\\n",
       "0  -0.000079  -0.000057  -0.000034  -0.000027  ...          0          0   \n",
       "1  -0.000105  -0.000081  -0.000050  -0.000040  ...          0          0   \n",
       "2  -0.000100  -0.000071  -0.000045  -0.000038  ...          0          0   \n",
       "3  -0.000097  -0.000065  -0.000041  -0.000034  ...          0          0   \n",
       "4  -0.000109  -0.000085  -0.000055  -0.000043  ...          0          0   \n",
       "\n",
       "   ptend_v_5  ptend_v_6  ptend_v_7  ptend_v_8  ptend_v_9  ptend_v_10  \\\n",
       "0          0          0          0          0          0           0   \n",
       "1          0          0          0          0          0           0   \n",
       "2          0          0          0          0          0           0   \n",
       "3          0          0          0          0          0           0   \n",
       "4          0          0          0          0          0           0   \n",
       "\n",
       "   ptend_v_11  sample_id  \n",
       "0           0     169651  \n",
       "1           0     524862  \n",
       "2           0     634129  \n",
       "3           0     403572  \n",
       "4           0     484578  \n",
       "\n",
       "[5 rows x 369 columns]"
      ]
     },
     "execution_count": 17,
     "metadata": {},
     "output_type": "execute_result"
    }
   ],
   "source": [
    "submission.head()"
   ]
  },
  {
   "cell_type": "code",
   "execution_count": 18,
   "id": "bb449f4e",
   "metadata": {
    "execution": {
     "iopub.execute_input": "2024-05-27T21:12:42.879918Z",
     "iopub.status.busy": "2024-05-27T21:12:42.879032Z",
     "iopub.status.idle": "2024-05-27T21:12:44.101133Z",
     "shell.execute_reply": "2024-05-27T21:12:44.100170Z"
    },
    "papermill": {
     "duration": 1.288889,
     "end_time": "2024-05-27T21:12:44.103619",
     "exception": false,
     "start_time": "2024-05-27T21:12:42.814730",
     "status": "completed"
    },
    "tags": []
   },
   "outputs": [],
   "source": [
    "submission = submission[['sample_id'] + list(weights.keys())]"
   ]
  },
  {
   "cell_type": "code",
   "execution_count": 19,
   "id": "e0e68caf",
   "metadata": {
    "execution": {
     "iopub.execute_input": "2024-05-27T21:12:44.239102Z",
     "iopub.status.busy": "2024-05-27T21:12:44.238175Z",
     "iopub.status.idle": "2024-05-27T21:12:44.642062Z",
     "shell.execute_reply": "2024-05-27T21:12:44.641031Z"
    },
    "papermill": {
     "duration": 0.474161,
     "end_time": "2024-05-27T21:12:44.644585",
     "exception": false,
     "start_time": "2024-05-27T21:12:44.170424",
     "status": "completed"
    },
    "tags": []
   },
   "outputs": [],
   "source": [
    "submission['sample_id'] = 'test_' + submission['sample_id'].astype(str)"
   ]
  },
  {
   "cell_type": "code",
   "execution_count": 20,
   "id": "b88203f6",
   "metadata": {
    "execution": {
     "iopub.execute_input": "2024-05-27T21:12:44.770747Z",
     "iopub.status.busy": "2024-05-27T21:12:44.770398Z",
     "iopub.status.idle": "2024-05-27T21:12:45.209215Z",
     "shell.execute_reply": "2024-05-27T21:12:45.208164Z"
    },
    "papermill": {
     "duration": 0.504553,
     "end_time": "2024-05-27T21:12:45.211644",
     "exception": false,
     "start_time": "2024-05-27T21:12:44.707091",
     "status": "completed"
    },
    "tags": []
   },
   "outputs": [],
   "source": [
    "for tar in weights:\n",
    "    submission[tar] = submission[tar] * weights[tar]"
   ]
  },
  {
   "cell_type": "code",
   "execution_count": 21,
   "id": "cf5aeebf",
   "metadata": {
    "execution": {
     "iopub.execute_input": "2024-05-27T21:12:45.337185Z",
     "iopub.status.busy": "2024-05-27T21:12:45.336326Z",
     "iopub.status.idle": "2024-05-27T21:17:42.354064Z",
     "shell.execute_reply": "2024-05-27T21:17:42.352985Z"
    },
    "papermill": {
     "duration": 297.082524,
     "end_time": "2024-05-27T21:17:42.356527",
     "exception": false,
     "start_time": "2024-05-27T21:12:45.274003",
     "status": "completed"
    },
    "tags": []
   },
   "outputs": [],
   "source": [
    "submission.to_csv('submission.csv', index=False)"
   ]
  }
 ],
 "metadata": {
  "kaggle": {
   "accelerator": "gpu",
   "dataSources": [
    {
     "databundleVersionId": 8015876,
     "sourceId": 56537,
     "sourceType": "competition"
    },
    {
     "datasetId": 4865495,
     "sourceId": 8425368,
     "sourceType": "datasetVersion"
    },
    {
     "datasetId": 5038421,
     "sourceId": 8454028,
     "sourceType": "datasetVersion"
    },
    {
     "datasetId": 5038576,
     "sourceId": 8454256,
     "sourceType": "datasetVersion"
    }
   ],
   "dockerImageVersionId": 30698,
   "isGpuEnabled": true,
   "isInternetEnabled": true,
   "language": "python",
   "sourceType": "notebook"
  },
  "kernelspec": {
   "display_name": "Python 3",
   "language": "python",
   "name": "python3"
  },
  "language_info": {
   "codemirror_mode": {
    "name": "ipython",
    "version": 3
   },
   "file_extension": ".py",
   "mimetype": "text/x-python",
   "name": "python",
   "nbconvert_exporter": "python",
   "pygments_lexer": "ipython3",
   "version": "3.10.13"
  },
  "papermill": {
   "default_parameters": {},
   "duration": 1054.592365,
   "end_time": "2024-05-27T21:17:46.131198",
   "environment_variables": {},
   "exception": null,
   "input_path": "__notebook__.ipynb",
   "output_path": "__notebook__.ipynb",
   "parameters": {},
   "start_time": "2024-05-27T21:00:11.538833",
   "version": "2.5.0"
  }
 },
 "nbformat": 4,
 "nbformat_minor": 5
}
