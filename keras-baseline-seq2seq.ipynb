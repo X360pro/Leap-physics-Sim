{
 "cells": [
  {
   "cell_type": "code",
   "execution_count": 1,
   "id": "e1fdd073",
   "metadata": {
    "execution": {
     "iopub.execute_input": "2024-07-14T03:33:43.435749Z",
     "iopub.status.busy": "2024-07-14T03:33:43.435431Z",
     "iopub.status.idle": "2024-07-14T03:35:20.958508Z",
     "shell.execute_reply": "2024-07-14T03:35:20.957589Z"
    },
    "papermill": {
     "duration": 97.54131,
     "end_time": "2024-07-14T03:35:20.967638",
     "exception": false,
     "start_time": "2024-07-14T03:33:43.426328",
     "status": "completed"
    },
    "tags": []
   },
   "outputs": [
    {
     "name": "stderr",
     "output_type": "stream",
     "text": [
      "2024-07-14 03:33:46.073610: E external/local_xla/xla/stream_executor/cuda/cuda_dnn.cc:9261] Unable to register cuDNN factory: Attempting to register factory for plugin cuDNN when one has already been registered\n",
      "2024-07-14 03:33:46.073723: E external/local_xla/xla/stream_executor/cuda/cuda_fft.cc:607] Unable to register cuFFT factory: Attempting to register factory for plugin cuFFT when one has already been registered\n",
      "2024-07-14 03:33:46.195868: E external/local_xla/xla/stream_executor/cuda/cuda_blas.cc:1515] Unable to register cuBLAS factory: Attempting to register factory for plugin cuBLAS when one has already been registered\n"
     ]
    },
    {
     "name": "stdout",
     "output_type": "stream",
     "text": [
      "2.15.0\n",
      "0.4.23\n",
      "Interactive? False\n",
      "368\n",
      "(TensorSpec(shape=(None, 556), dtype=tf.float32, name=None), TensorSpec(shape=(None, 368), dtype=tf.float32, name=None))\n"
     ]
    },
    {
     "data": {
      "image/png": "[encoded data removed]",
      "text/plain": [
       "<Figure size 640x480 with 1 Axes>"
      ]
     },
     "metadata": {},
     "output_type": "display_data"
    }
   ],
   "source": [
    "import os\n",
    "os.environ[\"KERAS_BACKEND\"] = \"jax\"\n",
    "\n",
    "import gc\n",
    "import numpy as np\n",
    "import pandas as pd\n",
    "import polars as pl\n",
    "import matplotlib.pyplot as plt\n",
    "\n",
    "import tensorflow as tf\n",
    "import jax\n",
    "import keras\n",
    "\n",
    "from sklearn import metrics\n",
    "from tensorflow.keras.models import Model\n",
    "from tensorflow.keras.layers import Input, Dense, LayerNormalization, MultiHeadAttention, Dropout, Flatten\n",
    "\n",
    "from tqdm.notebook import tqdm\n",
    "\n",
    "print(tf.__version__)\n",
    "print(jax.__version__)\n",
    "\n",
    "def is_interactive():\n",
    "    return 'runtime' in get_ipython().config.IPKernelApp.connection_file\n",
    "\n",
    "print('Interactive?', is_interactive())\n",
    "\n",
    "SEED = 42\n",
    "keras.utils.set_random_seed(SEED)\n",
    "tf.random.set_seed(SEED)\n",
    "tf.config.experimental.enable_op_determinism()\n",
    "\n",
    "DATA = \"/kaggle/input/leap-atmospheric-physics-ai-climsim\"\n",
    "DATA_TFREC = \"/kaggle/input/leap-train-tfrecords\"\n",
    "\n",
    "sample = pl.read_csv(os.path.join(DATA, \"sample_submission.csv\"), n_rows=1)\n",
    "TARGETS = sample.select(pl.exclude('sample_id')).columns\n",
    "print(len(TARGETS))\n",
    "\n",
    "def _parse_function(example_proto):\n",
    "    feature_description = {\n",
    "        'x': tf.io.FixedLenFeature([556], tf.float32),\n",
    "        'targets': tf.io.FixedLenFeature([368], tf.float32)\n",
    "    }\n",
    "#     x = e['x']\n",
    "#     targets = e['targets'][:360]  # Select the first 360 features\n",
    "    e = tf.io.parse_single_example(example_proto, feature_description)\n",
    "    return e['x'], e['targets']\n",
    "\n",
    "train_files = [os.path.join(DATA_TFREC, \"train_%.3d.tfrec\" % i) for i in range(100)]\n",
    "valid_files = [os.path.join(DATA_TFREC, \"train_%.3d.tfrec\" % i) for i in range(100, 101)]\n",
    "\n",
    "BATCH_SIZE = 1024\n",
    "\n",
    "train_options = tf.data.Options()\n",
    "train_options.deterministic = True\n",
    "\n",
    "ds_train = (\n",
    "    tf.data.Dataset.from_tensor_slices(train_files)\n",
    "    .with_options(train_options)\n",
    "    .shuffle(100)\n",
    "    .interleave(\n",
    "        lambda file: tf.data.TFRecordDataset(file).map(_parse_function, num_parallel_calls=tf.data.AUTOTUNE),\n",
    "        num_parallel_calls=tf.data.AUTOTUNE,\n",
    "        cycle_length=10,\n",
    "        block_length=1000,\n",
    "        deterministic=True\n",
    "    )\n",
    "    .shuffle(4 * BATCH_SIZE)\n",
    "    .batch(BATCH_SIZE)\n",
    "    .prefetch(tf.data.AUTOTUNE)\n",
    ")\n",
    "\n",
    "ds_valid = (\n",
    "    tf.data.TFRecordDataset(valid_files)\n",
    "    .map(_parse_function)\n",
    "    .batch(BATCH_SIZE)\n",
    "    .prefetch(tf.data.AUTOTUNE)\n",
    ")\n",
    "\n",
    "print(ds_train.element_spec)\n",
    "\n",
    "norm_x = keras.layers.Normalization()\n",
    "norm_x.adapt(ds_train.map(lambda x, y: x).take(20 if is_interactive() else 1000))\n",
    "\n",
    "plt.scatter(\n",
    "    norm_x.mean.squeeze(),\n",
    "    norm_x.variance.squeeze() ** 0.5,\n",
    "    marker=\".\",\n",
    "    alpha=0.5\n",
    ")\n",
    "plt.xscale('log')\n",
    "plt.yscale('log')\n",
    "\n",
    "norm_y = keras.layers.Normalization()\n",
    "norm_y.adapt(ds_train.map(lambda x, y: y).take(20 if is_interactive() else 1000))\n",
    "\n",
    "mean_y = norm_y.mean\n",
    "stdd_y = keras.ops.maximum(1e-10, norm_y.variance ** 0.5)\n",
    "\n",
    "plt.scatter(\n",
    "    mean_y.squeeze(),\n",
    "    stdd_y.squeeze(),\n",
    "    marker=\".\",\n",
    "    alpha=0.5\n",
    ")\n",
    "plt.xscale('log')\n",
    "plt.yscale('log')\n",
    "\n",
    "\n",
    "min_y = np.min(np.stack([np.min(yb, 0) for _, yb in ds_train.take(20 if is_interactive() else 1000)], 0), 0, keepdims=True)\n",
    "max_y = np.max(np.stack([np.max(yb, 0) for _, yb in ds_train.take(20 if is_interactive() else 1000)], 0), 0, keepdims=True)\n",
    "\n",
    "### Model definition & Training\n",
    "\n",
    "@keras.saving.register_keras_serializable(package=\"MyMetrics\", name=\"ClippedR2Score\")\n",
    "class ClippedR2Score(keras.metrics.Metric):\n",
    "    def __init__(self, name='r2_score', **kwargs):\n",
    "        super().__init__(name=name, **kwargs)\n",
    "        self.base_metric = keras.metrics.R2Score(class_aggregation=None)\n",
    "        \n",
    "    def update_state(self, y_true, y_pred, sample_weight=None):\n",
    "        self.base_metric.update_state(y_true, y_pred, sample_weight=None)\n",
    "        \n",
    "    def result(self):\n",
    "        return keras.ops.mean(keras.ops.clip(self.base_metric.result(), 0.0, 1.0))\n",
    "        \n",
    "    def reset_states(self):\n",
    "        self.base_metric.reset_states()\n",
    "\n",
    "epochs = 10 # 25  # 15  # 12\n",
    "learning_rate = 2e-2\n",
    "\n",
    "epochs_warmup = 1\n",
    "epochs_ending = 2\n",
    "steps_per_epoch = int(np.ceil(len(train_files) * 100_000 / BATCH_SIZE))\n",
    "\n",
    "lr_scheduler = keras.optimizers.schedules.CosineDecay(\n",
    "    1e-2, \n",
    "    (epochs - epochs_warmup - epochs_ending) * steps_per_epoch, \n",
    "    warmup_target=learning_rate,\n",
    "    warmup_steps=steps_per_epoch * epochs_warmup,\n",
    "    alpha=0.1\n",
    ")\n",
    "\n",
    "plt.plot([lr_scheduler(it) for it in range(0, epochs * steps_per_epoch, steps_per_epoch)]);"
   ]
  },
  {
   "cell_type": "code",
   "execution_count": 2,
   "id": "e7324fd1",
   "metadata": {
    "execution": {
     "iopub.execute_input": "2024-07-14T03:35:20.983323Z",
     "iopub.status.busy": "2024-07-14T03:35:20.983023Z",
     "iopub.status.idle": "2024-07-14T03:35:20.990572Z",
     "shell.execute_reply": "2024-07-14T03:35:20.989734Z"
    },
    "papermill": {
     "duration": 0.017509,
     "end_time": "2024-07-14T03:35:20.992438",
     "exception": false,
     "start_time": "2024-07-14T03:35:20.974929",
     "status": "completed"
    },
    "tags": []
   },
   "outputs": [],
   "source": [
    "# keras.utils.clear_session()\n",
    "\n",
    "# def x_to_seq(x):\n",
    "#     x_seq0 = keras.ops.transpose(keras.ops.reshape(x[:, 0:60 * 6], (-1, 6, 60)), (0, 2, 1))\n",
    "#     x_seq1 = keras.ops.transpose(keras.ops.reshape(x[:, 60 * 6 + 16:60 * 9 + 16], (-1, 3, 60)), (0, 2, 1))\n",
    "#     x_flat = keras.ops.reshape(x[:, 60 * 6:60 * 6 + 16], (-1, 1, 16))\n",
    "#     x_flat = keras.ops.repeat(x_flat, 60, axis=1)\n",
    "#     return keras.ops.concatenate([x_seq0, x_seq1, x_flat], axis=-1)\n",
    "\n",
    "\n",
    "# def build_cnn(activation='relu'):    \n",
    "#     return keras.Sequential([\n",
    "# #         keras.layers.Conv1D(500, 3, padding='same', activation=activation),\n",
    "# #         keras.layers.BatchNormalization(),\n",
    "# #         keras.layers.Conv1D(512, 4, padding='same', activation=activation),\n",
    "# #         keras.layers.BatchNormalization(),\n",
    "#         keras.layers.Conv1D(328, 5, padding='same', activation=activation),\n",
    "#         keras.layers.BatchNormalization(),\n",
    "#         keras.layers.Conv1D(256, 5, padding='same', activation=activation),\n",
    "#         keras.layers.BatchNormalization(),\n",
    "#         keras.layers.Conv1D(128, 5, padding='same', activation=activation),\n",
    "#         keras.layers.BatchNormalization(),\n",
    "#         keras.layers.Conv1D(64, 5, padding='same', activation=activation),\n",
    "#         keras.layers.BatchNormalization(),\n",
    "#     ])\n",
    "\n",
    "\n",
    "# X_input = x = keras.layers.Input(ds_train.element_spec[0].shape[1:])\n",
    "# x = keras.layers.Normalization(mean=norm_x.mean, variance=norm_x.variance)(x)\n",
    "# x = x_to_seq(x)\n",
    "\n",
    "# # e = e0 = keras.layers.Conv1D(64, 1, padding='same')(x)\n",
    "# # # e = keras.layers.BatchNormalization()(e)\n",
    "# # e = build_cnn()(e)\n",
    "# # # add global average to allow some comunication between all levels even in a small CNN\n",
    "# # e = e + keras.layers.GlobalAveragePooling1D(keepdims=True)(e) + e0\n",
    "# # e = e1 = keras.layers.BatchNormalization()(e)\n",
    "# # # e = build_cnn()(e)\n",
    "# # # # e = e + e1 + keras.layers.GlobalAveragePooling1D(keepdims=True)(e1)\n",
    "# # e = build_cnn()(e)\n",
    "# # e = e + keras.layers.GlobalAveragePooling1D(keepdims=True)(e) + e1\n",
    "# # e = keras.layers.BatchNormalization()(e)\n",
    "# # e = build_cnn()(e)\n",
    "\n",
    "# e = e0 = keras.layers.Conv1D(64, 1, padding='same')(x)\n",
    "# e = build_cnn()(e)\n",
    "# # add global average to allow some comunication between all levels even in a small CNN\n",
    "# e = e0 + e + keras.layers.GlobalAveragePooling1D(keepdims=True)(e)\n",
    "# # e = keras.layers.BatchNormalization()(e)\n",
    "# # e1 = build_cnn()(e)\n",
    "# # e = e + e1 + keras.layers.GlobalAveragePooling1D(keepdims=True)(e1)\n",
    "# e = keras.layers.BatchNormalization()(e)\n",
    "# e = e + build_cnn()(e) + keras.layers.GlobalAveragePooling1D(keepdims=True)(e)\n",
    "# e = keras.layers.BatchNormalization()(e)\n",
    "# e = e + build_cnn()(e) + keras.layers.GlobalAveragePooling1D(keepdims=True)(e)\n",
    "# e = keras.layers.BatchNormalization()(e)\n",
    "# e = keras.layers.BatchNormalization()(e)\n",
    "# e = e + build_cnn()(e) + keras.layers.GlobalAveragePooling1D(keepdims=True)(e)\n",
    "# e = keras.layers.BatchNormalization()(e)\n",
    "# # p_all = keras.layers.Conv1D(14, 1, padding='same')(e)\n",
    "\n",
    "# # p_seq = p_all[:, :, :6]\n",
    "# # p_seq = keras.ops.transpose(p_seq, (0, 2, 1))\n",
    "# # p_seq = keras.layers.Flatten()(p_seq)\n",
    "# # assert p_seq.shape[-1] == 360\n",
    "\n",
    "# p_seq = keras.layers.Conv1D(6, 1, padding='same')(e)\n",
    "# p_seq = keras.ops.transpose(p_seq, (0, 2, 1))\n",
    "# p_seq = keras.layers.Flatten()(p_seq)\n",
    "# assert p_seq.shape[-1] == 360\n",
    "\n",
    "# # p_flat = p_all[:, :, 6:6 + 8]\n",
    "# # p_flat = keras.ops.mean(p_flat, axis=1)\n",
    "# # assert p_flat.shape[-1] == 8\n",
    "\n",
    "\n",
    "# p_flat = keras.layers.Conv1D(8, 1, padding='same')(e)\n",
    "# p_flat = keras.ops.mean(p_flat, axis=1)\n",
    "# assert p_flat.shape[-1] == 8\n",
    "\n",
    "# P = keras.ops.concatenate([p_seq, p_flat], axis=1)\n",
    "\n",
    "# # P = keras.layers.Dense(1024, activation='relu')(P)\n",
    "# # # P = keras.layers.Dropout(0.3)(P)\n",
    "# # P = keras.layers.Dense(750, activation='relu')(P)\n",
    "# # P = keras.layers.Dense(368, activation='relu')(P)\n",
    "# # P = keras.layers.Dropout(0.3)(P)\n",
    "\n",
    "# # # Output layer\n",
    "# # output = keras.layers.Dense(368, activation='linear')(P)\n",
    "\n",
    "# # build & compile\n",
    "# model = keras.Model(X_input, P)\n",
    "# model.compile(\n",
    "#     loss='mse', \n",
    "#     optimizer=keras.optimizers.Adam(lr_scheduler),\n",
    "#     metrics=[ClippedR2Score()]\n",
    "# )\n",
    "# model.build(tuple(ds_train.element_spec[0].shape))\n",
    "# model.summary()"
   ]
  },
  {
   "cell_type": "code",
   "execution_count": 3,
   "id": "785c58a5",
   "metadata": {
    "execution": {
     "iopub.execute_input": "2024-07-14T03:35:21.008087Z",
     "iopub.status.busy": "2024-07-14T03:35:21.007644Z",
     "iopub.status.idle": "2024-07-14T03:35:24.964073Z",
     "shell.execute_reply": "2024-07-14T03:35:24.963047Z"
    },
    "papermill": {
     "duration": 3.966928,
     "end_time": "2024-07-14T03:35:24.966560",
     "exception": false,
     "start_time": "2024-07-14T03:35:20.999632",
     "status": "completed"
    },
    "tags": []
   },
   "outputs": [],
   "source": [
    "model = tf.keras.models.load_model('/kaggle/input/cnn-max/CNN_model_10th_JUL_2_ep.keras')"
   ]
  },
  {
   "cell_type": "code",
   "execution_count": 4,
   "id": "860385a4",
   "metadata": {
    "execution": {
     "iopub.execute_input": "2024-07-14T03:35:24.982770Z",
     "iopub.status.busy": "2024-07-14T03:35:24.982016Z",
     "iopub.status.idle": "2024-07-14T09:21:32.339773Z",
     "shell.execute_reply": "2024-07-14T09:21:32.337248Z"
    },
    "papermill": {
     "duration": 20767.37928,
     "end_time": "2024-07-14T09:21:32.353216",
     "exception": false,
     "start_time": "2024-07-14T03:35:24.973936",
     "status": "completed"
    },
    "tags": []
   },
   "outputs": [
    {
     "name": "stdout",
     "output_type": "stream",
     "text": [
      "Epoch 1/10\n"
     ]
    },
    {
     "name": "stderr",
     "output_type": "stream",
     "text": [
      "2024-07-14 03:35:33.742825: E external/xla/xla/service/slow_operation_alarm.cc:65] Trying algorithm eng4{k11=2} for conv (f32[1024,256,60]{2,1,0}, u8[0]{0}) custom-call(f32[1024,128,60]{2,1,0}, f32[128,256,5]{2,1,0}), window={size=5 pad=2_2}, dim_labels=bf0_oi0->bf0, custom_call_target=\"__cudnn$convBackwardInput\", backend_config={\"conv_result_scale\":1,\"activation_mode\":\"kNone\",\"side_input_scale\":0,\"leakyrelu_alpha\":0} is taking a while...\n",
      "2024-07-14 03:35:33.807997: E external/xla/xla/service/slow_operation_alarm.cc:133] The operation took 1.065284989s\n",
      "Trying algorithm eng4{k11=2} for conv (f32[1024,256,60]{2,1,0}, u8[0]{0}) custom-call(f32[1024,128,60]{2,1,0}, f32[128,256,5]{2,1,0}), window={size=5 pad=2_2}, dim_labels=bf0_oi0->bf0, custom_call_target=\"__cudnn$convBackwardInput\", backend_config={\"conv_result_scale\":1,\"activation_mode\":\"kNone\",\"side_input_scale\":0,\"leakyrelu_alpha\":0} is taking a while...\n",
      "2024-07-14 03:35:34.958014: E external/xla/xla/service/slow_operation_alarm.cc:65] Trying algorithm eng4{k11=2} for conv (f32[1024,328,60]{2,1,0}, u8[0]{0}) custom-call(f32[1024,256,60]{2,1,0}, f32[256,328,5]{2,1,0}), window={size=5 pad=2_2}, dim_labels=bf0_oi0->bf0, custom_call_target=\"__cudnn$convBackwardInput\", backend_config={\"conv_result_scale\":1,\"activation_mode\":\"kNone\",\"side_input_scale\":0,\"leakyrelu_alpha\":0} is taking a while...\n",
      "2024-07-14 03:35:36.740861: E external/xla/xla/service/slow_operation_alarm.cc:133] The operation took 2.782966412s\n",
      "Trying algorithm eng4{k11=2} for conv (f32[1024,328,60]{2,1,0}, u8[0]{0}) custom-call(f32[1024,256,60]{2,1,0}, f32[256,328,5]{2,1,0}), window={size=5 pad=2_2}, dim_labels=bf0_oi0->bf0, custom_call_target=\"__cudnn$convBackwardInput\", backend_config={\"conv_result_scale\":1,\"activation_mode\":\"kNone\",\"side_input_scale\":0,\"leakyrelu_alpha\":0} is taking a while...\n",
      "2024-07-14 04:10:14.429203: E external/xla/xla/service/slow_operation_alarm.cc:65] Trying algorithm eng4{k11=2} for conv (f32[640,328,60]{2,1,0}, u8[0]{0}) custom-call(f32[640,256,60]{2,1,0}, f32[256,328,5]{2,1,0}), window={size=5 pad=2_2}, dim_labels=bf0_oi0->bf0, custom_call_target=\"__cudnn$convBackwardInput\", backend_config={\"conv_result_scale\":1,\"activation_mode\":\"kNone\",\"side_input_scale\":0,\"leakyrelu_alpha\":0} is taking a while...\n",
      "2024-07-14 04:10:15.095616: E external/xla/xla/service/slow_operation_alarm.cc:133] The operation took 1.666563245s\n",
      "Trying algorithm eng4{k11=2} for conv (f32[640,328,60]{2,1,0}, u8[0]{0}) custom-call(f32[640,256,60]{2,1,0}, f32[256,328,5]{2,1,0}), window={size=5 pad=2_2}, dim_labels=bf0_oi0->bf0, custom_call_target=\"__cudnn$convBackwardInput\", backend_config={\"conv_result_scale\":1,\"activation_mode\":\"kNone\",\"side_input_scale\":0,\"leakyrelu_alpha\":0} is taking a while...\n"
     ]
    },
    {
     "name": "stdout",
     "output_type": "stream",
     "text": [
      "9766/9766 - 2108s - 216ms/step - loss: 0.2287 - r2_score: nan - val_loss: 0.2133 - val_r2_score: nan\n",
      "Epoch 2/10\n",
      "9766/9766 - 2069s - 212ms/step - loss: 0.2283 - r2_score: nan - val_loss: 0.2128 - val_r2_score: nan\n",
      "Epoch 3/10\n",
      "9766/9766 - 2072s - 212ms/step - loss: 0.2279 - r2_score: nan - val_loss: 0.2134 - val_r2_score: nan\n",
      "Epoch 4/10\n",
      "9766/9766 - 2074s - 212ms/step - loss: 0.2275 - r2_score: nan - val_loss: 0.2130 - val_r2_score: nan\n",
      "Epoch 5/10\n",
      "9766/9766 - 2076s - 213ms/step - loss: 0.2271 - r2_score: nan - val_loss: 0.2139 - val_r2_score: nan\n",
      "Epoch 6/10\n",
      "9766/9766 - 2075s - 212ms/step - loss: 0.2269 - r2_score: nan - val_loss: 0.2139 - val_r2_score: nan\n",
      "Epoch 7/10\n",
      "9766/9766 - 2074s - 212ms/step - loss: 0.2264 - r2_score: nan - val_loss: 0.2173 - val_r2_score: nan\n",
      "Epoch 8/10\n",
      "9766/9766 - 2073s - 212ms/step - loss: 0.2261 - r2_score: nan - val_loss: 0.2147 - val_r2_score: nan\n",
      "Epoch 9/10\n",
      "9766/9766 - 2071s - 212ms/step - loss: 0.2258 - r2_score: nan - val_loss: 0.2138 - val_r2_score: nan\n",
      "Epoch 10/10\n",
      "9766/9766 - 2074s - 212ms/step - loss: 0.2255 - r2_score: nan - val_loss: 0.2137 - val_r2_score: nan\n"
     ]
    }
   ],
   "source": [
    "ds_train_target_normalized = ds_train.map(lambda x, y: (x, (y - mean_y) / stdd_y))\n",
    "ds_valid_target_normalized = ds_valid.map(lambda x, y: (x, (y - mean_y) / stdd_y))\n",
    "\n",
    "history = model.fit(\n",
    "    ds_train_target_normalized,\n",
    "    validation_data=ds_valid_target_normalized,\n",
    "    epochs=epochs,\n",
    "    verbose=1 if is_interactive() else 2,\n",
    "    callbacks=[\n",
    "        keras.callbacks.ModelCheckpoint(filepath='model.keras')\n",
    "    ]\n",
    ")"
   ]
  },
  {
   "cell_type": "markdown",
   "id": "1576a678",
   "metadata": {
    "papermill": {
     "duration": 0.009157,
     "end_time": "2024-07-14T09:21:32.371826",
     "exception": false,
     "start_time": "2024-07-14T09:21:32.362669",
     "status": "completed"
    },
    "tags": []
   },
   "source": [
    "840 0.5976\n",
    "450 "
   ]
  },
  {
   "cell_type": "code",
   "execution_count": 5,
   "id": "5cddc1e7",
   "metadata": {
    "execution": {
     "iopub.execute_input": "2024-07-14T09:21:32.394022Z",
     "iopub.status.busy": "2024-07-14T09:21:32.393697Z",
     "iopub.status.idle": "2024-07-14T09:21:32.623616Z",
     "shell.execute_reply": "2024-07-14T09:21:32.622602Z"
    },
    "papermill": {
     "duration": 0.245296,
     "end_time": "2024-07-14T09:21:32.625892",
     "exception": false,
     "start_time": "2024-07-14T09:21:32.380596",
     "status": "completed"
    },
    "tags": []
   },
   "outputs": [],
   "source": [
    "model.save('/kaggle/working/CNN_model_10th_JUL_2_ep.keras')"
   ]
  },
  {
   "cell_type": "code",
   "execution_count": 6,
   "id": "45153941",
   "metadata": {
    "execution": {
     "iopub.execute_input": "2024-07-14T09:21:32.646400Z",
     "iopub.status.busy": "2024-07-14T09:21:32.646088Z",
     "iopub.status.idle": "2024-07-14T09:21:32.649948Z",
     "shell.execute_reply": "2024-07-14T09:21:32.649122Z"
    },
    "papermill": {
     "duration": 0.01647,
     "end_time": "2024-07-14T09:21:32.651776",
     "exception": false,
     "start_time": "2024-07-14T09:21:32.635306",
     "status": "completed"
    },
    "tags": []
   },
   "outputs": [],
   "source": [
    "# loaded_model = tf.keras.models.load_model('/kaggle/input/cnn-model/CNN_model.keras')"
   ]
  },
  {
   "cell_type": "code",
   "execution_count": 7,
   "id": "0e38e74c",
   "metadata": {
    "execution": {
     "iopub.execute_input": "2024-07-14T09:21:32.671173Z",
     "iopub.status.busy": "2024-07-14T09:21:32.670427Z",
     "iopub.status.idle": "2024-07-14T09:21:32.674894Z",
     "shell.execute_reply": "2024-07-14T09:21:32.674244Z"
    },
    "papermill": {
     "duration": 0.016102,
     "end_time": "2024-07-14T09:21:32.676813",
     "exception": false,
     "start_time": "2024-07-14T09:21:32.660711",
     "status": "completed"
    },
    "tags": []
   },
   "outputs": [],
   "source": [
    "# def build_second_model(first_model):\n",
    "#     for layer in first_model.layers:\n",
    "#         layer.trainable = False\n",
    "        \n",
    "#     X_input = keras.layers.Input(shape=(556,))\n",
    "    \n",
    "#     # Pass the input through the first model\n",
    "#     predictions = first_model(X_input)\n",
    "    \n",
    "#     # Ensure predictions is a Keras tensor and handle it appropriately\n",
    "#     if isinstance(predictions, (list, tuple)):\n",
    "#         predictions = predictions[0]\n",
    "\n",
    "#     # Build the rest of the model\n",
    "#     x = keras.layers.Dense(1576, activation='relu')(predictions)\n",
    "#     # Uncomment the following lines if you want to add more layers\n",
    "# #     x = keras.layers.Dropout(0.2)(x)\n",
    "#     # x = keras.layers.Dropout(0.2)(x)\n",
    "#     output = keras.layers.Dense(368, activation='linear')(x)\n",
    "\n",
    "#     model = keras.Model(inputs=X_input, outputs=output)\n",
    "\n",
    "#     # Compile the second model\n",
    "#     model.compile(\n",
    "#         loss='mse',\n",
    "#         optimizer=keras.optimizers.Adam(learning_rate=lr_scheduler),\n",
    "#         metrics=[ClippedR2Score()]\n",
    "#     )\n",
    "\n",
    "#     return model\n",
    "\n",
    "# second_model = build_second_model(loaded_model)\n",
    "# second_model.summary()"
   ]
  },
  {
   "cell_type": "code",
   "execution_count": 8,
   "id": "4cda9999",
   "metadata": {
    "execution": {
     "iopub.execute_input": "2024-07-14T09:21:32.696390Z",
     "iopub.status.busy": "2024-07-14T09:21:32.696129Z",
     "iopub.status.idle": "2024-07-14T09:21:32.700001Z",
     "shell.execute_reply": "2024-07-14T09:21:32.699170Z"
    },
    "papermill": {
     "duration": 0.01596,
     "end_time": "2024-07-14T09:21:32.701853",
     "exception": false,
     "start_time": "2024-07-14T09:21:32.685893",
     "status": "completed"
    },
    "tags": []
   },
   "outputs": [],
   "source": [
    "# ds_train_target_normalized = ds_train.map(lambda x, y: (x, (y - mean_y) / stdd_y))\n",
    "# ds_valid_target_normalized = ds_valid.map(lambda x, y: (x, (y - mean_y) / stdd_y))\n",
    "\n",
    "# history_2 = second_model.fit(\n",
    "#     ds_train_target_normalized,\n",
    "#     validation_data = ds_valid_target_normalized,\n",
    "#     epochs=epochs,\n",
    "#     verbose=1 if is_interactive() else 2\n",
    "# #     callbacks=[\n",
    "# #         keras.callbacks.ModelCheckpoint(filepath='model.keras')\n",
    "# #     ]\n",
    "# )"
   ]
  },
  {
   "cell_type": "code",
   "execution_count": 9,
   "id": "723c08bb",
   "metadata": {
    "execution": {
     "iopub.execute_input": "2024-07-14T09:21:32.721638Z",
     "iopub.status.busy": "2024-07-14T09:21:32.721372Z",
     "iopub.status.idle": "2024-07-14T09:21:32.725020Z",
     "shell.execute_reply": "2024-07-14T09:21:32.724150Z"
    },
    "papermill": {
     "duration": 0.016017,
     "end_time": "2024-07-14T09:21:32.726870",
     "exception": false,
     "start_time": "2024-07-14T09:21:32.710853",
     "status": "completed"
    },
    "tags": []
   },
   "outputs": [],
   "source": [
    "# second_model.save('/kaggle/working/correction_model.keras')"
   ]
  },
  {
   "cell_type": "code",
   "execution_count": 10,
   "id": "4e735453",
   "metadata": {
    "execution": {
     "iopub.execute_input": "2024-07-14T09:21:32.745986Z",
     "iopub.status.busy": "2024-07-14T09:21:32.745733Z",
     "iopub.status.idle": "2024-07-14T09:21:32.749242Z",
     "shell.execute_reply": "2024-07-14T09:21:32.748399Z"
    },
    "papermill": {
     "duration": 0.015184,
     "end_time": "2024-07-14T09:21:32.751074",
     "exception": false,
     "start_time": "2024-07-14T09:21:32.735890",
     "status": "completed"
    },
    "tags": []
   },
   "outputs": [],
   "source": [
    "# correction_model = tf.keras.models.load_model('/kaggle/input/corrections-model/correction_model.keras')"
   ]
  },
  {
   "cell_type": "code",
   "execution_count": 11,
   "id": "3590e0cf",
   "metadata": {
    "execution": {
     "iopub.execute_input": "2024-07-14T09:21:32.770391Z",
     "iopub.status.busy": "2024-07-14T09:21:32.770127Z",
     "iopub.status.idle": "2024-07-14T09:21:32.773534Z",
     "shell.execute_reply": "2024-07-14T09:21:32.772715Z"
    },
    "papermill": {
     "duration": 0.015157,
     "end_time": "2024-07-14T09:21:32.775366",
     "exception": false,
     "start_time": "2024-07-14T09:21:32.760209",
     "status": "completed"
    },
    "tags": []
   },
   "outputs": [],
   "source": [
    "# plt.plot(history.history['loss'], color='tab:blue')\n",
    "# plt.plot(history.history['val_loss'], color='tab:red')\n",
    "# plt.yscale('log');"
   ]
  },
  {
   "cell_type": "code",
   "execution_count": 12,
   "id": "c6e5cde9",
   "metadata": {
    "execution": {
     "iopub.execute_input": "2024-07-14T09:21:32.794762Z",
     "iopub.status.busy": "2024-07-14T09:21:32.794494Z",
     "iopub.status.idle": "2024-07-14T09:21:34.437717Z",
     "shell.execute_reply": "2024-07-14T09:21:34.436882Z"
    },
    "papermill": {
     "duration": 1.655668,
     "end_time": "2024-07-14T09:21:34.440174",
     "exception": false,
     "start_time": "2024-07-14T09:21:32.784506",
     "status": "completed"
    },
    "tags": []
   },
   "outputs": [],
   "source": [
    "y_valid = np.concatenate([yb for _, yb in ds_valid])"
   ]
  },
  {
   "cell_type": "code",
   "execution_count": 13,
   "id": "687776da",
   "metadata": {
    "execution": {
     "iopub.execute_input": "2024-07-14T09:21:34.460343Z",
     "iopub.status.busy": "2024-07-14T09:21:34.460023Z",
     "iopub.status.idle": "2024-07-14T09:21:41.777525Z",
     "shell.execute_reply": "2024-07-14T09:21:41.776652Z"
    },
    "papermill": {
     "duration": 7.330023,
     "end_time": "2024-07-14T09:21:41.779812",
     "exception": false,
     "start_time": "2024-07-14T09:21:34.449789",
     "status": "completed"
    },
    "tags": []
   },
   "outputs": [
    {
     "name": "stdout",
     "output_type": "stream",
     "text": [
      "\u001b[1m90/90\u001b[0m \u001b[32m━━━━━━━━━━━━━━━━━━━━\u001b[0m\u001b[37m\u001b[0m \u001b[1m7s\u001b[0m 53ms/step\n"
     ]
    }
   ],
   "source": [
    "p_valid = model.predict(ds_valid, batch_size=BATCH_SIZE) * stdd_y + mean_y"
   ]
  },
  {
   "cell_type": "code",
   "execution_count": 14,
   "id": "f4d30755",
   "metadata": {
    "execution": {
     "iopub.execute_input": "2024-07-14T09:21:41.810302Z",
     "iopub.status.busy": "2024-07-14T09:21:41.809955Z",
     "iopub.status.idle": "2024-07-14T09:21:41.813898Z",
     "shell.execute_reply": "2024-07-14T09:21:41.813095Z"
    },
    "papermill": {
     "duration": 0.021259,
     "end_time": "2024-07-14T09:21:41.815772",
     "exception": false,
     "start_time": "2024-07-14T09:21:41.794513",
     "status": "completed"
    },
    "tags": []
   },
   "outputs": [],
   "source": [
    "# p_valid_corr = correction_model.predict(ds_valid, batch_size=BATCH_SIZE) * stdd_y + mean_y"
   ]
  },
  {
   "cell_type": "code",
   "execution_count": 15,
   "id": "0416d5f6",
   "metadata": {
    "execution": {
     "iopub.execute_input": "2024-07-14T09:21:41.845759Z",
     "iopub.status.busy": "2024-07-14T09:21:41.845182Z",
     "iopub.status.idle": "2024-07-14T09:21:43.109092Z",
     "shell.execute_reply": "2024-07-14T09:21:43.108118Z"
    },
    "papermill": {
     "duration": 1.281646,
     "end_time": "2024-07-14T09:21:43.111816",
     "exception": false,
     "start_time": "2024-07-14T09:21:41.830170",
     "status": "completed"
    },
    "tags": []
   },
   "outputs": [],
   "source": [
    "scores_valid = np.array([metrics.r2_score(y_valid[:, i], p_valid[:, i]) for i in range(len(TARGETS))])\n",
    "# scores_valid_corr = np.array([metrics.r2_score(y_valid[:, i], p_valid_corr[:, i]) for i in range(len(TARGETS))])\n",
    "# plt.plot(scores_valid.clip(-1, 1))"
   ]
  },
  {
   "cell_type": "code",
   "execution_count": 16,
   "id": "e878a3e9",
   "metadata": {
    "execution": {
     "iopub.execute_input": "2024-07-14T09:21:43.142977Z",
     "iopub.status.busy": "2024-07-14T09:21:43.142645Z",
     "iopub.status.idle": "2024-07-14T09:21:43.146575Z",
     "shell.execute_reply": "2024-07-14T09:21:43.145682Z"
    },
    "papermill": {
     "duration": 0.021753,
     "end_time": "2024-07-14T09:21:43.148533",
     "exception": false,
     "start_time": "2024-07-14T09:21:43.126780",
     "status": "completed"
    },
    "tags": []
   },
   "outputs": [],
   "source": [
    "# scores_valid = np.array([metrics.r2_score(y_valid[:, i], p_valid[:, i]) for i in range(len(TARGETS))])\n",
    "# plt.plot(scores_valid.clip(-1, 1))"
   ]
  },
  {
   "cell_type": "code",
   "execution_count": 17,
   "id": "f13ead0b",
   "metadata": {
    "execution": {
     "iopub.execute_input": "2024-07-14T09:21:43.178413Z",
     "iopub.status.busy": "2024-07-14T09:21:43.178091Z",
     "iopub.status.idle": "2024-07-14T09:21:43.184241Z",
     "shell.execute_reply": "2024-07-14T09:21:43.183381Z"
    },
    "papermill": {
     "duration": 0.023541,
     "end_time": "2024-07-14T09:21:43.186351",
     "exception": false,
     "start_time": "2024-07-14T09:21:43.162810",
     "status": "completed"
    },
    "tags": []
   },
   "outputs": [
    {
     "data": {
      "text/plain": [
       "'Number of under-performing targets: 85'"
      ]
     },
     "execution_count": 17,
     "metadata": {},
     "output_type": "execute_result"
    }
   ],
   "source": [
    "mask = scores_valid <= 1e-3\n",
    "f\"Number of under-performing targets: {sum(mask)}\""
   ]
  },
  {
   "cell_type": "code",
   "execution_count": 18,
   "id": "72a4a871",
   "metadata": {
    "execution": {
     "iopub.execute_input": "2024-07-14T09:21:43.217189Z",
     "iopub.status.busy": "2024-07-14T09:21:43.216852Z",
     "iopub.status.idle": "2024-07-14T09:21:43.220823Z",
     "shell.execute_reply": "2024-07-14T09:21:43.219940Z"
    },
    "papermill": {
     "duration": 0.021289,
     "end_time": "2024-07-14T09:21:43.222842",
     "exception": false,
     "start_time": "2024-07-14T09:21:43.201553",
     "status": "completed"
    },
    "tags": []
   },
   "outputs": [],
   "source": [
    "# mask_corr = scores_valid_corr <= 1e-3\n",
    "# f\"Number of under-performing targets: {sum(mask_corr)}\""
   ]
  },
  {
   "cell_type": "code",
   "execution_count": 19,
   "id": "2f5789b4",
   "metadata": {
    "execution": {
     "iopub.execute_input": "2024-07-14T09:21:43.253280Z",
     "iopub.status.busy": "2024-07-14T09:21:43.252954Z",
     "iopub.status.idle": "2024-07-14T09:21:43.256773Z",
     "shell.execute_reply": "2024-07-14T09:21:43.255896Z"
    },
    "papermill": {
     "duration": 0.021294,
     "end_time": "2024-07-14T09:21:43.258708",
     "exception": false,
     "start_time": "2024-07-14T09:21:43.237414",
     "status": "completed"
    },
    "tags": []
   },
   "outputs": [],
   "source": [
    "# print(f\"Clipped score: {scores_valid_CNN.clip(0, 1).mean()}\")\n",
    "# print(f\"Clipped score: {scores_valid_corr.clip(0, 1).mean()}\")"
   ]
  },
  {
   "cell_type": "code",
   "execution_count": 20,
   "id": "0d1fe352",
   "metadata": {
    "execution": {
     "iopub.execute_input": "2024-07-14T09:21:43.289606Z",
     "iopub.status.busy": "2024-07-14T09:21:43.288927Z",
     "iopub.status.idle": "2024-07-14T09:21:43.292876Z",
     "shell.execute_reply": "2024-07-14T09:21:43.291990Z"
    },
    "papermill": {
     "duration": 0.021655,
     "end_time": "2024-07-14T09:21:43.294854",
     "exception": false,
     "start_time": "2024-07-14T09:21:43.273199",
     "status": "completed"
    },
    "tags": []
   },
   "outputs": [],
   "source": [
    "# p_valid_ensemble = (p_valid_CNN + p_valid_corr)/2"
   ]
  },
  {
   "cell_type": "code",
   "execution_count": 21,
   "id": "0204cf9c",
   "metadata": {
    "execution": {
     "iopub.execute_input": "2024-07-14T09:21:43.325355Z",
     "iopub.status.busy": "2024-07-14T09:21:43.325061Z",
     "iopub.status.idle": "2024-07-14T09:21:43.329946Z",
     "shell.execute_reply": "2024-07-14T09:21:43.329131Z"
    },
    "papermill": {
     "duration": 0.023099,
     "end_time": "2024-07-14T09:21:43.332575",
     "exception": false,
     "start_time": "2024-07-14T09:21:43.309476",
     "status": "completed"
    },
    "tags": []
   },
   "outputs": [
    {
     "name": "stdout",
     "output_type": "stream",
     "text": [
      "Number of under-performing targets: 85\n",
      "Clipped score: 0.5281192836099039\n"
     ]
    }
   ],
   "source": [
    "# scores_valid_ensemble = np.array([metrics.r2_score(y_valid[:, i], p_valid_ensemble[:, i]) for i in range(len(TARGETS))])\n",
    "# mask_ensemble = scores_valid_ensemble <= 1e-3\n",
    "print(f\"Number of under-performing targets: {sum(mask)}\")\n",
    "print(f\"Clipped score: {scores_valid.clip(0, 1).mean()}\")"
   ]
  },
  {
   "cell_type": "code",
   "execution_count": 22,
   "id": "a0a427dd",
   "metadata": {
    "execution": {
     "iopub.execute_input": "2024-07-14T09:21:43.365592Z",
     "iopub.status.busy": "2024-07-14T09:21:43.364844Z",
     "iopub.status.idle": "2024-07-14T09:21:43.370754Z",
     "shell.execute_reply": "2024-07-14T09:21:43.369902Z"
    },
    "papermill": {
     "duration": 0.02521,
     "end_time": "2024-07-14T09:21:43.372658",
     "exception": false,
     "start_time": "2024-07-14T09:21:43.347448",
     "status": "completed"
    },
    "tags": []
   },
   "outputs": [
    {
     "data": {
      "text/plain": [
       "[0.9867827402034574,\n",
       " 0.9904969887074847,\n",
       " 0.9274399256731293,\n",
       " 0.9044589695971998,\n",
       " 0.9763110806117237,\n",
       " 0.9660325426759133,\n",
       " 0.9678076129793405,\n",
       " 0.913055222247184]"
      ]
     },
     "execution_count": 22,
     "metadata": {},
     "output_type": "execute_result"
    }
   ],
   "source": [
    "list(scores_valid[360:])"
   ]
  },
  {
   "cell_type": "markdown",
   "id": "27409796",
   "metadata": {
    "papermill": {
     "duration": 0.014541,
     "end_time": "2024-07-14T09:21:43.401997",
     "exception": false,
     "start_time": "2024-07-14T09:21:43.387456",
     "status": "completed"
    },
    "tags": []
   },
   "source": [
    "[0.9842644381488842,\n",
    " 0.9871307954886168,\n",
    " 0.9096566930830228,\n",
    " 0.8879915782642498,\n",
    " 0.973537203188378,\n",
    " 0.9619936132175412,\n",
    " 0.9640490246675097,\n",
    " 0.9049760183730943]"
   ]
  },
  {
   "cell_type": "markdown",
   "id": "2d595418",
   "metadata": {
    "papermill": {
     "duration": 0.015991,
     "end_time": "2024-07-14T09:21:43.432798",
     "exception": false,
     "start_time": "2024-07-14T09:21:43.416807",
     "status": "completed"
    },
    "tags": []
   },
   "source": [
    "# Submission"
   ]
  },
  {
   "cell_type": "code",
   "execution_count": 23,
   "id": "2ba96251",
   "metadata": {
    "execution": {
     "iopub.execute_input": "2024-07-14T09:21:43.464186Z",
     "iopub.status.busy": "2024-07-14T09:21:43.463790Z",
     "iopub.status.idle": "2024-07-14T09:23:34.373934Z",
     "shell.execute_reply": "2024-07-14T09:23:34.371243Z"
    },
    "papermill": {
     "duration": 110.931335,
     "end_time": "2024-07-14T09:23:34.379210",
     "exception": false,
     "start_time": "2024-07-14T09:21:43.447875",
     "status": "completed"
    },
    "tags": []
   },
   "outputs": [
    {
     "name": "stdout",
     "output_type": "stream",
     "text": [
      "\u001b[1m153/153\u001b[0m \u001b[32m━━━━━━━━━━━━━━━━━━━━\u001b[0m\u001b[37m\u001b[0m \u001b[1m36s\u001b[0m 213ms/step\n"
     ]
    }
   ],
   "source": [
    "sample = pl.read_csv(\"/kaggle/input/leap-atmospheric-physics-ai-climsim/sample_submission.csv\")\n",
    "\n",
    "df_test = (\n",
    "    pl.scan_csv(\"/kaggle/input/leap-atmospheric-physics-ai-climsim/test.csv\")\n",
    "    .select(pl.exclude(\"sample_id\"))\n",
    "    .cast(pl.Float32)\n",
    "    .collect()\n",
    ")\n",
    "\n",
    "p_test = model.predict(df_test.to_numpy(), batch_size=4 * BATCH_SIZE) * stdd_y + mean_y\n",
    "# p_test_corr = correction_model.predict(df_test.to_numpy(), batch_size=4 * BATCH_SIZE) * stdd_y + mean_y\n",
    "# p_test = (p_test_CNN + p_test_corr)/2\n",
    "p_test = np.array(p_test)\n",
    "p_test[:, mask] = mean_y[:, mask]\n",
    "\n",
    "# correction of ptend_q0002 targets (from 12 to 29)\n",
    "df_p_test = pd.DataFrame(p_test, columns=TARGETS)\n",
    "\n",
    "for idx in range(12, 30):\n",
    "    df_p_test[f\"ptend_q0002_{idx}\"] = -df_test[f\"state_q0002_{idx}\"].to_numpy() / 1200\n",
    "    \n",
    "p_test = df_p_test.values\n",
    "\n",
    "submission = sample.to_pandas()\n",
    "submission[TARGETS] = submission[TARGETS] * p_test\n",
    "pl.from_pandas(submission[[\"sample_id\"] + TARGETS]).write_csv(\"submission.csv\")"
   ]
  }
 ],
 "metadata": {
  "kaggle": {
   "accelerator": "gpu",
   "dataSources": [
    {
     "databundleVersionId": 8877088,
     "sourceId": 56537,
     "sourceType": "competition"
    },
    {
     "datasetId": 5004471,
     "sourceId": 8409068,
     "sourceType": "datasetVersion"
    },
    {
     "datasetId": 5275627,
     "sourceId": 8777474,
     "sourceType": "datasetVersion"
    },
    {
     "datasetId": 5296851,
     "sourceId": 8807070,
     "sourceType": "datasetVersion"
    },
    {
     "datasetId": 5304986,
     "sourceId": 8818355,
     "sourceType": "datasetVersion"
    },
    {
     "datasetId": 5317172,
     "sourceId": 8835833,
     "sourceType": "datasetVersion"
    },
    {
     "datasetId": 5317500,
     "sourceId": 8836437,
     "sourceType": "datasetVersion"
    },
    {
     "datasetId": 5367505,
     "sourceId": 8923648,
     "sourceType": "datasetVersion"
    },
    {
     "datasetId": 5385008,
     "sourceId": 8948554,
     "sourceType": "datasetVersion"
    }
   ],
   "dockerImageVersionId": 30699,
   "isGpuEnabled": true,
   "isInternetEnabled": true,
   "language": "python",
   "sourceType": "notebook"
  },
  "kernelspec": {
   "display_name": "Python 3",
   "language": "python",
   "name": "python3"
  },
  "language_info": {
   "codemirror_mode": {
    "name": "ipython",
    "version": 3
   },
   "file_extension": ".py",
   "mimetype": "text/x-python",
   "name": "python",
   "nbconvert_exporter": "python",
   "pygments_lexer": "ipython3",
   "version": "3.10.13"
  },
  "papermill": {
   "default_parameters": {},
   "duration": 20997.619527,
   "end_time": "2024-07-14T09:23:38.193838",
   "environment_variables": {},
   "exception": null,
   "input_path": "__notebook__.ipynb",
   "output_path": "__notebook__.ipynb",
   "parameters": {},
   "start_time": "2024-07-14T03:33:40.574311",
   "version": "2.5.0"
  }
 },
 "nbformat": 4,
 "nbformat_minor": 5
}
