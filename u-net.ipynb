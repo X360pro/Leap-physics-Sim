{
 "cells": [
  {
   "cell_type": "code",
   "execution_count": 1,
   "id": "576956f5",
   "metadata": {
    "_cell_guid": "b1076dfc-b9ad-4769-8c92-a6c4dae69d19",
    "_uuid": "8f2839f25d086af736a60e9eeb907d3b93b6e0e5",
    "execution": {
     "iopub.execute_input": "2024-06-12T02:54:03.467479Z",
     "iopub.status.busy": "2024-06-12T02:54:03.467157Z",
     "iopub.status.idle": "2024-06-12T02:55:34.546398Z",
     "shell.execute_reply": "2024-06-12T02:55:34.545510Z"
    },
    "papermill": {
     "duration": 91.09283,
     "end_time": "2024-06-12T02:55:34.549164",
     "exception": false,
     "start_time": "2024-06-12T02:54:03.456334",
     "status": "completed"
    },
    "tags": []
   },
   "outputs": [
    {
     "name": "stderr",
     "output_type": "stream",
     "text": [
      "2024-06-12 02:54:05.159765: E external/local_xla/xla/stream_executor/cuda/cuda_dnn.cc:9261] Unable to register cuDNN factory: Attempting to register factory for plugin cuDNN when one has already been registered\n",
      "2024-06-12 02:54:05.159878: E external/local_xla/xla/stream_executor/cuda/cuda_fft.cc:607] Unable to register cuFFT factory: Attempting to register factory for plugin cuFFT when one has already been registered\n",
      "2024-06-12 02:54:05.289762: E external/local_xla/xla/stream_executor/cuda/cuda_blas.cc:1515] Unable to register cuBLAS factory: Attempting to register factory for plugin cuBLAS when one has already been registered\n"
     ]
    }
   ],
   "source": [
    "import numpy as np\n",
    "import tensorflow as tf\n",
    "import pandas as pd\n",
    "from glob import glob\n",
    "from tensorflow.keras.models import Model, Sequential\n",
    "from tensorflow.keras.layers import Dense, Dropout\n",
    "from tensorflow.keras.layers import Conv2D, MaxPooling2D, Conv2DTranspose\n",
    "from tensorflow.keras.layers import Input, Conv1D, MaxPooling1D, UpSampling2D, UpSampling1D, Concatenate, Cropping1D, TimeDistributed, GlobalAveragePooling1D\n",
    "from tensorflow.keras.models import Model\n",
    "from sklearn.model_selection import train_test_split\n",
    "from sklearn.preprocessing import StandardScaler\n",
    "from tensorflow.keras.callbacks import EarlyStopping\n",
    "from more_itertools import chunked\n",
    "from sklearn.metrics import r2_score\n",
    "from keras.regularizers import l2\n",
    "from keras.layers import Bidirectional\n",
    "import gc\n",
    "import polars as pl\n",
    "\n",
    "features = ['state_t_0', 'state_t_1', 'state_t_2', 'state_t_3', 'state_t_4', 'state_t_5', 'state_t_6', 'state_t_7', 'state_t_8', 'state_t_9', 'state_t_10', 'state_t_11', 'state_t_12', 'state_t_13', 'state_t_14', 'state_t_15', 'state_t_16', 'state_t_17', 'state_t_18', 'state_t_19', 'state_t_20', 'state_t_21', 'state_t_22', 'state_t_23', 'state_t_24', 'state_t_25', 'state_t_26', 'state_t_27', 'state_t_28', 'state_t_29', 'state_t_30', 'state_t_31', 'state_t_32', 'state_t_33', 'state_t_34', 'state_t_35', 'state_t_36', 'state_t_37', 'state_t_38', 'state_t_39', 'state_t_40', 'state_t_41', 'state_t_42', 'state_t_43', 'state_t_44', 'state_t_45', 'state_t_46', 'state_t_47', 'state_t_48', 'state_t_49', 'state_t_50', 'state_t_51', 'state_t_52', 'state_t_53', 'state_t_54', 'state_t_55', 'state_t_56', 'state_t_57', 'state_t_58', 'state_t_59', 'state_q0001_0', 'state_q0001_1', 'state_q0001_2', 'state_q0001_3', 'state_q0001_4', 'state_q0001_5', 'state_q0001_6', 'state_q0001_7', 'state_q0001_8', 'state_q0001_9', 'state_q0001_10', 'state_q0001_11', 'state_q0001_12', 'state_q0001_13', 'state_q0001_14', 'state_q0001_15', 'state_q0001_16', 'state_q0001_17', 'state_q0001_18', 'state_q0001_19', 'state_q0001_20', 'state_q0001_21', 'state_q0001_22', 'state_q0001_23', 'state_q0001_24', 'state_q0001_25', 'state_q0001_26', 'state_q0001_27', 'state_q0001_28', 'state_q0001_29', 'state_q0001_30', 'state_q0001_31', 'state_q0001_32', 'state_q0001_33', 'state_q0001_34', 'state_q0001_35', 'state_q0001_36', 'state_q0001_37', 'state_q0001_38', 'state_q0001_39', 'state_q0001_40', 'state_q0001_41', 'state_q0001_42', 'state_q0001_43', 'state_q0001_44', 'state_q0001_45', 'state_q0001_46', 'state_q0001_47', 'state_q0001_48', 'state_q0001_49', 'state_q0001_50', 'state_q0001_51', 'state_q0001_52', 'state_q0001_53', 'state_q0001_54', 'state_q0001_55', 'state_q0001_56', 'state_q0001_57', 'state_q0001_58', 'state_q0001_59', 'state_q0002_0', 'state_q0002_1', 'state_q0002_2', 'state_q0002_3', 'state_q0002_4', 'state_q0002_5', 'state_q0002_6', 'state_q0002_7', 'state_q0002_8', 'state_q0002_9', 'state_q0002_10', 'state_q0002_11', 'state_q0002_12', 'state_q0002_13', 'state_q0002_14', 'state_q0002_15', 'state_q0002_16', 'state_q0002_17', 'state_q0002_18', 'state_q0002_19', 'state_q0002_20', 'state_q0002_21', 'state_q0002_22', 'state_q0002_23', 'state_q0002_24', 'state_q0002_25', 'state_q0002_26', 'state_q0002_27', 'state_q0002_28', 'state_q0002_29', 'state_q0002_30', 'state_q0002_31', 'state_q0002_32', 'state_q0002_33', 'state_q0002_34', 'state_q0002_35', 'state_q0002_36', 'state_q0002_37', 'state_q0002_38', 'state_q0002_39', 'state_q0002_40', 'state_q0002_41', 'state_q0002_42', 'state_q0002_43', 'state_q0002_44', 'state_q0002_45', 'state_q0002_46', 'state_q0002_47', 'state_q0002_48', 'state_q0002_49', 'state_q0002_50', 'state_q0002_51', 'state_q0002_52', 'state_q0002_53', 'state_q0002_54', 'state_q0002_55', 'state_q0002_56', 'state_q0002_57', 'state_q0002_58', 'state_q0002_59', 'state_q0003_0', 'state_q0003_1', 'state_q0003_2', 'state_q0003_3', 'state_q0003_4', 'state_q0003_5', 'state_q0003_6', 'state_q0003_7', 'state_q0003_8', 'state_q0003_9', 'state_q0003_10', 'state_q0003_11', 'state_q0003_12', 'state_q0003_13', 'state_q0003_14', 'state_q0003_15', 'state_q0003_16', 'state_q0003_17', 'state_q0003_18', 'state_q0003_19', 'state_q0003_20', 'state_q0003_21', 'state_q0003_22', 'state_q0003_23', 'state_q0003_24', 'state_q0003_25', 'state_q0003_26', 'state_q0003_27', 'state_q0003_28', 'state_q0003_29', 'state_q0003_30', 'state_q0003_31', 'state_q0003_32', 'state_q0003_33', 'state_q0003_34', 'state_q0003_35', 'state_q0003_36', 'state_q0003_37', 'state_q0003_38', 'state_q0003_39', 'state_q0003_40', 'state_q0003_41', 'state_q0003_42', 'state_q0003_43', 'state_q0003_44', 'state_q0003_45', 'state_q0003_46', 'state_q0003_47', 'state_q0003_48', 'state_q0003_49', 'state_q0003_50', 'state_q0003_51', 'state_q0003_52', 'state_q0003_53', 'state_q0003_54', 'state_q0003_55', 'state_q0003_56', 'state_q0003_57', 'state_q0003_58', 'state_q0003_59', 'state_u_0', 'state_u_1', 'state_u_2', 'state_u_3', 'state_u_4', 'state_u_5', 'state_u_6', 'state_u_7', 'state_u_8', 'state_u_9', 'state_u_10', 'state_u_11', 'state_u_12', 'state_u_13', 'state_u_14', 'state_u_15', 'state_u_16', 'state_u_17', 'state_u_18', 'state_u_19', 'state_u_20', 'state_u_21', 'state_u_22', 'state_u_23', 'state_u_24', 'state_u_25', 'state_u_26', 'state_u_27', 'state_u_28', 'state_u_29', 'state_u_30', 'state_u_31', 'state_u_32', 'state_u_33', 'state_u_34', 'state_u_35', 'state_u_36', 'state_u_37', 'state_u_38', 'state_u_39', 'state_u_40', 'state_u_41', 'state_u_42', 'state_u_43', 'state_u_44', 'state_u_45', 'state_u_46', 'state_u_47', 'state_u_48', 'state_u_49', 'state_u_50', 'state_u_51', 'state_u_52', 'state_u_53', 'state_u_54', 'state_u_55', 'state_u_56', 'state_u_57', 'state_u_58', 'state_u_59', 'state_v_0', 'state_v_1', 'state_v_2', 'state_v_3', 'state_v_4', 'state_v_5', 'state_v_6', 'state_v_7', 'state_v_8', 'state_v_9', 'state_v_10', 'state_v_11', 'state_v_12', 'state_v_13', 'state_v_14', 'state_v_15', 'state_v_16', 'state_v_17', 'state_v_18', 'state_v_19', 'state_v_20', 'state_v_21', 'state_v_22', 'state_v_23', 'state_v_24', 'state_v_25', 'state_v_26', 'state_v_27', 'state_v_28', 'state_v_29', 'state_v_30', 'state_v_31', 'state_v_32', 'state_v_33', 'state_v_34', 'state_v_35', 'state_v_36', 'state_v_37', 'state_v_38', 'state_v_39', 'state_v_40', 'state_v_41', 'state_v_42', 'state_v_43', 'state_v_44', 'state_v_45', 'state_v_46', 'state_v_47', 'state_v_48', 'state_v_49', 'state_v_50', 'state_v_51', 'state_v_52', 'state_v_53', 'state_v_54', 'state_v_55', 'state_v_56', 'state_v_57', 'state_v_58', 'state_v_59', 'state_ps', 'pbuf_SOLIN', 'pbuf_LHFLX', 'pbuf_SHFLX', 'pbuf_TAUX', 'pbuf_TAUY', 'pbuf_COSZRS', 'cam_in_ALDIF', 'cam_in_ALDIR', 'cam_in_ASDIF', 'cam_in_ASDIR', 'cam_in_LWUP', 'cam_in_ICEFRAC', 'cam_in_LANDFRAC', 'cam_in_OCNFRAC', 'cam_in_SNOWHLAND', 'pbuf_ozone_0', 'pbuf_ozone_1', 'pbuf_ozone_2', 'pbuf_ozone_3', 'pbuf_ozone_4', 'pbuf_ozone_5', 'pbuf_ozone_6', 'pbuf_ozone_7', 'pbuf_ozone_8', 'pbuf_ozone_9', 'pbuf_ozone_10', 'pbuf_ozone_11', 'pbuf_ozone_12', 'pbuf_ozone_13', 'pbuf_ozone_14', 'pbuf_ozone_15', 'pbuf_ozone_16', 'pbuf_ozone_17', 'pbuf_ozone_18', 'pbuf_ozone_19', 'pbuf_ozone_20', 'pbuf_ozone_21', 'pbuf_ozone_22', 'pbuf_ozone_23', 'pbuf_ozone_24', 'pbuf_ozone_25', 'pbuf_ozone_26', 'pbuf_ozone_27', 'pbuf_ozone_28', 'pbuf_ozone_29', 'pbuf_ozone_30', 'pbuf_ozone_31', 'pbuf_ozone_32', 'pbuf_ozone_33', 'pbuf_ozone_34', 'pbuf_ozone_35', 'pbuf_ozone_36', 'pbuf_ozone_37', 'pbuf_ozone_38', 'pbuf_ozone_39', 'pbuf_ozone_40', 'pbuf_ozone_41', 'pbuf_ozone_42', 'pbuf_ozone_43', 'pbuf_ozone_44', 'pbuf_ozone_45', 'pbuf_ozone_46', 'pbuf_ozone_47', 'pbuf_ozone_48', 'pbuf_ozone_49', 'pbuf_ozone_50', 'pbuf_ozone_51', 'pbuf_ozone_52', 'pbuf_ozone_53', 'pbuf_ozone_54', 'pbuf_ozone_55', 'pbuf_ozone_56', 'pbuf_ozone_57', 'pbuf_ozone_58', 'pbuf_ozone_59', 'pbuf_CH4_0', 'pbuf_CH4_1', 'pbuf_CH4_2', 'pbuf_CH4_3', 'pbuf_CH4_4', 'pbuf_CH4_5', 'pbuf_CH4_6', 'pbuf_CH4_7', 'pbuf_CH4_8', 'pbuf_CH4_9', 'pbuf_CH4_10', 'pbuf_CH4_11', 'pbuf_CH4_12', 'pbuf_CH4_13', 'pbuf_CH4_14', 'pbuf_CH4_15', 'pbuf_CH4_16', 'pbuf_CH4_17', 'pbuf_CH4_18', 'pbuf_CH4_19', 'pbuf_CH4_20', 'pbuf_CH4_21', 'pbuf_CH4_22', 'pbuf_CH4_23', 'pbuf_CH4_24', 'pbuf_CH4_25', 'pbuf_CH4_26', 'pbuf_N2O_0', 'pbuf_N2O_1', 'pbuf_N2O_2', 'pbuf_N2O_3', 'pbuf_N2O_4', 'pbuf_N2O_5', 'pbuf_N2O_6', 'pbuf_N2O_7', 'pbuf_N2O_8', 'pbuf_N2O_9', 'pbuf_N2O_10', 'pbuf_N2O_11', 'pbuf_N2O_12', 'pbuf_N2O_13', 'pbuf_N2O_14', 'pbuf_N2O_15', 'pbuf_N2O_16', 'pbuf_N2O_17', 'pbuf_N2O_18', 'pbuf_N2O_19', 'pbuf_N2O_20', 'pbuf_N2O_21', 'pbuf_N2O_22', 'pbuf_N2O_23', 'pbuf_N2O_24', 'pbuf_N2O_25', 'pbuf_N2O_26']\n",
    "unpredictable_targets = ['ptend_q0002_15', 'ptend_q0002_16', 'ptend_q0002_17', 'ptend_q0002_18', 'ptend_q0002_19', 'ptend_q0002_20', 'ptend_q0002_21', 'ptend_q0002_22']\n",
    "targets = ['ptend_t_0', 'ptend_t_1', 'ptend_t_2', 'ptend_t_3', 'ptend_t_4', 'ptend_t_5', 'ptend_t_6', 'ptend_t_7', 'ptend_t_8', 'ptend_t_9', 'ptend_t_10', 'ptend_t_11', 'ptend_t_12', 'ptend_t_13', 'ptend_t_14', 'ptend_t_15', 'ptend_t_16', 'ptend_t_17', 'ptend_t_18', 'ptend_t_19', 'ptend_t_20', 'ptend_t_21', 'ptend_t_22', 'ptend_t_23', 'ptend_t_24', 'ptend_t_25', 'ptend_t_26', 'ptend_t_27', 'ptend_t_28', 'ptend_t_29', 'ptend_t_30', 'ptend_t_31', 'ptend_t_32', 'ptend_t_33', 'ptend_t_34', 'ptend_t_35', 'ptend_t_36', 'ptend_t_37', 'ptend_t_38', 'ptend_t_39', 'ptend_t_40', 'ptend_t_41', 'ptend_t_42', 'ptend_t_43', 'ptend_t_44', 'ptend_t_45', 'ptend_t_46', 'ptend_t_47', 'ptend_t_48', 'ptend_t_49', 'ptend_t_50', 'ptend_t_51', 'ptend_t_52', 'ptend_t_53', 'ptend_t_54', 'ptend_t_55', 'ptend_t_56', 'ptend_t_57', 'ptend_t_58', 'ptend_t_59', 'ptend_q0001_0', 'ptend_q0001_1', 'ptend_q0001_2', 'ptend_q0001_3', 'ptend_q0001_4', 'ptend_q0001_5', 'ptend_q0001_6', 'ptend_q0001_7', 'ptend_q0001_8', 'ptend_q0001_9', 'ptend_q0001_10', 'ptend_q0001_11', 'ptend_q0001_12', 'ptend_q0001_13', 'ptend_q0001_14', 'ptend_q0001_15', 'ptend_q0001_16', 'ptend_q0001_17', 'ptend_q0001_18', 'ptend_q0001_19', 'ptend_q0001_20', 'ptend_q0001_21', 'ptend_q0001_22', 'ptend_q0001_23', 'ptend_q0001_24', 'ptend_q0001_25', 'ptend_q0001_26', 'ptend_q0001_27', 'ptend_q0001_28', 'ptend_q0001_29', 'ptend_q0001_30', 'ptend_q0001_31', 'ptend_q0001_32', 'ptend_q0001_33', 'ptend_q0001_34', 'ptend_q0001_35', 'ptend_q0001_36', 'ptend_q0001_37', 'ptend_q0001_38', 'ptend_q0001_39', 'ptend_q0001_40', 'ptend_q0001_41', 'ptend_q0001_42', 'ptend_q0001_43', 'ptend_q0001_44', 'ptend_q0001_45', 'ptend_q0001_46', 'ptend_q0001_47', 'ptend_q0001_48', 'ptend_q0001_49', 'ptend_q0001_50', 'ptend_q0001_51', 'ptend_q0001_52', 'ptend_q0001_53', 'ptend_q0001_54', 'ptend_q0001_55', 'ptend_q0001_56', 'ptend_q0001_57', 'ptend_q0001_58', 'ptend_q0001_59', 'ptend_q0002_0', 'ptend_q0002_1', 'ptend_q0002_2', 'ptend_q0002_3', 'ptend_q0002_4', 'ptend_q0002_5', 'ptend_q0002_6', 'ptend_q0002_7', 'ptend_q0002_8', 'ptend_q0002_9', 'ptend_q0002_10', 'ptend_q0002_11', 'ptend_q0002_12', 'ptend_q0002_13', 'ptend_q0002_14', 'ptend_q0002_15', 'ptend_q0002_16', 'ptend_q0002_17', 'ptend_q0002_18', 'ptend_q0002_19', 'ptend_q0002_20', 'ptend_q0002_21', 'ptend_q0002_22', 'ptend_q0002_23', 'ptend_q0002_24', 'ptend_q0002_25', 'ptend_q0002_26', 'ptend_q0002_27', 'ptend_q0002_28', 'ptend_q0002_29', 'ptend_q0002_30', 'ptend_q0002_31', 'ptend_q0002_32', 'ptend_q0002_33', 'ptend_q0002_34', 'ptend_q0002_35', 'ptend_q0002_36', 'ptend_q0002_37', 'ptend_q0002_38', 'ptend_q0002_39', 'ptend_q0002_40', 'ptend_q0002_41', 'ptend_q0002_42', 'ptend_q0002_43', 'ptend_q0002_44', 'ptend_q0002_45', 'ptend_q0002_46', 'ptend_q0002_47', 'ptend_q0002_48', 'ptend_q0002_49', 'ptend_q0002_50', 'ptend_q0002_51', 'ptend_q0002_52', 'ptend_q0002_53', 'ptend_q0002_54', 'ptend_q0002_55', 'ptend_q0002_56', 'ptend_q0002_57', 'ptend_q0002_58', 'ptend_q0002_59', 'ptend_q0003_0', 'ptend_q0003_1', 'ptend_q0003_2', 'ptend_q0003_3', 'ptend_q0003_4', 'ptend_q0003_5', 'ptend_q0003_6', 'ptend_q0003_7', 'ptend_q0003_8', 'ptend_q0003_9', 'ptend_q0003_10', 'ptend_q0003_11', 'ptend_q0003_12', 'ptend_q0003_13', 'ptend_q0003_14', 'ptend_q0003_15', 'ptend_q0003_16', 'ptend_q0003_17', 'ptend_q0003_18', 'ptend_q0003_19', 'ptend_q0003_20', 'ptend_q0003_21', 'ptend_q0003_22', 'ptend_q0003_23', 'ptend_q0003_24', 'ptend_q0003_25', 'ptend_q0003_26', 'ptend_q0003_27', 'ptend_q0003_28', 'ptend_q0003_29', 'ptend_q0003_30', 'ptend_q0003_31', 'ptend_q0003_32', 'ptend_q0003_33', 'ptend_q0003_34', 'ptend_q0003_35', 'ptend_q0003_36', 'ptend_q0003_37', 'ptend_q0003_38', 'ptend_q0003_39', 'ptend_q0003_40', 'ptend_q0003_41', 'ptend_q0003_42', 'ptend_q0003_43', 'ptend_q0003_44', 'ptend_q0003_45', 'ptend_q0003_46', 'ptend_q0003_47', 'ptend_q0003_48', 'ptend_q0003_49', 'ptend_q0003_50', 'ptend_q0003_51', 'ptend_q0003_52', 'ptend_q0003_53', 'ptend_q0003_54', 'ptend_q0003_55', 'ptend_q0003_56', 'ptend_q0003_57', 'ptend_q0003_58', 'ptend_q0003_59', 'ptend_u_0', 'ptend_u_1', 'ptend_u_2', 'ptend_u_3', 'ptend_u_4', 'ptend_u_5', 'ptend_u_6', 'ptend_u_7', 'ptend_u_8', 'ptend_u_9', 'ptend_u_10', 'ptend_u_11', 'ptend_u_12', 'ptend_u_13', 'ptend_u_14', 'ptend_u_15', 'ptend_u_16', 'ptend_u_17', 'ptend_u_18', 'ptend_u_19', 'ptend_u_20', 'ptend_u_21', 'ptend_u_22', 'ptend_u_23', 'ptend_u_24', 'ptend_u_25', 'ptend_u_26', 'ptend_u_27', 'ptend_u_28', 'ptend_u_29', 'ptend_u_30', 'ptend_u_31', 'ptend_u_32', 'ptend_u_33', 'ptend_u_34', 'ptend_u_35', 'ptend_u_36', 'ptend_u_37', 'ptend_u_38', 'ptend_u_39', 'ptend_u_40', 'ptend_u_41', 'ptend_u_42', 'ptend_u_43', 'ptend_u_44', 'ptend_u_45', 'ptend_u_46', 'ptend_u_47', 'ptend_u_48', 'ptend_u_49', 'ptend_u_50', 'ptend_u_51', 'ptend_u_52', 'ptend_u_53', 'ptend_u_54', 'ptend_u_55', 'ptend_u_56', 'ptend_u_57', 'ptend_u_58', 'ptend_u_59', 'ptend_v_0', 'ptend_v_1', 'ptend_v_2', 'ptend_v_3', 'ptend_v_4', 'ptend_v_5', 'ptend_v_6', 'ptend_v_7', 'ptend_v_8', 'ptend_v_9', 'ptend_v_10', 'ptend_v_11', 'ptend_v_12', 'ptend_v_13', 'ptend_v_14', 'ptend_v_15', 'ptend_v_16', 'ptend_v_17', 'ptend_v_18', 'ptend_v_19', 'ptend_v_20', 'ptend_v_21', 'ptend_v_22', 'ptend_v_23', 'ptend_v_24', 'ptend_v_25', 'ptend_v_26', 'ptend_v_27', 'ptend_v_28', 'ptend_v_29', 'ptend_v_30', 'ptend_v_31', 'ptend_v_32', 'ptend_v_33', 'ptend_v_34', 'ptend_v_35', 'ptend_v_36', 'ptend_v_37', 'ptend_v_38', 'ptend_v_39', 'ptend_v_40', 'ptend_v_41', 'ptend_v_42', 'ptend_v_43', 'ptend_v_44', 'ptend_v_45', 'ptend_v_46', 'ptend_v_47', 'ptend_v_48', 'ptend_v_49', 'ptend_v_50', 'ptend_v_51', 'ptend_v_52', 'ptend_v_53', 'ptend_v_54', 'ptend_v_55', 'ptend_v_56', 'ptend_v_57', 'ptend_v_58', 'ptend_v_59', 'cam_out_NETSW', 'cam_out_FLWDS', 'cam_out_PRECSC', 'cam_out_PRECC', 'cam_out_SOLS', 'cam_out_SOLL', 'cam_out_SOLSD', 'cam_out_SOLLD']\n",
    "zero_w_targets = ['ptend_q0001_0', 'ptend_q0001_1', 'ptend_q0001_2', 'ptend_q0001_3', 'ptend_q0001_4', 'ptend_q0001_5', 'ptend_q0001_6', 'ptend_q0001_7', 'ptend_q0001_8', 'ptend_q0001_9', 'ptend_q0001_10', 'ptend_q0001_11', 'ptend_q0002_0', 'ptend_q0002_1', 'ptend_q0002_2', 'ptend_q0002_3', 'ptend_q0002_4', 'ptend_q0002_5', 'ptend_q0002_6', 'ptend_q0002_7', 'ptend_q0002_8', 'ptend_q0002_9', 'ptend_q0002_10', 'ptend_q0002_11', 'ptend_q0002_12', 'ptend_q0002_13', 'ptend_q0002_14', 'ptend_q0003_0', 'ptend_q0003_1', 'ptend_q0003_2', 'ptend_q0003_3', 'ptend_q0003_4', 'ptend_q0003_5', 'ptend_q0003_6', 'ptend_q0003_7', 'ptend_q0003_8', 'ptend_q0003_9', 'ptend_q0003_10', 'ptend_q0003_11', 'ptend_u_0', 'ptend_u_1', 'ptend_u_2', 'ptend_u_3', 'ptend_u_4', 'ptend_u_5', 'ptend_u_6', 'ptend_u_7', 'ptend_u_8', 'ptend_u_9', 'ptend_u_10', 'ptend_u_11', 'ptend_v_0', 'ptend_v_1', 'ptend_v_2', 'ptend_v_3', 'ptend_v_4', 'ptend_v_5', 'ptend_v_6', 'ptend_v_7', 'ptend_v_8', 'ptend_v_9', 'ptend_v_10', 'ptend_v_11']\n",
    "# pred_targets = [tar for tar in targets if tar not in unpredictable_targets and tar not in zero_w_targets]\n",
    "# pred_targets = [tar for tar in targets if tar not in zero_w_targets]\n",
    "\n",
    "# train_files = sorted(glob(\"/kaggle/input/leap-train-parquet1/*.parquet\"))\n",
    "# train = pd.read_parquet(train_files[:1])\n",
    "sample_df = pl.read_csv('/kaggle/input/leap-atmospheric-physics-ai-climsim/train.csv', n_rows=1)\n",
    "column_names = sample_df.columns\n",
    "column_names = column_names[1:]\n",
    "del sample_df\n",
    "# Create a dictionary where each column is mapped to pl.Float32\n",
    "dtypes = {col: pl.Float32 for col in column_names}\n",
    "\n",
    "train = pl.read_csv(\"/kaggle/input/leap-atmospheric-physics-ai-climsim/train.csv\", n_rows=1200000, dtypes = dtypes)\n",
    "# test = pd.read_parquet(\"/kaggle/input/leap-dataset-giba/test_batch/0.parquet\")\n",
    "\n",
    "# valid = pd.read_parquet(\"/kaggle/input/leap-train-parquet1/train_3.parquet\")\n",
    "# valid = pd.read_csv(\"/kaggle/input/leap-atmospheric-physics-ai-climsim/train.csv\", skiprows = [600000], nrows = 600000)\n",
    "\n",
    "weights = pd.read_csv(\"/kaggle/input/leap-atmospheric-physics-ai-climsim/sample_submission.csv\", nrows=1)\n",
    "del weights['sample_id']\n",
    "weights = weights.T\n",
    "weights = weights.to_dict()[0]"
   ]
  },
  {
   "cell_type": "code",
   "execution_count": 2,
   "id": "0d9bc658",
   "metadata": {
    "execution": {
     "iopub.execute_input": "2024-06-12T02:55:34.569572Z",
     "iopub.status.busy": "2024-06-12T02:55:34.568819Z",
     "iopub.status.idle": "2024-06-12T02:55:34.769058Z",
     "shell.execute_reply": "2024-06-12T02:55:34.768152Z"
    },
    "papermill": {
     "duration": 0.212386,
     "end_time": "2024-06-12T02:55:34.771564",
     "exception": false,
     "start_time": "2024-06-12T02:55:34.559178",
     "status": "completed"
    },
    "tags": []
   },
   "outputs": [
    {
     "data": {
      "text/plain": [
       "0"
      ]
     },
     "execution_count": 2,
     "metadata": {},
     "output_type": "execute_result"
    }
   ],
   "source": [
    "gc.collect()"
   ]
  },
  {
   "cell_type": "code",
   "execution_count": 3,
   "id": "996f79df",
   "metadata": {
    "execution": {
     "iopub.execute_input": "2024-06-12T02:55:34.790072Z",
     "iopub.status.busy": "2024-06-12T02:55:34.789759Z",
     "iopub.status.idle": "2024-06-12T02:55:34.793926Z",
     "shell.execute_reply": "2024-06-12T02:55:34.793111Z"
    },
    "papermill": {
     "duration": 0.015598,
     "end_time": "2024-06-12T02:55:34.795826",
     "exception": false,
     "start_time": "2024-06-12T02:55:34.780228",
     "status": "completed"
    },
    "tags": []
   },
   "outputs": [],
   "source": [
    "# targets_ptend_t = [('ptend_t_' + str(i)) for i in range(60)]\n",
    "# targets_ptend_q0001 = [('ptend_q0001_' + str(i)) for i in range(12,60)]\n",
    "# targets_ptend_q0002 = [('ptend_q0002_') + str(i) for i in range(15,60)]\n",
    "# targets_ptend_q0003 = [('ptend_q0003_') + str(i) for i in range(12,60)]\n",
    "# targets_ptend_u = [('ptend_u_') + str(i) for i in range(12,60)]\n",
    "# targets_ptend_v = [('ptend_v_') + str(i) for i in range(12,60)]\n",
    "# single_targets = ['cam_out_NETSW', 'cam_out_FLWDS', 'cam_out_PRECSC', 'cam_out_PRECC', 'cam_out_SOLS', 'cam_out_SOLL', 'cam_out_SOLSD', 'cam_out_SOLLD']\n",
    "# pred_targets = [targets_ptend_t, targets_ptend_q0001, targets_ptend_q0002, targets_ptend_q0003, targets_ptend_u, targets_ptend_v, single_targets]"
   ]
  },
  {
   "cell_type": "code",
   "execution_count": 4,
   "id": "5bbff84d",
   "metadata": {
    "execution": {
     "iopub.execute_input": "2024-06-12T02:55:34.813979Z",
     "iopub.status.busy": "2024-06-12T02:55:34.813683Z",
     "iopub.status.idle": "2024-06-12T02:55:34.818707Z",
     "shell.execute_reply": "2024-06-12T02:55:34.817856Z"
    },
    "papermill": {
     "duration": 0.016507,
     "end_time": "2024-06-12T02:55:34.820647",
     "exception": false,
     "start_time": "2024-06-12T02:55:34.804140",
     "status": "completed"
    },
    "tags": []
   },
   "outputs": [],
   "source": [
    "# def reshape_data(timesteps, data):\n",
    "#     remaining_rows =  data.shape[0] % timesteps\n",
    "#     if remaining_rows > 0:\n",
    "#         remaining_data = data[((data.shape[0] // timesteps) * timesteps):]\n",
    "#         data =  data[:(data.shape[0] // timesteps)*timesteps].reshape(data.shape[0]//timesteps, timesteps, data.shape[1])\n",
    "#         # Create padding with zeros\n",
    "#         padding_needed = timesteps - remaining_rows\n",
    "#         padding = np.zeros((padding_needed, data.shape[2]))\n",
    "#         # Pad the remaining data\n",
    "#         padded_remaining_data = np.vstack((remaining_data, padding))\n",
    "#         # Reshape to match the required dimensions (1, timesteps, y)\n",
    "#         padded_remaining_data = padded_remaining_data.reshape(1, timesteps, data.shape[2])\n",
    "#         # Append the padded remaining data to the reshaped data\n",
    "#         data = np.vstack((data, padded_remaining_data))\n",
    "#         del remaining_data, padding_needed, padding, padded_remaining_data\n",
    "#     else :\n",
    "#         data = data[:(data.shape[0] // timesteps)*timesteps].reshape(data.shape[0] // timesteps, timesteps, data.shape[1])\n",
    "#     gc.collect()\n",
    "#     return data"
   ]
  },
  {
   "cell_type": "code",
   "execution_count": 5,
   "id": "fc4c171a",
   "metadata": {
    "execution": {
     "iopub.execute_input": "2024-06-12T02:55:34.839659Z",
     "iopub.status.busy": "2024-06-12T02:55:34.839375Z",
     "iopub.status.idle": "2024-06-12T02:55:34.843106Z",
     "shell.execute_reply": "2024-06-12T02:55:34.842266Z"
    },
    "papermill": {
     "duration": 0.01552,
     "end_time": "2024-06-12T02:55:34.845140",
     "exception": false,
     "start_time": "2024-06-12T02:55:34.829620",
     "status": "completed"
    },
    "tags": []
   },
   "outputs": [],
   "source": [
    "# gc.collect()"
   ]
  },
  {
   "cell_type": "code",
   "execution_count": 6,
   "id": "d9a62b8c",
   "metadata": {
    "execution": {
     "iopub.execute_input": "2024-06-12T02:55:34.865113Z",
     "iopub.status.busy": "2024-06-12T02:55:34.864419Z",
     "iopub.status.idle": "2024-06-12T02:55:34.868446Z",
     "shell.execute_reply": "2024-06-12T02:55:34.867586Z"
    },
    "papermill": {
     "duration": 0.016606,
     "end_time": "2024-06-12T02:55:34.870454",
     "exception": false,
     "start_time": "2024-06-12T02:55:34.853848",
     "status": "completed"
    },
    "tags": []
   },
   "outputs": [],
   "source": [
    "# del X_train, X_valid"
   ]
  },
  {
   "cell_type": "code",
   "execution_count": 7,
   "id": "893db79a",
   "metadata": {
    "collapsed": true,
    "execution": {
     "iopub.execute_input": "2024-06-12T02:55:34.888912Z",
     "iopub.status.busy": "2024-06-12T02:55:34.888635Z",
     "iopub.status.idle": "2024-06-12T02:55:34.892531Z",
     "shell.execute_reply": "2024-06-12T02:55:34.891660Z"
    },
    "jupyter": {
     "outputs_hidden": true
    },
    "papermill": {
     "duration": 0.015391,
     "end_time": "2024-06-12T02:55:34.894516",
     "exception": false,
     "start_time": "2024-06-12T02:55:34.879125",
     "status": "completed"
    },
    "tags": []
   },
   "outputs": [],
   "source": [
    "# train.columns[1:557]"
   ]
  },
  {
   "cell_type": "code",
   "execution_count": 8,
   "id": "34b44d41",
   "metadata": {
    "execution": {
     "iopub.execute_input": "2024-06-12T02:55:34.913292Z",
     "iopub.status.busy": "2024-06-12T02:55:34.913005Z",
     "iopub.status.idle": "2024-06-12T02:55:34.916691Z",
     "shell.execute_reply": "2024-06-12T02:55:34.915824Z"
    },
    "papermill": {
     "duration": 0.015608,
     "end_time": "2024-06-12T02:55:34.918904",
     "exception": false,
     "start_time": "2024-06-12T02:55:34.903296",
     "status": "completed"
    },
    "tags": []
   },
   "outputs": [],
   "source": [
    "# train.shape"
   ]
  },
  {
   "cell_type": "code",
   "execution_count": 9,
   "id": "e1892a83",
   "metadata": {
    "execution": {
     "iopub.execute_input": "2024-06-12T02:55:34.938427Z",
     "iopub.status.busy": "2024-06-12T02:55:34.937848Z",
     "iopub.status.idle": "2024-06-12T02:55:34.941942Z",
     "shell.execute_reply": "2024-06-12T02:55:34.941089Z"
    },
    "papermill": {
     "duration": 0.015658,
     "end_time": "2024-06-12T02:55:34.943875",
     "exception": false,
     "start_time": "2024-06-12T02:55:34.928217",
     "status": "completed"
    },
    "tags": []
   },
   "outputs": [],
   "source": [
    "# timesteps = 60\n",
    "# scaler_y = StandardScaler()\n",
    "# scaler_x = StandardScaler()\n",
    "\n",
    "# # scaling of train and test features\n",
    "# # X_train = scaler_x.fit_transform(train[features])\n",
    "# X_train = scaler_x.fit_transform(train[train.columns[1:557]])\n",
    "# # X_test = scaler_x.fit_transform(test[features])\n",
    "# # X_valid = scaler_x.fit_transform(valid[features])\n",
    "\n",
    "# # Reshaping train and test for LSTM model\n",
    "# # X_train = reshape_data(timesteps, X_train)\n",
    "# # # X_test = reshape_data(timesteps, X_test)\n",
    "# # X_valid = reshape_data(timesteps, X_valid)\n",
    "# gc.collect()"
   ]
  },
  {
   "cell_type": "code",
   "execution_count": 10,
   "id": "07a52d6c",
   "metadata": {
    "execution": {
     "iopub.execute_input": "2024-06-12T02:55:34.962655Z",
     "iopub.status.busy": "2024-06-12T02:55:34.962037Z",
     "iopub.status.idle": "2024-06-12T02:55:34.965802Z",
     "shell.execute_reply": "2024-06-12T02:55:34.964975Z"
    },
    "papermill": {
     "duration": 0.015181,
     "end_time": "2024-06-12T02:55:34.967788",
     "exception": false,
     "start_time": "2024-06-12T02:55:34.952607",
     "status": "completed"
    },
    "tags": []
   },
   "outputs": [],
   "source": [
    "# y_train = scaler_y.fit_transform(train[targets])\n",
    "# y_valid = scaler_y.fit_transform(valid[targets])\n",
    "# y_train = reshape_data(timesteps, y_train)\n",
    "# y_valid = reshape_data(timesteps, y_valid)"
   ]
  },
  {
   "cell_type": "markdown",
   "id": "bef388f4",
   "metadata": {
    "papermill": {
     "duration": 0.008254,
     "end_time": "2024-06-12T02:55:34.984391",
     "exception": false,
     "start_time": "2024-06-12T02:55:34.976137",
     "status": "completed"
    },
    "tags": []
   },
   "source": [
    "# Scaling "
   ]
  },
  {
   "cell_type": "code",
   "execution_count": 11,
   "id": "de2f6aa3",
   "metadata": {
    "execution": {
     "iopub.execute_input": "2024-06-12T02:55:35.002560Z",
     "iopub.status.busy": "2024-06-12T02:55:35.002239Z",
     "iopub.status.idle": "2024-06-12T02:55:35.207739Z",
     "shell.execute_reply": "2024-06-12T02:55:35.206566Z"
    },
    "papermill": {
     "duration": 0.217478,
     "end_time": "2024-06-12T02:55:35.210167",
     "exception": false,
     "start_time": "2024-06-12T02:55:34.992689",
     "status": "completed"
    },
    "tags": []
   },
   "outputs": [
    {
     "data": {
      "text/plain": [
       "0"
      ]
     },
     "execution_count": 11,
     "metadata": {},
     "output_type": "execute_result"
    }
   ],
   "source": [
    "gc.collect()"
   ]
  },
  {
   "cell_type": "code",
   "execution_count": 12,
   "id": "cf073eb4",
   "metadata": {
    "execution": {
     "iopub.execute_input": "2024-06-12T02:55:35.230068Z",
     "iopub.status.busy": "2024-06-12T02:55:35.229753Z",
     "iopub.status.idle": "2024-06-12T02:55:52.093185Z",
     "shell.execute_reply": "2024-06-12T02:55:52.092213Z"
    },
    "papermill": {
     "duration": 16.876247,
     "end_time": "2024-06-12T02:55:52.095871",
     "exception": false,
     "start_time": "2024-06-12T02:55:35.219624",
     "status": "completed"
    },
    "tags": []
   },
   "outputs": [],
   "source": [
    "X_train = tf.convert_to_tensor(train[train.columns[1:557]], dtype=tf.float32)\n",
    "y_train = tf.convert_to_tensor(train[targets], dtype=tf.float32)\n",
    "normalizer_X = tf.keras.layers.Normalization(axis=-1)\n",
    "normalizer_y = tf.keras.layers.Normalization(axis=-1)\n",
    "\n",
    "# # Adapt the normalization layer to the features\n",
    "normalizer_X.adapt(X_train)\n",
    "normalizer_y.adapt(y_train)\n",
    "\n",
    "mean_X = normalizer_X.mean\n",
    "variance_X = normalizer_X.variance\n",
    "stddev_X = normalizer_X.variance ** 0.5\n",
    "\n",
    "mean_y = normalizer_y.mean\n",
    "variance_y = normalizer_y.variance\n",
    "stddev_y = tf.keras.ops.maximum(1e-10, normalizer_y.variance ** 0.5)\n",
    "\n",
    "# Apply the normalization to the features\n",
    "X_train = normalizer_X(X_train)\n",
    "# y_train = normalizer_y(y_train)"
   ]
  },
  {
   "cell_type": "code",
   "execution_count": 13,
   "id": "51179dee",
   "metadata": {
    "execution": {
     "iopub.execute_input": "2024-06-12T02:55:52.115814Z",
     "iopub.status.busy": "2024-06-12T02:55:52.115468Z",
     "iopub.status.idle": "2024-06-12T02:55:52.120379Z",
     "shell.execute_reply": "2024-06-12T02:55:52.119582Z"
    },
    "papermill": {
     "duration": 0.017001,
     "end_time": "2024-06-12T02:55:52.122258",
     "exception": false,
     "start_time": "2024-06-12T02:55:52.105257",
     "status": "completed"
    },
    "tags": []
   },
   "outputs": [],
   "source": [
    "y_train = (y_train - mean_y) / stddev_y"
   ]
  },
  {
   "cell_type": "code",
   "execution_count": 14,
   "id": "be8c66cb",
   "metadata": {
    "execution": {
     "iopub.execute_input": "2024-06-12T02:55:52.140705Z",
     "iopub.status.busy": "2024-06-12T02:55:52.140391Z",
     "iopub.status.idle": "2024-06-12T02:55:52.146321Z",
     "shell.execute_reply": "2024-06-12T02:55:52.145384Z"
    },
    "papermill": {
     "duration": 0.017396,
     "end_time": "2024-06-12T02:55:52.148357",
     "exception": false,
     "start_time": "2024-06-12T02:55:52.130961",
     "status": "completed"
    },
    "tags": []
   },
   "outputs": [
    {
     "data": {
      "text/plain": [
       "TensorShape([1200000, 556])"
      ]
     },
     "execution_count": 14,
     "metadata": {},
     "output_type": "execute_result"
    }
   ],
   "source": [
    "X_train.shape"
   ]
  },
  {
   "cell_type": "code",
   "execution_count": 15,
   "id": "0d9306bb",
   "metadata": {
    "execution": {
     "iopub.execute_input": "2024-06-12T02:55:52.168170Z",
     "iopub.status.busy": "2024-06-12T02:55:52.167516Z",
     "iopub.status.idle": "2024-06-12T02:55:52.173829Z",
     "shell.execute_reply": "2024-06-12T02:55:52.172920Z"
    },
    "papermill": {
     "duration": 0.018143,
     "end_time": "2024-06-12T02:55:52.175893",
     "exception": false,
     "start_time": "2024-06-12T02:55:52.157750",
     "status": "completed"
    },
    "tags": []
   },
   "outputs": [
    {
     "data": {
      "text/plain": [
       "TensorShape([1200000, 368])"
      ]
     },
     "execution_count": 15,
     "metadata": {},
     "output_type": "execute_result"
    }
   ],
   "source": [
    "y_train.shape"
   ]
  },
  {
   "cell_type": "markdown",
   "id": "433a3cec",
   "metadata": {
    "papermill": {
     "duration": 0.009036,
     "end_time": "2024-06-12T02:55:52.194397",
     "exception": false,
     "start_time": "2024-06-12T02:55:52.185361",
     "status": "completed"
    },
    "tags": []
   },
   "source": [
    "# Seq2seq Model Definition"
   ]
  },
  {
   "cell_type": "code",
   "execution_count": 16,
   "id": "d659332c",
   "metadata": {
    "execution": {
     "iopub.execute_input": "2024-06-12T02:55:52.213660Z",
     "iopub.status.busy": "2024-06-12T02:55:52.213347Z",
     "iopub.status.idle": "2024-06-12T02:55:52.451546Z",
     "shell.execute_reply": "2024-06-12T02:55:52.450609Z"
    },
    "papermill": {
     "duration": 0.250547,
     "end_time": "2024-06-12T02:55:52.453783",
     "exception": false,
     "start_time": "2024-06-12T02:55:52.203236",
     "status": "completed"
    },
    "tags": []
   },
   "outputs": [
    {
     "data": {
      "text/html": [
       "<pre style=\"white-space:pre;overflow-x:auto;line-height:normal;font-family:Menlo,'DejaVu Sans Mono',consolas,'Courier New',monospace\"><span style=\"font-weight: bold\">Model: \"functional_3\"</span>\n",
       "</pre>\n"
      ],
      "text/plain": [
       "\u001b[1mModel: \"functional_3\"\u001b[0m\n"
      ]
     },
     "metadata": {},
     "output_type": "display_data"
    },
    {
     "data": {
      "text/html": [
       "<pre style=\"white-space:pre;overflow-x:auto;line-height:normal;font-family:Menlo,'DejaVu Sans Mono',consolas,'Courier New',monospace\">┏━━━━━━━━━━━━━━━━━━━━━┳━━━━━━━━━━━━━━━━━━━┳━━━━━━━━━━━━┳━━━━━━━━━━━━━━━━━━━┓\n",
       "┃<span style=\"font-weight: bold\"> Layer (type)        </span>┃<span style=\"font-weight: bold\"> Output Shape      </span>┃<span style=\"font-weight: bold\">    Param # </span>┃<span style=\"font-weight: bold\"> Connected to      </span>┃\n",
       "┡━━━━━━━━━━━━━━━━━━━━━╇━━━━━━━━━━━━━━━━━━━╇━━━━━━━━━━━━╇━━━━━━━━━━━━━━━━━━━┩\n",
       "│ input_layer         │ (<span style=\"color: #00d7ff; text-decoration-color: #00d7ff\">None</span>, <span style=\"color: #00af00; text-decoration-color: #00af00\">556</span>)       │          <span style=\"color: #00af00; text-decoration-color: #00af00\">0</span> │ -                 │\n",
       "│ (<span style=\"color: #0087ff; text-decoration-color: #0087ff\">InputLayer</span>)        │                   │            │                   │\n",
       "├─────────────────────┼───────────────────┼────────────┼───────────────────┤\n",
       "│ get_item (<span style=\"color: #0087ff; text-decoration-color: #0087ff\">GetItem</span>)  │ (<span style=\"color: #00d7ff; text-decoration-color: #00d7ff\">None</span>, <span style=\"color: #00af00; text-decoration-color: #00af00\">360</span>)       │          <span style=\"color: #00af00; text-decoration-color: #00af00\">0</span> │ input_layer[<span style=\"color: #00af00; text-decoration-color: #00af00\">0</span>][<span style=\"color: #00af00; text-decoration-color: #00af00\">0</span>] │\n",
       "├─────────────────────┼───────────────────┼────────────┼───────────────────┤\n",
       "│ get_item_1          │ (<span style=\"color: #00d7ff; text-decoration-color: #00d7ff\">None</span>, <span style=\"color: #00af00; text-decoration-color: #00af00\">180</span>)       │          <span style=\"color: #00af00; text-decoration-color: #00af00\">0</span> │ input_layer[<span style=\"color: #00af00; text-decoration-color: #00af00\">0</span>][<span style=\"color: #00af00; text-decoration-color: #00af00\">0</span>] │\n",
       "│ (<span style=\"color: #0087ff; text-decoration-color: #0087ff\">GetItem</span>)           │                   │            │                   │\n",
       "├─────────────────────┼───────────────────┼────────────┼───────────────────┤\n",
       "│ get_item_2          │ (<span style=\"color: #00d7ff; text-decoration-color: #00d7ff\">None</span>, <span style=\"color: #00af00; text-decoration-color: #00af00\">16</span>)        │          <span style=\"color: #00af00; text-decoration-color: #00af00\">0</span> │ input_layer[<span style=\"color: #00af00; text-decoration-color: #00af00\">0</span>][<span style=\"color: #00af00; text-decoration-color: #00af00\">0</span>] │\n",
       "│ (<span style=\"color: #0087ff; text-decoration-color: #0087ff\">GetItem</span>)           │                   │            │                   │\n",
       "├─────────────────────┼───────────────────┼────────────┼───────────────────┤\n",
       "│ reshape (<span style=\"color: #0087ff; text-decoration-color: #0087ff\">Reshape</span>)   │ (<span style=\"color: #00d7ff; text-decoration-color: #00d7ff\">None</span>, <span style=\"color: #00af00; text-decoration-color: #00af00\">6</span>, <span style=\"color: #00af00; text-decoration-color: #00af00\">60</span>)     │          <span style=\"color: #00af00; text-decoration-color: #00af00\">0</span> │ get_item[<span style=\"color: #00af00; text-decoration-color: #00af00\">0</span>][<span style=\"color: #00af00; text-decoration-color: #00af00\">0</span>]    │\n",
       "├─────────────────────┼───────────────────┼────────────┼───────────────────┤\n",
       "│ reshape_1 (<span style=\"color: #0087ff; text-decoration-color: #0087ff\">Reshape</span>) │ (<span style=\"color: #00d7ff; text-decoration-color: #00d7ff\">None</span>, <span style=\"color: #00af00; text-decoration-color: #00af00\">3</span>, <span style=\"color: #00af00; text-decoration-color: #00af00\">60</span>)     │          <span style=\"color: #00af00; text-decoration-color: #00af00\">0</span> │ get_item_1[<span style=\"color: #00af00; text-decoration-color: #00af00\">0</span>][<span style=\"color: #00af00; text-decoration-color: #00af00\">0</span>]  │\n",
       "├─────────────────────┼───────────────────┼────────────┼───────────────────┤\n",
       "│ reshape_2 (<span style=\"color: #0087ff; text-decoration-color: #0087ff\">Reshape</span>) │ (<span style=\"color: #00d7ff; text-decoration-color: #00d7ff\">None</span>, <span style=\"color: #00af00; text-decoration-color: #00af00\">1</span>, <span style=\"color: #00af00; text-decoration-color: #00af00\">16</span>)     │          <span style=\"color: #00af00; text-decoration-color: #00af00\">0</span> │ get_item_2[<span style=\"color: #00af00; text-decoration-color: #00af00\">0</span>][<span style=\"color: #00af00; text-decoration-color: #00af00\">0</span>]  │\n",
       "├─────────────────────┼───────────────────┼────────────┼───────────────────┤\n",
       "│ permute (<span style=\"color: #0087ff; text-decoration-color: #0087ff\">Permute</span>)   │ (<span style=\"color: #00d7ff; text-decoration-color: #00d7ff\">None</span>, <span style=\"color: #00af00; text-decoration-color: #00af00\">60</span>, <span style=\"color: #00af00; text-decoration-color: #00af00\">6</span>)     │          <span style=\"color: #00af00; text-decoration-color: #00af00\">0</span> │ reshape[<span style=\"color: #00af00; text-decoration-color: #00af00\">0</span>][<span style=\"color: #00af00; text-decoration-color: #00af00\">0</span>]     │\n",
       "├─────────────────────┼───────────────────┼────────────┼───────────────────┤\n",
       "│ permute_1 (<span style=\"color: #0087ff; text-decoration-color: #0087ff\">Permute</span>) │ (<span style=\"color: #00d7ff; text-decoration-color: #00d7ff\">None</span>, <span style=\"color: #00af00; text-decoration-color: #00af00\">60</span>, <span style=\"color: #00af00; text-decoration-color: #00af00\">3</span>)     │          <span style=\"color: #00af00; text-decoration-color: #00af00\">0</span> │ reshape_1[<span style=\"color: #00af00; text-decoration-color: #00af00\">0</span>][<span style=\"color: #00af00; text-decoration-color: #00af00\">0</span>]   │\n",
       "├─────────────────────┼───────────────────┼────────────┼───────────────────┤\n",
       "│ lambda (<span style=\"color: #0087ff; text-decoration-color: #0087ff\">Lambda</span>)     │ (<span style=\"color: #00d7ff; text-decoration-color: #00d7ff\">None</span>, <span style=\"color: #00af00; text-decoration-color: #00af00\">60</span>, <span style=\"color: #00af00; text-decoration-color: #00af00\">16</span>)    │          <span style=\"color: #00af00; text-decoration-color: #00af00\">0</span> │ reshape_2[<span style=\"color: #00af00; text-decoration-color: #00af00\">0</span>][<span style=\"color: #00af00; text-decoration-color: #00af00\">0</span>]   │\n",
       "├─────────────────────┼───────────────────┼────────────┼───────────────────┤\n",
       "│ concatenate         │ (<span style=\"color: #00d7ff; text-decoration-color: #00d7ff\">None</span>, <span style=\"color: #00af00; text-decoration-color: #00af00\">60</span>, <span style=\"color: #00af00; text-decoration-color: #00af00\">25</span>)    │          <span style=\"color: #00af00; text-decoration-color: #00af00\">0</span> │ permute[<span style=\"color: #00af00; text-decoration-color: #00af00\">0</span>][<span style=\"color: #00af00; text-decoration-color: #00af00\">0</span>],    │\n",
       "│ (<span style=\"color: #0087ff; text-decoration-color: #0087ff\">Concatenate</span>)       │                   │            │ permute_1[<span style=\"color: #00af00; text-decoration-color: #00af00\">0</span>][<span style=\"color: #00af00; text-decoration-color: #00af00\">0</span>],  │\n",
       "│                     │                   │            │ lambda[<span style=\"color: #00af00; text-decoration-color: #00af00\">0</span>][<span style=\"color: #00af00; text-decoration-color: #00af00\">0</span>]      │\n",
       "├─────────────────────┼───────────────────┼────────────┼───────────────────┤\n",
       "│ conv1d (<span style=\"color: #0087ff; text-decoration-color: #0087ff\">Conv1D</span>)     │ (<span style=\"color: #00d7ff; text-decoration-color: #00d7ff\">None</span>, <span style=\"color: #00af00; text-decoration-color: #00af00\">60</span>, <span style=\"color: #00af00; text-decoration-color: #00af00\">64</span>)    │      <span style=\"color: #00af00; text-decoration-color: #00af00\">1,664</span> │ concatenate[<span style=\"color: #00af00; text-decoration-color: #00af00\">0</span>][<span style=\"color: #00af00; text-decoration-color: #00af00\">0</span>] │\n",
       "├─────────────────────┼───────────────────┼────────────┼───────────────────┤\n",
       "│ sequential          │ (<span style=\"color: #00d7ff; text-decoration-color: #00d7ff\">None</span>, <span style=\"color: #00af00; text-decoration-color: #00af00\">60</span>, <span style=\"color: #00af00; text-decoration-color: #00af00\">64</span>)    │    <span style=\"color: #00af00; text-decoration-color: #00af00\">174,272</span> │ conv1d[<span style=\"color: #00af00; text-decoration-color: #00af00\">0</span>][<span style=\"color: #00af00; text-decoration-color: #00af00\">0</span>]      │\n",
       "│ (<span style=\"color: #0087ff; text-decoration-color: #0087ff\">Sequential</span>)        │                   │            │                   │\n",
       "├─────────────────────┼───────────────────┼────────────┼───────────────────┤\n",
       "│ add (<span style=\"color: #0087ff; text-decoration-color: #0087ff\">Add</span>)           │ (<span style=\"color: #00d7ff; text-decoration-color: #00d7ff\">None</span>, <span style=\"color: #00af00; text-decoration-color: #00af00\">60</span>, <span style=\"color: #00af00; text-decoration-color: #00af00\">64</span>)    │          <span style=\"color: #00af00; text-decoration-color: #00af00\">0</span> │ conv1d[<span style=\"color: #00af00; text-decoration-color: #00af00\">0</span>][<span style=\"color: #00af00; text-decoration-color: #00af00\">0</span>],     │\n",
       "│                     │                   │            │ sequential[<span style=\"color: #00af00; text-decoration-color: #00af00\">0</span>][<span style=\"color: #00af00; text-decoration-color: #00af00\">0</span>]  │\n",
       "├─────────────────────┼───────────────────┼────────────┼───────────────────┤\n",
       "│ global_average_poo… │ (<span style=\"color: #00d7ff; text-decoration-color: #00d7ff\">None</span>, <span style=\"color: #00af00; text-decoration-color: #00af00\">1</span>, <span style=\"color: #00af00; text-decoration-color: #00af00\">64</span>)     │          <span style=\"color: #00af00; text-decoration-color: #00af00\">0</span> │ sequential[<span style=\"color: #00af00; text-decoration-color: #00af00\">0</span>][<span style=\"color: #00af00; text-decoration-color: #00af00\">0</span>]  │\n",
       "│ (<span style=\"color: #0087ff; text-decoration-color: #0087ff\">GlobalAveragePool…</span> │                   │            │                   │\n",
       "├─────────────────────┼───────────────────┼────────────┼───────────────────┤\n",
       "│ add_1 (<span style=\"color: #0087ff; text-decoration-color: #0087ff\">Add</span>)         │ (<span style=\"color: #00d7ff; text-decoration-color: #00d7ff\">None</span>, <span style=\"color: #00af00; text-decoration-color: #00af00\">60</span>, <span style=\"color: #00af00; text-decoration-color: #00af00\">64</span>)    │          <span style=\"color: #00af00; text-decoration-color: #00af00\">0</span> │ add[<span style=\"color: #00af00; text-decoration-color: #00af00\">0</span>][<span style=\"color: #00af00; text-decoration-color: #00af00\">0</span>],        │\n",
       "│                     │                   │            │ global_average_p… │\n",
       "├─────────────────────┼───────────────────┼────────────┼───────────────────┤\n",
       "│ batch_normalizatio… │ (<span style=\"color: #00d7ff; text-decoration-color: #00d7ff\">None</span>, <span style=\"color: #00af00; text-decoration-color: #00af00\">60</span>, <span style=\"color: #00af00; text-decoration-color: #00af00\">64</span>)    │        <span style=\"color: #00af00; text-decoration-color: #00af00\">256</span> │ add_1[<span style=\"color: #00af00; text-decoration-color: #00af00\">0</span>][<span style=\"color: #00af00; text-decoration-color: #00af00\">0</span>]       │\n",
       "│ (<span style=\"color: #0087ff; text-decoration-color: #0087ff\">BatchNormalizatio…</span> │                   │            │                   │\n",
       "├─────────────────────┼───────────────────┼────────────┼───────────────────┤\n",
       "│ sequential_1        │ (<span style=\"color: #00d7ff; text-decoration-color: #00d7ff\">None</span>, <span style=\"color: #00af00; text-decoration-color: #00af00\">60</span>, <span style=\"color: #00af00; text-decoration-color: #00af00\">64</span>)    │    <span style=\"color: #00af00; text-decoration-color: #00af00\">174,272</span> │ batch_normalizat… │\n",
       "│ (<span style=\"color: #0087ff; text-decoration-color: #0087ff\">Sequential</span>)        │                   │            │                   │\n",
       "├─────────────────────┼───────────────────┼────────────┼───────────────────┤\n",
       "│ add_2 (<span style=\"color: #0087ff; text-decoration-color: #0087ff\">Add</span>)         │ (<span style=\"color: #00d7ff; text-decoration-color: #00d7ff\">None</span>, <span style=\"color: #00af00; text-decoration-color: #00af00\">60</span>, <span style=\"color: #00af00; text-decoration-color: #00af00\">64</span>)    │          <span style=\"color: #00af00; text-decoration-color: #00af00\">0</span> │ batch_normalizat… │\n",
       "│                     │                   │            │ sequential_1[<span style=\"color: #00af00; text-decoration-color: #00af00\">0</span>][<span style=\"color: #00af00; text-decoration-color: #00af00\">…</span> │\n",
       "├─────────────────────┼───────────────────┼────────────┼───────────────────┤\n",
       "│ conv1d_7 (<span style=\"color: #0087ff; text-decoration-color: #0087ff\">Conv1D</span>)   │ (<span style=\"color: #00d7ff; text-decoration-color: #00d7ff\">None</span>, <span style=\"color: #00af00; text-decoration-color: #00af00\">60</span>, <span style=\"color: #00af00; text-decoration-color: #00af00\">14</span>)    │        <span style=\"color: #00af00; text-decoration-color: #00af00\">910</span> │ add_2[<span style=\"color: #00af00; text-decoration-color: #00af00\">0</span>][<span style=\"color: #00af00; text-decoration-color: #00af00\">0</span>]       │\n",
       "├─────────────────────┼───────────────────┼────────────┼───────────────────┤\n",
       "│ get_item_3          │ (<span style=\"color: #00d7ff; text-decoration-color: #00d7ff\">None</span>, <span style=\"color: #00af00; text-decoration-color: #00af00\">60</span>, <span style=\"color: #00af00; text-decoration-color: #00af00\">6</span>)     │          <span style=\"color: #00af00; text-decoration-color: #00af00\">0</span> │ conv1d_7[<span style=\"color: #00af00; text-decoration-color: #00af00\">0</span>][<span style=\"color: #00af00; text-decoration-color: #00af00\">0</span>]    │\n",
       "│ (<span style=\"color: #0087ff; text-decoration-color: #0087ff\">GetItem</span>)           │                   │            │                   │\n",
       "├─────────────────────┼───────────────────┼────────────┼───────────────────┤\n",
       "│ transpose           │ (<span style=\"color: #00d7ff; text-decoration-color: #00d7ff\">None</span>, <span style=\"color: #00af00; text-decoration-color: #00af00\">6</span>, <span style=\"color: #00af00; text-decoration-color: #00af00\">60</span>)     │          <span style=\"color: #00af00; text-decoration-color: #00af00\">0</span> │ get_item_3[<span style=\"color: #00af00; text-decoration-color: #00af00\">0</span>][<span style=\"color: #00af00; text-decoration-color: #00af00\">0</span>]  │\n",
       "│ (<span style=\"color: #0087ff; text-decoration-color: #0087ff\">Transpose</span>)         │                   │            │                   │\n",
       "├─────────────────────┼───────────────────┼────────────┼───────────────────┤\n",
       "│ get_item_4          │ (<span style=\"color: #00d7ff; text-decoration-color: #00d7ff\">None</span>, <span style=\"color: #00af00; text-decoration-color: #00af00\">60</span>, <span style=\"color: #00af00; text-decoration-color: #00af00\">8</span>)     │          <span style=\"color: #00af00; text-decoration-color: #00af00\">0</span> │ conv1d_7[<span style=\"color: #00af00; text-decoration-color: #00af00\">0</span>][<span style=\"color: #00af00; text-decoration-color: #00af00\">0</span>]    │\n",
       "│ (<span style=\"color: #0087ff; text-decoration-color: #0087ff\">GetItem</span>)           │                   │            │                   │\n",
       "├─────────────────────┼───────────────────┼────────────┼───────────────────┤\n",
       "│ flatten (<span style=\"color: #0087ff; text-decoration-color: #0087ff\">Flatten</span>)   │ (<span style=\"color: #00d7ff; text-decoration-color: #00d7ff\">None</span>, <span style=\"color: #00af00; text-decoration-color: #00af00\">360</span>)       │          <span style=\"color: #00af00; text-decoration-color: #00af00\">0</span> │ transpose[<span style=\"color: #00af00; text-decoration-color: #00af00\">0</span>][<span style=\"color: #00af00; text-decoration-color: #00af00\">0</span>]   │\n",
       "├─────────────────────┼───────────────────┼────────────┼───────────────────┤\n",
       "│ mean (<span style=\"color: #0087ff; text-decoration-color: #0087ff\">Mean</span>)         │ (<span style=\"color: #00d7ff; text-decoration-color: #00d7ff\">None</span>, <span style=\"color: #00af00; text-decoration-color: #00af00\">8</span>)         │          <span style=\"color: #00af00; text-decoration-color: #00af00\">0</span> │ get_item_4[<span style=\"color: #00af00; text-decoration-color: #00af00\">0</span>][<span style=\"color: #00af00; text-decoration-color: #00af00\">0</span>]  │\n",
       "├─────────────────────┼───────────────────┼────────────┼───────────────────┤\n",
       "│ concatenate_1       │ (<span style=\"color: #00d7ff; text-decoration-color: #00d7ff\">None</span>, <span style=\"color: #00af00; text-decoration-color: #00af00\">368</span>)       │          <span style=\"color: #00af00; text-decoration-color: #00af00\">0</span> │ flatten[<span style=\"color: #00af00; text-decoration-color: #00af00\">0</span>][<span style=\"color: #00af00; text-decoration-color: #00af00\">0</span>],    │\n",
       "│ (<span style=\"color: #0087ff; text-decoration-color: #0087ff\">Concatenate</span>)       │                   │            │ mean[<span style=\"color: #00af00; text-decoration-color: #00af00\">0</span>][<span style=\"color: #00af00; text-decoration-color: #00af00\">0</span>]        │\n",
       "└─────────────────────┴───────────────────┴────────────┴───────────────────┘\n",
       "</pre>\n"
      ],
      "text/plain": [
       "┏━━━━━━━━━━━━━━━━━━━━━┳━━━━━━━━━━━━━━━━━━━┳━━━━━━━━━━━━┳━━━━━━━━━━━━━━━━━━━┓\n",
       "┃\u001b[1m \u001b[0m\u001b[1mLayer (type)       \u001b[0m\u001b[1m \u001b[0m┃\u001b[1m \u001b[0m\u001b[1mOutput Shape     \u001b[0m\u001b[1m \u001b[0m┃\u001b[1m \u001b[0m\u001b[1m   Param #\u001b[0m\u001b[1m \u001b[0m┃\u001b[1m \u001b[0m\u001b[1mConnected to     \u001b[0m\u001b[1m \u001b[0m┃\n",
       "┡━━━━━━━━━━━━━━━━━━━━━╇━━━━━━━━━━━━━━━━━━━╇━━━━━━━━━━━━╇━━━━━━━━━━━━━━━━━━━┩\n",
       "│ input_layer         │ (\u001b[38;5;45mNone\u001b[0m, \u001b[38;5;34m556\u001b[0m)       │          \u001b[38;5;34m0\u001b[0m │ -                 │\n",
       "│ (\u001b[38;5;33mInputLayer\u001b[0m)        │                   │            │                   │\n",
       "├─────────────────────┼───────────────────┼────────────┼───────────────────┤\n",
       "│ get_item (\u001b[38;5;33mGetItem\u001b[0m)  │ (\u001b[38;5;45mNone\u001b[0m, \u001b[38;5;34m360\u001b[0m)       │          \u001b[38;5;34m0\u001b[0m │ input_layer[\u001b[38;5;34m0\u001b[0m][\u001b[38;5;34m0\u001b[0m] │\n",
       "├─────────────────────┼───────────────────┼────────────┼───────────────────┤\n",
       "│ get_item_1          │ (\u001b[38;5;45mNone\u001b[0m, \u001b[38;5;34m180\u001b[0m)       │          \u001b[38;5;34m0\u001b[0m │ input_layer[\u001b[38;5;34m0\u001b[0m][\u001b[38;5;34m0\u001b[0m] │\n",
       "│ (\u001b[38;5;33mGetItem\u001b[0m)           │                   │            │                   │\n",
       "├─────────────────────┼───────────────────┼────────────┼───────────────────┤\n",
       "│ get_item_2          │ (\u001b[38;5;45mNone\u001b[0m, \u001b[38;5;34m16\u001b[0m)        │          \u001b[38;5;34m0\u001b[0m │ input_layer[\u001b[38;5;34m0\u001b[0m][\u001b[38;5;34m0\u001b[0m] │\n",
       "│ (\u001b[38;5;33mGetItem\u001b[0m)           │                   │            │                   │\n",
       "├─────────────────────┼───────────────────┼────────────┼───────────────────┤\n",
       "│ reshape (\u001b[38;5;33mReshape\u001b[0m)   │ (\u001b[38;5;45mNone\u001b[0m, \u001b[38;5;34m6\u001b[0m, \u001b[38;5;34m60\u001b[0m)     │          \u001b[38;5;34m0\u001b[0m │ get_item[\u001b[38;5;34m0\u001b[0m][\u001b[38;5;34m0\u001b[0m]    │\n",
       "├─────────────────────┼───────────────────┼────────────┼───────────────────┤\n",
       "│ reshape_1 (\u001b[38;5;33mReshape\u001b[0m) │ (\u001b[38;5;45mNone\u001b[0m, \u001b[38;5;34m3\u001b[0m, \u001b[38;5;34m60\u001b[0m)     │          \u001b[38;5;34m0\u001b[0m │ get_item_1[\u001b[38;5;34m0\u001b[0m][\u001b[38;5;34m0\u001b[0m]  │\n",
       "├─────────────────────┼───────────────────┼────────────┼───────────────────┤\n",
       "│ reshape_2 (\u001b[38;5;33mReshape\u001b[0m) │ (\u001b[38;5;45mNone\u001b[0m, \u001b[38;5;34m1\u001b[0m, \u001b[38;5;34m16\u001b[0m)     │          \u001b[38;5;34m0\u001b[0m │ get_item_2[\u001b[38;5;34m0\u001b[0m][\u001b[38;5;34m0\u001b[0m]  │\n",
       "├─────────────────────┼───────────────────┼────────────┼───────────────────┤\n",
       "│ permute (\u001b[38;5;33mPermute\u001b[0m)   │ (\u001b[38;5;45mNone\u001b[0m, \u001b[38;5;34m60\u001b[0m, \u001b[38;5;34m6\u001b[0m)     │          \u001b[38;5;34m0\u001b[0m │ reshape[\u001b[38;5;34m0\u001b[0m][\u001b[38;5;34m0\u001b[0m]     │\n",
       "├─────────────────────┼───────────────────┼────────────┼───────────────────┤\n",
       "│ permute_1 (\u001b[38;5;33mPermute\u001b[0m) │ (\u001b[38;5;45mNone\u001b[0m, \u001b[38;5;34m60\u001b[0m, \u001b[38;5;34m3\u001b[0m)     │          \u001b[38;5;34m0\u001b[0m │ reshape_1[\u001b[38;5;34m0\u001b[0m][\u001b[38;5;34m0\u001b[0m]   │\n",
       "├─────────────────────┼───────────────────┼────────────┼───────────────────┤\n",
       "│ lambda (\u001b[38;5;33mLambda\u001b[0m)     │ (\u001b[38;5;45mNone\u001b[0m, \u001b[38;5;34m60\u001b[0m, \u001b[38;5;34m16\u001b[0m)    │          \u001b[38;5;34m0\u001b[0m │ reshape_2[\u001b[38;5;34m0\u001b[0m][\u001b[38;5;34m0\u001b[0m]   │\n",
       "├─────────────────────┼───────────────────┼────────────┼───────────────────┤\n",
       "│ concatenate         │ (\u001b[38;5;45mNone\u001b[0m, \u001b[38;5;34m60\u001b[0m, \u001b[38;5;34m25\u001b[0m)    │          \u001b[38;5;34m0\u001b[0m │ permute[\u001b[38;5;34m0\u001b[0m][\u001b[38;5;34m0\u001b[0m],    │\n",
       "│ (\u001b[38;5;33mConcatenate\u001b[0m)       │                   │            │ permute_1[\u001b[38;5;34m0\u001b[0m][\u001b[38;5;34m0\u001b[0m],  │\n",
       "│                     │                   │            │ lambda[\u001b[38;5;34m0\u001b[0m][\u001b[38;5;34m0\u001b[0m]      │\n",
       "├─────────────────────┼───────────────────┼────────────┼───────────────────┤\n",
       "│ conv1d (\u001b[38;5;33mConv1D\u001b[0m)     │ (\u001b[38;5;45mNone\u001b[0m, \u001b[38;5;34m60\u001b[0m, \u001b[38;5;34m64\u001b[0m)    │      \u001b[38;5;34m1,664\u001b[0m │ concatenate[\u001b[38;5;34m0\u001b[0m][\u001b[38;5;34m0\u001b[0m] │\n",
       "├─────────────────────┼───────────────────┼────────────┼───────────────────┤\n",
       "│ sequential          │ (\u001b[38;5;45mNone\u001b[0m, \u001b[38;5;34m60\u001b[0m, \u001b[38;5;34m64\u001b[0m)    │    \u001b[38;5;34m174,272\u001b[0m │ conv1d[\u001b[38;5;34m0\u001b[0m][\u001b[38;5;34m0\u001b[0m]      │\n",
       "│ (\u001b[38;5;33mSequential\u001b[0m)        │                   │            │                   │\n",
       "├─────────────────────┼───────────────────┼────────────┼───────────────────┤\n",
       "│ add (\u001b[38;5;33mAdd\u001b[0m)           │ (\u001b[38;5;45mNone\u001b[0m, \u001b[38;5;34m60\u001b[0m, \u001b[38;5;34m64\u001b[0m)    │          \u001b[38;5;34m0\u001b[0m │ conv1d[\u001b[38;5;34m0\u001b[0m][\u001b[38;5;34m0\u001b[0m],     │\n",
       "│                     │                   │            │ sequential[\u001b[38;5;34m0\u001b[0m][\u001b[38;5;34m0\u001b[0m]  │\n",
       "├─────────────────────┼───────────────────┼────────────┼───────────────────┤\n",
       "│ global_average_poo… │ (\u001b[38;5;45mNone\u001b[0m, \u001b[38;5;34m1\u001b[0m, \u001b[38;5;34m64\u001b[0m)     │          \u001b[38;5;34m0\u001b[0m │ sequential[\u001b[38;5;34m0\u001b[0m][\u001b[38;5;34m0\u001b[0m]  │\n",
       "│ (\u001b[38;5;33mGlobalAveragePool…\u001b[0m │                   │            │                   │\n",
       "├─────────────────────┼───────────────────┼────────────┼───────────────────┤\n",
       "│ add_1 (\u001b[38;5;33mAdd\u001b[0m)         │ (\u001b[38;5;45mNone\u001b[0m, \u001b[38;5;34m60\u001b[0m, \u001b[38;5;34m64\u001b[0m)    │          \u001b[38;5;34m0\u001b[0m │ add[\u001b[38;5;34m0\u001b[0m][\u001b[38;5;34m0\u001b[0m],        │\n",
       "│                     │                   │            │ global_average_p… │\n",
       "├─────────────────────┼───────────────────┼────────────┼───────────────────┤\n",
       "│ batch_normalizatio… │ (\u001b[38;5;45mNone\u001b[0m, \u001b[38;5;34m60\u001b[0m, \u001b[38;5;34m64\u001b[0m)    │        \u001b[38;5;34m256\u001b[0m │ add_1[\u001b[38;5;34m0\u001b[0m][\u001b[38;5;34m0\u001b[0m]       │\n",
       "│ (\u001b[38;5;33mBatchNormalizatio…\u001b[0m │                   │            │                   │\n",
       "├─────────────────────┼───────────────────┼────────────┼───────────────────┤\n",
       "│ sequential_1        │ (\u001b[38;5;45mNone\u001b[0m, \u001b[38;5;34m60\u001b[0m, \u001b[38;5;34m64\u001b[0m)    │    \u001b[38;5;34m174,272\u001b[0m │ batch_normalizat… │\n",
       "│ (\u001b[38;5;33mSequential\u001b[0m)        │                   │            │                   │\n",
       "├─────────────────────┼───────────────────┼────────────┼───────────────────┤\n",
       "│ add_2 (\u001b[38;5;33mAdd\u001b[0m)         │ (\u001b[38;5;45mNone\u001b[0m, \u001b[38;5;34m60\u001b[0m, \u001b[38;5;34m64\u001b[0m)    │          \u001b[38;5;34m0\u001b[0m │ batch_normalizat… │\n",
       "│                     │                   │            │ sequential_1[\u001b[38;5;34m0\u001b[0m][\u001b[38;5;34m…\u001b[0m │\n",
       "├─────────────────────┼───────────────────┼────────────┼───────────────────┤\n",
       "│ conv1d_7 (\u001b[38;5;33mConv1D\u001b[0m)   │ (\u001b[38;5;45mNone\u001b[0m, \u001b[38;5;34m60\u001b[0m, \u001b[38;5;34m14\u001b[0m)    │        \u001b[38;5;34m910\u001b[0m │ add_2[\u001b[38;5;34m0\u001b[0m][\u001b[38;5;34m0\u001b[0m]       │\n",
       "├─────────────────────┼───────────────────┼────────────┼───────────────────┤\n",
       "│ get_item_3          │ (\u001b[38;5;45mNone\u001b[0m, \u001b[38;5;34m60\u001b[0m, \u001b[38;5;34m6\u001b[0m)     │          \u001b[38;5;34m0\u001b[0m │ conv1d_7[\u001b[38;5;34m0\u001b[0m][\u001b[38;5;34m0\u001b[0m]    │\n",
       "│ (\u001b[38;5;33mGetItem\u001b[0m)           │                   │            │                   │\n",
       "├─────────────────────┼───────────────────┼────────────┼───────────────────┤\n",
       "│ transpose           │ (\u001b[38;5;45mNone\u001b[0m, \u001b[38;5;34m6\u001b[0m, \u001b[38;5;34m60\u001b[0m)     │          \u001b[38;5;34m0\u001b[0m │ get_item_3[\u001b[38;5;34m0\u001b[0m][\u001b[38;5;34m0\u001b[0m]  │\n",
       "│ (\u001b[38;5;33mTranspose\u001b[0m)         │                   │            │                   │\n",
       "├─────────────────────┼───────────────────┼────────────┼───────────────────┤\n",
       "│ get_item_4          │ (\u001b[38;5;45mNone\u001b[0m, \u001b[38;5;34m60\u001b[0m, \u001b[38;5;34m8\u001b[0m)     │          \u001b[38;5;34m0\u001b[0m │ conv1d_7[\u001b[38;5;34m0\u001b[0m][\u001b[38;5;34m0\u001b[0m]    │\n",
       "│ (\u001b[38;5;33mGetItem\u001b[0m)           │                   │            │                   │\n",
       "├─────────────────────┼───────────────────┼────────────┼───────────────────┤\n",
       "│ flatten (\u001b[38;5;33mFlatten\u001b[0m)   │ (\u001b[38;5;45mNone\u001b[0m, \u001b[38;5;34m360\u001b[0m)       │          \u001b[38;5;34m0\u001b[0m │ transpose[\u001b[38;5;34m0\u001b[0m][\u001b[38;5;34m0\u001b[0m]   │\n",
       "├─────────────────────┼───────────────────┼────────────┼───────────────────┤\n",
       "│ mean (\u001b[38;5;33mMean\u001b[0m)         │ (\u001b[38;5;45mNone\u001b[0m, \u001b[38;5;34m8\u001b[0m)         │          \u001b[38;5;34m0\u001b[0m │ get_item_4[\u001b[38;5;34m0\u001b[0m][\u001b[38;5;34m0\u001b[0m]  │\n",
       "├─────────────────────┼───────────────────┼────────────┼───────────────────┤\n",
       "│ concatenate_1       │ (\u001b[38;5;45mNone\u001b[0m, \u001b[38;5;34m368\u001b[0m)       │          \u001b[38;5;34m0\u001b[0m │ flatten[\u001b[38;5;34m0\u001b[0m][\u001b[38;5;34m0\u001b[0m],    │\n",
       "│ (\u001b[38;5;33mConcatenate\u001b[0m)       │                   │            │ mean[\u001b[38;5;34m0\u001b[0m][\u001b[38;5;34m0\u001b[0m]        │\n",
       "└─────────────────────┴───────────────────┴────────────┴───────────────────┘\n"
      ]
     },
     "metadata": {},
     "output_type": "display_data"
    },
    {
     "data": {
      "text/html": [
       "<pre style=\"white-space:pre;overflow-x:auto;line-height:normal;font-family:Menlo,'DejaVu Sans Mono',consolas,'Courier New',monospace\"><span style=\"font-weight: bold\"> Total params: </span><span style=\"color: #00af00; text-decoration-color: #00af00\">351,374</span> (1.34 MB)\n",
       "</pre>\n"
      ],
      "text/plain": [
       "\u001b[1m Total params: \u001b[0m\u001b[38;5;34m351,374\u001b[0m (1.34 MB)\n"
      ]
     },
     "metadata": {},
     "output_type": "display_data"
    },
    {
     "data": {
      "text/html": [
       "<pre style=\"white-space:pre;overflow-x:auto;line-height:normal;font-family:Menlo,'DejaVu Sans Mono',consolas,'Courier New',monospace\"><span style=\"font-weight: bold\"> Trainable params: </span><span style=\"color: #00af00; text-decoration-color: #00af00\">349,454</span> (1.33 MB)\n",
       "</pre>\n"
      ],
      "text/plain": [
       "\u001b[1m Trainable params: \u001b[0m\u001b[38;5;34m349,454\u001b[0m (1.33 MB)\n"
      ]
     },
     "metadata": {},
     "output_type": "display_data"
    },
    {
     "data": {
      "text/html": [
       "<pre style=\"white-space:pre;overflow-x:auto;line-height:normal;font-family:Menlo,'DejaVu Sans Mono',consolas,'Courier New',monospace\"><span style=\"font-weight: bold\"> Non-trainable params: </span><span style=\"color: #00af00; text-decoration-color: #00af00\">1,920</span> (7.50 KB)\n",
       "</pre>\n"
      ],
      "text/plain": [
       "\u001b[1m Non-trainable params: \u001b[0m\u001b[38;5;34m1,920\u001b[0m (7.50 KB)\n"
      ]
     },
     "metadata": {},
     "output_type": "display_data"
    }
   ],
   "source": [
    "from tensorflow.keras import layers\n",
    "from tensorflow.keras import models\n",
    "def build_cnn(activation='relu'):    \n",
    "    return tf.keras.Sequential([\n",
    "        tf.keras.layers.Conv1D(256, 3, padding='same', activation=activation),\n",
    "        tf.keras.layers.BatchNormalization(),\n",
    "        tf.keras.layers.Conv1D(128, 3, padding='same', activation=activation),\n",
    "        tf.keras.layers.BatchNormalization(),\n",
    "        tf.keras.layers.Conv1D(64, 3, padding='same', activation=activation),\n",
    "        tf.keras.layers.BatchNormalization(),\n",
    "    ])\n",
    "\n",
    "# Define the input\n",
    "input_tensor = tf.keras.Input(shape=(556,))\n",
    "\n",
    "# input_tensor = tf.keras.Normalization(mean = mean_X, variance = variance_X)(input_tensor)\n",
    "# Extract the first 360 rows, reshape to (6, 60), and transpose to (60, 6)\n",
    "x1 = layers.Reshape((6, 60))(input_tensor[:, :360])\n",
    "x1 = layers.Permute((2, 1))(x1)  # Transpose to (60, 6)\n",
    "# Extract the next 120 rows, reshape to (2, 60), and transpose to (60, 2)\n",
    "x2 = layers.Reshape((3, 60))(input_tensor[:, 376:556])\n",
    "x2 = layers.Permute((2, 1))(x2)  # Transpose to (60, 2)\n",
    "# Extract the remaining rows, reshape to (1, 10), and transpose to (60, 10)\n",
    "x3 = layers.Reshape((1, 16))(input_tensor[:, 360:376])\n",
    "x3 = layers.Lambda(lambda x: tf.tile(x, [1, 60, 1]))(x3)  # Duplicate the last 10 values 60 times to match (60, 10)\n",
    "# Concatenate the reshaped tensors along the last axis to get (60, 18)\n",
    "concatenated = layers.Concatenate(axis=-1)([x1, x2, x3])\n",
    "\n",
    "# conv64 = layers.Conv1D(filters=64, kernel_size=3, activation='relu', padding='same')(concatenated)\n",
    "# conv3 = build_cnn(conv64)\n",
    "# pool1 = layers.GlobalAveragePooling1D(keepdims=True)(conv3)\n",
    "# pool2 = conv64 + conv3 + pool1\n",
    "# pool2 = layers.BatchNormalization()(pool2)\n",
    "# pool2 = pool2 + build_cnn(pool2);\n",
    "\n",
    "# conv14 = layers.Conv1D(filters=14, kernel_size=1, padding='same')(pool2)\n",
    "# p_seq = conv14[:, :, :6]\n",
    "# p_seq = tf.keras.ops.transpose(p_seq, (0, 2, 1))\n",
    "# p_seq = tf.keras.layers.Flatten()(p_seq)\n",
    "\n",
    "# p_flat = conv14[:, :, 6:6 + 8]\n",
    "# p_flat = tf.keras.ops.mean(p_flat, axis=1)\n",
    "e = e0 = tf.keras.layers.Conv1D(64, 1, padding='same')(concatenated)\n",
    "e = build_cnn()(e)\n",
    "# add global average to allow some comunication between all levels even in a small CNN\n",
    "e = e0 + e + tf.keras.layers.GlobalAveragePooling1D(keepdims=True)(e)\n",
    "e = tf.keras.layers.BatchNormalization()(e)\n",
    "e = e + build_cnn()(e)\n",
    "\n",
    "\n",
    "p_all = tf.keras.layers.Conv1D(14, 1, padding='same')(e)\n",
    "\n",
    "p_seq = p_all[:, :, :6]\n",
    "p_seq = tf.keras.ops.transpose(p_seq, (0, 2, 1))\n",
    "p_seq = tf.keras.layers.Flatten()(p_seq)\n",
    "assert p_seq.shape[-1] == 360\n",
    "\n",
    "p_flat = p_all[:, :, 6:6 + 8]\n",
    "p_flat = tf.keras.ops.mean(p_flat, axis=1)\n",
    "assert p_flat.shape[-1] == 8\n",
    "\n",
    "P = tf.keras.ops.concatenate([p_seq, p_flat], axis=1)\n",
    "\n",
    "# Define the model\n",
    "model = models.Model(inputs=input_tensor, outputs=P)\n",
    "\n",
    "# Print the model summary\n",
    "model.summary()"
   ]
  },
  {
   "cell_type": "code",
   "execution_count": 17,
   "id": "ce04809a",
   "metadata": {
    "execution": {
     "iopub.execute_input": "2024-06-12T02:55:52.477861Z",
     "iopub.status.busy": "2024-06-12T02:55:52.477524Z",
     "iopub.status.idle": "2024-06-12T02:55:52.482028Z",
     "shell.execute_reply": "2024-06-12T02:55:52.481075Z"
    },
    "papermill": {
     "duration": 0.018196,
     "end_time": "2024-06-12T02:55:52.483954",
     "exception": false,
     "start_time": "2024-06-12T02:55:52.465758",
     "status": "completed"
    },
    "tags": []
   },
   "outputs": [],
   "source": [
    "# epochs = 20\n",
    "# learning_rate = 1e-3\n",
    "# BATCH_SIZE = 4096\n",
    "# epochs_warmup = 1\n",
    "# epochs_ending = 2\n",
    "# steps_per_epoch = int(10 * 100_000 / BATCH_SIZE)\n",
    "\n",
    "# lr_scheduler = tf.keras.optimizers.schedules.CosineDecay(\n",
    "#     1e-4, \n",
    "#     (epochs - epochs_warmup - epochs_ending) * steps_per_epoch, \n",
    "#     warmup_target=learning_rate,\n",
    "#     warmup_steps=steps_per_epoch * epochs_warmup,\n",
    "#     alpha=0.1\n",
    "# )\n",
    "\n",
    "# plt.plot([lr_scheduler(it) for it in range(0, epochs * steps_per_epoch, steps_per_epoch)]);"
   ]
  },
  {
   "cell_type": "markdown",
   "id": "52ae2aa3",
   "metadata": {
    "papermill": {
     "duration": 0.010153,
     "end_time": "2024-06-12T02:55:52.504314",
     "exception": false,
     "start_time": "2024-06-12T02:55:52.494161",
     "status": "completed"
    },
    "tags": []
   },
   "source": [
    "# TRAINING"
   ]
  },
  {
   "cell_type": "code",
   "execution_count": 18,
   "id": "b0d51bc5",
   "metadata": {
    "execution": {
     "iopub.execute_input": "2024-06-12T02:55:52.526347Z",
     "iopub.status.busy": "2024-06-12T02:55:52.526023Z",
     "iopub.status.idle": "2024-06-12T03:07:42.966620Z",
     "shell.execute_reply": "2024-06-12T03:07:42.965487Z"
    },
    "papermill": {
     "duration": 710.454048,
     "end_time": "2024-06-12T03:07:42.968896",
     "exception": false,
     "start_time": "2024-06-12T02:55:52.514848",
     "status": "completed"
    },
    "tags": []
   },
   "outputs": [
    {
     "name": "stdout",
     "output_type": "stream",
     "text": [
      "Epoch 1/15\n",
      "\u001b[1m  1/235\u001b[0m \u001b[37m━━━━━━━━━━━━━━━━━━━━\u001b[0m \u001b[1m1:47:24\u001b[0m 28s/step - loss: 4.8180"
     ]
    },
    {
     "name": "stderr",
     "output_type": "stream",
     "text": [
      "WARNING: All log messages before absl::InitializeLog() is called are written to STDERR\n",
      "I0000 00:00:1718160982.958324      73 device_compiler.h:186] Compiled cluster using XLA!  This line is logged at most once for the lifetime of the process.\n"
     ]
    },
    {
     "name": "stdout",
     "output_type": "stream",
     "text": [
      "\u001b[1m235/235\u001b[0m \u001b[32m━━━━━━━━━━━━━━━━━━━━\u001b[0m\u001b[37m\u001b[0m \u001b[1m85s\u001b[0m 247ms/step - loss: 0.9211 - val_loss: 0.5526\n",
      "Epoch 2/15\n",
      "\u001b[1m235/235\u001b[0m \u001b[32m━━━━━━━━━━━━━━━━━━━━\u001b[0m\u001b[37m\u001b[0m \u001b[1m44s\u001b[0m 189ms/step - loss: 0.5875 - val_loss: 0.4776\n",
      "Epoch 3/15\n",
      "\u001b[1m235/235\u001b[0m \u001b[32m━━━━━━━━━━━━━━━━━━━━\u001b[0m\u001b[37m\u001b[0m \u001b[1m44s\u001b[0m 189ms/step - loss: 0.5342 - val_loss: 0.4384\n",
      "Epoch 4/15\n",
      "\u001b[1m235/235\u001b[0m \u001b[32m━━━━━━━━━━━━━━━━━━━━\u001b[0m\u001b[37m\u001b[0m \u001b[1m44s\u001b[0m 189ms/step - loss: 0.4939 - val_loss: 0.4181\n",
      "Epoch 5/15\n",
      "\u001b[1m235/235\u001b[0m \u001b[32m━━━━━━━━━━━━━━━━━━━━\u001b[0m\u001b[37m\u001b[0m \u001b[1m44s\u001b[0m 189ms/step - loss: 0.4756 - val_loss: 0.3978\n",
      "Epoch 6/15\n",
      "\u001b[1m235/235\u001b[0m \u001b[32m━━━━━━━━━━━━━━━━━━━━\u001b[0m\u001b[37m\u001b[0m \u001b[1m44s\u001b[0m 189ms/step - loss: 0.4583 - val_loss: 0.3808\n",
      "Epoch 7/15\n",
      "\u001b[1m235/235\u001b[0m \u001b[32m━━━━━━━━━━━━━━━━━━━━\u001b[0m\u001b[37m\u001b[0m \u001b[1m44s\u001b[0m 189ms/step - loss: 0.4432 - val_loss: 0.3760\n",
      "Epoch 8/15\n",
      "\u001b[1m235/235\u001b[0m \u001b[32m━━━━━━━━━━━━━━━━━━━━\u001b[0m\u001b[37m\u001b[0m \u001b[1m44s\u001b[0m 189ms/step - loss: 0.4379 - val_loss: 0.3707\n",
      "Epoch 9/15\n",
      "\u001b[1m235/235\u001b[0m \u001b[32m━━━━━━━━━━━━━━━━━━━━\u001b[0m\u001b[37m\u001b[0m \u001b[1m44s\u001b[0m 189ms/step - loss: 0.4280 - val_loss: 0.3621\n",
      "Epoch 10/15\n",
      "\u001b[1m235/235\u001b[0m \u001b[32m━━━━━━━━━━━━━━━━━━━━\u001b[0m\u001b[37m\u001b[0m \u001b[1m44s\u001b[0m 189ms/step - loss: 0.4220 - val_loss: 0.3596\n",
      "Epoch 11/15\n",
      "\u001b[1m235/235\u001b[0m \u001b[32m━━━━━━━━━━━━━━━━━━━━\u001b[0m\u001b[37m\u001b[0m \u001b[1m44s\u001b[0m 189ms/step - loss: 0.4251 - val_loss: 0.3550\n",
      "Epoch 12/15\n",
      "\u001b[1m235/235\u001b[0m \u001b[32m━━━━━━━━━━━━━━━━━━━━\u001b[0m\u001b[37m\u001b[0m \u001b[1m44s\u001b[0m 188ms/step - loss: 0.4141 - val_loss: 0.3502\n",
      "Epoch 13/15\n",
      "\u001b[1m235/235\u001b[0m \u001b[32m━━━━━━━━━━━━━━━━━━━━\u001b[0m\u001b[37m\u001b[0m \u001b[1m44s\u001b[0m 189ms/step - loss: 0.3983 - val_loss: 0.3544\n",
      "Epoch 14/15\n",
      "\u001b[1m235/235\u001b[0m \u001b[32m━━━━━━━━━━━━━━━━━━━━\u001b[0m\u001b[37m\u001b[0m \u001b[1m44s\u001b[0m 189ms/step - loss: 0.3974 - val_loss: 0.3413\n",
      "Epoch 15/15\n",
      "\u001b[1m235/235\u001b[0m \u001b[32m━━━━━━━━━━━━━━━━━━━━\u001b[0m\u001b[37m\u001b[0m \u001b[1m44s\u001b[0m 189ms/step - loss: 0.3891 - val_loss: 0.3382\n"
     ]
    },
    {
     "data": {
      "text/plain": [
       "<keras.src.callbacks.history.History at 0x7dddb0052e30>"
      ]
     },
     "execution_count": 18,
     "metadata": {},
     "output_type": "execute_result"
    }
   ],
   "source": [
    "model.compile(optimizer='adam', loss='mse')\n",
    "model.fit(X_train, y_train, epochs=15, batch_size=4096, validation_split=0.2)"
   ]
  },
  {
   "cell_type": "code",
   "execution_count": 19,
   "id": "4d104df6",
   "metadata": {
    "execution": {
     "iopub.execute_input": "2024-06-12T03:07:43.581411Z",
     "iopub.status.busy": "2024-06-12T03:07:43.581049Z",
     "iopub.status.idle": "2024-06-12T03:07:43.858784Z",
     "shell.execute_reply": "2024-06-12T03:07:43.857836Z"
    },
    "papermill": {
     "duration": 0.585218,
     "end_time": "2024-06-12T03:07:43.860723",
     "exception": false,
     "start_time": "2024-06-12T03:07:43.275505",
     "status": "completed"
    },
    "tags": []
   },
   "outputs": [
    {
     "data": {
      "text/plain": [
       "752"
      ]
     },
     "execution_count": 19,
     "metadata": {},
     "output_type": "execute_result"
    }
   ],
   "source": [
    "gc.collect()"
   ]
  },
  {
   "cell_type": "markdown",
   "id": "280f27da",
   "metadata": {
    "papermill": {
     "duration": 0.298451,
     "end_time": "2024-06-12T03:07:44.461701",
     "exception": false,
     "start_time": "2024-06-12T03:07:44.163250",
     "status": "completed"
    },
    "tags": []
   },
   "source": [
    "# Cross Validation"
   ]
  },
  {
   "cell_type": "code",
   "execution_count": 20,
   "id": "c538ca91",
   "metadata": {
    "execution": {
     "iopub.execute_input": "2024-06-12T03:07:45.057012Z",
     "iopub.status.busy": "2024-06-12T03:07:45.056645Z",
     "iopub.status.idle": "2024-06-12T03:07:45.061248Z",
     "shell.execute_reply": "2024-06-12T03:07:45.060391Z"
    },
    "papermill": {
     "duration": 0.305661,
     "end_time": "2024-06-12T03:07:45.063227",
     "exception": false,
     "start_time": "2024-06-12T03:07:44.757566",
     "status": "completed"
    },
    "tags": []
   },
   "outputs": [],
   "source": [
    "# valid = pd.read_csv(\"/kaggle/input/leap-atmospheric-physics-ai-climsim/train.csv\", nrows = 100000, skiprows = 1200000, header = 0)\n",
    "# X_valid = tf.convert_to_tensor(valid[valid.columns[1:557]], dtype=tf.float32)\n",
    "# y_valid = tf.convert_to_tensor(valid[valid.columns[557:]], dtype=tf.float32)\n",
    "\n",
    "# X_valid = normalizer_X(X_valid)\n",
    "# y_valid = (y_valid - mean_y) / stddev_y\n",
    "\n",
    "# predictions = model.predict(X_valid)"
   ]
  },
  {
   "cell_type": "code",
   "execution_count": 21,
   "id": "9463df55",
   "metadata": {
    "execution": {
     "iopub.execute_input": "2024-06-12T03:07:45.720814Z",
     "iopub.status.busy": "2024-06-12T03:07:45.720319Z",
     "iopub.status.idle": "2024-06-12T03:07:45.725029Z",
     "shell.execute_reply": "2024-06-12T03:07:45.724104Z"
    },
    "papermill": {
     "duration": 0.354916,
     "end_time": "2024-06-12T03:07:45.727057",
     "exception": false,
     "start_time": "2024-06-12T03:07:45.372141",
     "status": "completed"
    },
    "tags": []
   },
   "outputs": [],
   "source": [
    "# def r2_score_cust(y_true, y_pred):\n",
    "#     # Calculate the mean of the true values\n",
    "#     y_mean = tf.reduce_mean(y_true)\n",
    "#     # Calculate the total sum of squares (SS_tot)\n",
    "#     ss_tot = tf.reduce_sum(tf.square(y_true - y_mean))\n",
    "#     # Calculate the residual sum of squares (SS_res)\n",
    "#     ss_res = tf.reduce_sum(tf.square(y_true - y_pred))\n",
    "#     # Calculate R2 score\n",
    "#     r2 = 1 - (ss_res / ss_tot)\n",
    "#     return r2\n",
    "\n",
    "# # Calculate R2 score\n",
    "# r2 = r2_score_cust(y_valid, predictions)\n",
    "# print(\"R2 Score:\", r2)"
   ]
  },
  {
   "cell_type": "code",
   "execution_count": 22,
   "id": "7797148e",
   "metadata": {
    "execution": {
     "iopub.execute_input": "2024-06-12T03:07:46.338179Z",
     "iopub.status.busy": "2024-06-12T03:07:46.337810Z",
     "iopub.status.idle": "2024-06-12T03:07:46.342341Z",
     "shell.execute_reply": "2024-06-12T03:07:46.341234Z"
    },
    "papermill": {
     "duration": 0.316739,
     "end_time": "2024-06-12T03:07:46.344582",
     "exception": false,
     "start_time": "2024-06-12T03:07:46.027843",
     "status": "completed"
    },
    "tags": []
   },
   "outputs": [],
   "source": [
    "# predictions_tf = tf.convert_to_tensor(predictions)\n",
    "# predic_scaled = predictions * stddev_y.numpy() + mean_y.numpy()"
   ]
  },
  {
   "cell_type": "code",
   "execution_count": 23,
   "id": "f9feaf42",
   "metadata": {
    "execution": {
     "iopub.execute_input": "2024-06-12T03:07:46.946215Z",
     "iopub.status.busy": "2024-06-12T03:07:46.945371Z",
     "iopub.status.idle": "2024-06-12T03:07:46.950040Z",
     "shell.execute_reply": "2024-06-12T03:07:46.948823Z"
    },
    "papermill": {
     "duration": 0.304505,
     "end_time": "2024-06-12T03:07:46.952161",
     "exception": false,
     "start_time": "2024-06-12T03:07:46.647656",
     "status": "completed"
    },
    "tags": []
   },
   "outputs": [],
   "source": [
    "# valid[valid.columns[557:]].head()"
   ]
  },
  {
   "cell_type": "code",
   "execution_count": 24,
   "id": "855a28a3",
   "metadata": {
    "execution": {
     "iopub.execute_input": "2024-06-12T03:07:47.557516Z",
     "iopub.status.busy": "2024-06-12T03:07:47.557148Z",
     "iopub.status.idle": "2024-06-12T03:07:47.561370Z",
     "shell.execute_reply": "2024-06-12T03:07:47.560440Z"
    },
    "papermill": {
     "duration": 0.309729,
     "end_time": "2024-06-12T03:07:47.563234",
     "exception": false,
     "start_time": "2024-06-12T03:07:47.253505",
     "status": "completed"
    },
    "tags": []
   },
   "outputs": [],
   "source": [
    "# # predictions_df = predictions\n",
    "# # predictions_df = predictions_df * stddev + mean\n",
    "# r2 = r2_score(valid[valid.columns[557:]], predic_scaled)\n",
    "# print(\"R2 score after scaling : \",r2)"
   ]
  },
  {
   "cell_type": "code",
   "execution_count": 25,
   "id": "3b2fbfea",
   "metadata": {
    "execution": {
     "iopub.execute_input": "2024-06-12T03:07:48.184082Z",
     "iopub.status.busy": "2024-06-12T03:07:48.183648Z",
     "iopub.status.idle": "2024-06-12T03:07:48.188309Z",
     "shell.execute_reply": "2024-06-12T03:07:48.187400Z"
    },
    "papermill": {
     "duration": 0.323491,
     "end_time": "2024-06-12T03:07:48.190334",
     "exception": false,
     "start_time": "2024-06-12T03:07:47.866843",
     "status": "completed"
    },
    "tags": []
   },
   "outputs": [],
   "source": [
    "del X_train, y_train"
   ]
  },
  {
   "cell_type": "code",
   "execution_count": 26,
   "id": "0468c6e3",
   "metadata": {
    "execution": {
     "iopub.execute_input": "2024-06-12T03:07:48.840164Z",
     "iopub.status.busy": "2024-06-12T03:07:48.839774Z",
     "iopub.status.idle": "2024-06-12T03:14:40.920657Z",
     "shell.execute_reply": "2024-06-12T03:14:40.919749Z"
    },
    "papermill": {
     "duration": 412.391176,
     "end_time": "2024-06-12T03:14:40.923276",
     "exception": false,
     "start_time": "2024-06-12T03:07:48.532100",
     "status": "completed"
    },
    "tags": []
   },
   "outputs": [
    {
     "name": "stdout",
     "output_type": "stream",
     "text": [
      "\u001b[1m19532/19532\u001b[0m \u001b[32m━━━━━━━━━━━━━━━━━━━━\u001b[0m\u001b[37m\u001b[0m \u001b[1m35s\u001b[0m 2ms/step\n"
     ]
    }
   ],
   "source": [
    "test = pl.read_csv('/kaggle/input/leap-atmospheric-physics-ai-climsim/test.csv')\n",
    "\n",
    "X_test = normalizer_X(tf.convert_to_tensor(test[test.columns[1:557]], dtype=tf.float32))\n",
    "submission = model.predict(X_test)\n",
    "\n",
    "submission = pd.DataFrame((submission * stddev_y + mean_y), columns=list(weights.keys()))\n",
    "submission['sample_id'] = test['sample_id']\n",
    "submission = submission[['sample_id'] + list(weights.keys())]\n",
    "\n",
    "for idx in range(12, 30):\n",
    "    submission[f\"ptend_q0002_{idx}\"] = -test[f\"state_q0002_{idx}\"].to_numpy() / 1200\n",
    "\n",
    "for tar in weights:\n",
    "    submission[tar] = submission[tar] * weights[tar]\n",
    "\n",
    "submission.head()\n",
    "\n",
    "submission.to_csv('submission.csv', index=False)"
   ]
  }
 ],
 "metadata": {
  "kaggle": {
   "accelerator": "gpu",
   "dataSources": [
    {
     "databundleVersionId": 8015876,
     "sourceId": 56537,
     "sourceType": "competition"
    },
    {
     "datasetId": 4865495,
     "sourceId": 8425368,
     "sourceType": "datasetVersion"
    },
    {
     "datasetId": 5038421,
     "sourceId": 8454028,
     "sourceType": "datasetVersion"
    },
    {
     "datasetId": 5038576,
     "sourceId": 8454256,
     "sourceType": "datasetVersion"
    }
   ],
   "dockerImageVersionId": 30699,
   "isGpuEnabled": true,
   "isInternetEnabled": true,
   "language": "python",
   "sourceType": "notebook"
  },
  "kernelspec": {
   "display_name": "Python 3",
   "language": "python",
   "name": "python3"
  },
  "language_info": {
   "codemirror_mode": {
    "name": "ipython",
    "version": 3
   },
   "file_extension": ".py",
   "mimetype": "text/x-python",
   "name": "python",
   "nbconvert_exporter": "python",
   "pygments_lexer": "ipython3",
   "version": "3.10.13"
  },
  "papermill": {
   "default_parameters": {},
   "duration": 1243.517621,
   "end_time": "2024-06-12T03:14:44.214228",
   "environment_variables": {},
   "exception": null,
   "input_path": "__notebook__.ipynb",
   "output_path": "__notebook__.ipynb",
   "parameters": {},
   "start_time": "2024-06-12T02:54:00.696607",
   "version": "2.5.0"
  }
 },
 "nbformat": 4,
 "nbformat_minor": 5
}
